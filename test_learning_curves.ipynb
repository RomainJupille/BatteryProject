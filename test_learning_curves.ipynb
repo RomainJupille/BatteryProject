{
 "cells": [
  {
   "cell_type": "code",
   "execution_count": 1,
   "metadata": {},
   "outputs": [],
   "source": [
    "from BatteryProject.ModelOne import trainer"
   ]
  },
  {
   "cell_type": "code",
   "execution_count": 2,
   "metadata": {},
   "outputs": [],
   "source": [
    "import pandas as pd\n",
    "\n",
    "\n",
    "from BatteryProject import data\n",
    "from sklearn.preprocessing import RobustScaler\n",
    "from sklearn.linear_model import LogisticRegression\n",
    "from sklearn.model_selection import GridSearchCV\n",
    "from sklearn.pipeline import Pipeline"
   ]
  },
  {
   "cell_type": "code",
   "execution_count": 3,
   "metadata": {},
   "outputs": [],
   "source": [
    "trainer = trainer.Trainer()"
   ]
  },
  {
   "cell_type": "code",
   "execution_count": 4,
   "metadata": {},
   "outputs": [],
   "source": [
    "features = {\n",
    "        'disc_capa' : 'summary_discharge_capacity.csv',\n",
    "        'dis_ener' : 'summary_discharge_energy.csv',\n",
    "        'temp_avg' : 'summary_temperature_average.csv',\n",
    "        'char_capa' : 'summary_charge_capacity.csv'}"
   ]
  },
  {
   "cell_type": "code",
   "execution_count": 5,
   "metadata": {},
   "outputs": [],
   "source": [
    "trainer.features = features\n",
    "\n"
   ]
  },
  {
   "cell_type": "code",
   "execution_count": 6,
   "metadata": {},
   "outputs": [
    {
     "data": {
      "text/plain": [
       "[550]"
      ]
     },
     "execution_count": 6,
     "metadata": {},
     "output_type": "execute_result"
    }
   ],
   "source": [
    "trainer.classes"
   ]
  },
  {
   "cell_type": "code",
   "execution_count": 7,
   "metadata": {},
   "outputs": [
    {
     "data": {
      "text/plain": [
       "5"
      ]
     },
     "execution_count": 7,
     "metadata": {},
     "output_type": "execute_result"
    }
   ],
   "source": [
    "trainer.deep"
   ]
  },
  {
   "cell_type": "code",
   "execution_count": 8,
   "metadata": {},
   "outputs": [
    {
     "name": "stderr",
     "output_type": "stream",
     "text": [
      "/home/tom/code/TomG13100/BatteryProject/BatteryProject/ModelOne/get_features.py:27: UserWarning: Boolean Series key will be reindexed to match DataFrame index.\n",
      "  df_dict[key] = df_dict[key][filter == 0]\n"
     ]
    },
    {
     "data": {
      "text/plain": [
       "<BatteryProject.ModelOne.trainer.Trainer at 0x7fc8ba80d9a0>"
      ]
     },
     "execution_count": 8,
     "metadata": {},
     "output_type": "execute_result"
    }
   ],
   "source": [
    "trainer.get_data(features)"
   ]
  },
  {
   "cell_type": "code",
   "execution_count": 9,
   "metadata": {},
   "outputs": [
    {
     "data": {
      "text/html": [
       "<div>\n",
       "<style scoped>\n",
       "    .dataframe tbody tr th:only-of-type {\n",
       "        vertical-align: middle;\n",
       "    }\n",
       "\n",
       "    .dataframe tbody tr th {\n",
       "        vertical-align: top;\n",
       "    }\n",
       "\n",
       "    .dataframe thead th {\n",
       "        text-align: right;\n",
       "    }\n",
       "</style>\n",
       "<table border=\"1\" class=\"dataframe\">\n",
       "  <thead>\n",
       "    <tr style=\"text-align: right;\">\n",
       "      <th></th>\n",
       "      <th>disc_capa_0</th>\n",
       "      <th>disc_capa_1</th>\n",
       "      <th>disc_capa_2</th>\n",
       "      <th>disc_capa_3</th>\n",
       "      <th>disc_capa_4</th>\n",
       "      <th>dis_ener_0</th>\n",
       "      <th>dis_ener_1</th>\n",
       "      <th>dis_ener_2</th>\n",
       "      <th>dis_ener_3</th>\n",
       "      <th>dis_ener_4</th>\n",
       "      <th>temp_avg_0</th>\n",
       "      <th>temp_avg_1</th>\n",
       "      <th>temp_avg_2</th>\n",
       "      <th>temp_avg_3</th>\n",
       "      <th>temp_avg_4</th>\n",
       "      <th>char_capa_0</th>\n",
       "      <th>char_capa_1</th>\n",
       "      <th>char_capa_2</th>\n",
       "      <th>char_capa_3</th>\n",
       "      <th>char_capa_4</th>\n",
       "    </tr>\n",
       "  </thead>\n",
       "  <tbody>\n",
       "    <tr>\n",
       "      <th>4</th>\n",
       "      <td>1.678763</td>\n",
       "      <td>1.069159</td>\n",
       "      <td>1.070689</td>\n",
       "      <td>1.071900</td>\n",
       "      <td>1.072510</td>\n",
       "      <td>5.166878</td>\n",
       "      <td>3.254210</td>\n",
       "      <td>3.258802</td>\n",
       "      <td>3.263190</td>\n",
       "      <td>3.265006</td>\n",
       "      <td>29.519066</td>\n",
       "      <td>31.888197</td>\n",
       "      <td>31.875011</td>\n",
       "      <td>31.931490</td>\n",
       "      <td>31.932604</td>\n",
       "      <td>1.123774</td>\n",
       "      <td>1.019853</td>\n",
       "      <td>1.023291</td>\n",
       "      <td>1.022842</td>\n",
       "      <td>1.023315</td>\n",
       "    </tr>\n",
       "    <tr>\n",
       "      <th>71</th>\n",
       "      <td>1.949726</td>\n",
       "      <td>1.064838</td>\n",
       "      <td>1.068205</td>\n",
       "      <td>1.070453</td>\n",
       "      <td>1.071333</td>\n",
       "      <td>6.173080</td>\n",
       "      <td>3.243127</td>\n",
       "      <td>3.246573</td>\n",
       "      <td>3.259565</td>\n",
       "      <td>3.263188</td>\n",
       "      <td>30.280647</td>\n",
       "      <td>32.968811</td>\n",
       "      <td>32.575954</td>\n",
       "      <td>32.742832</td>\n",
       "      <td>33.080105</td>\n",
       "      <td>1.448518</td>\n",
       "      <td>1.074415</td>\n",
       "      <td>1.077906</td>\n",
       "      <td>1.079281</td>\n",
       "      <td>1.080028</td>\n",
       "    </tr>\n",
       "    <tr>\n",
       "      <th>9</th>\n",
       "      <td>1.969953</td>\n",
       "      <td>1.071395</td>\n",
       "      <td>1.074521</td>\n",
       "      <td>1.076363</td>\n",
       "      <td>1.077149</td>\n",
       "      <td>6.233829</td>\n",
       "      <td>3.257201</td>\n",
       "      <td>3.264633</td>\n",
       "      <td>3.273947</td>\n",
       "      <td>3.276133</td>\n",
       "      <td>29.935772</td>\n",
       "      <td>32.246944</td>\n",
       "      <td>31.896320</td>\n",
       "      <td>32.248268</td>\n",
       "      <td>32.457020</td>\n",
       "      <td>1.448440</td>\n",
       "      <td>1.071397</td>\n",
       "      <td>1.074246</td>\n",
       "      <td>1.076030</td>\n",
       "      <td>1.076883</td>\n",
       "    </tr>\n",
       "    <tr>\n",
       "      <th>106</th>\n",
       "      <td>1.554189</td>\n",
       "      <td>1.060875</td>\n",
       "      <td>1.061775</td>\n",
       "      <td>1.062478</td>\n",
       "      <td>1.063071</td>\n",
       "      <td>4.761169</td>\n",
       "      <td>3.228362</td>\n",
       "      <td>3.231853</td>\n",
       "      <td>3.235014</td>\n",
       "      <td>3.237057</td>\n",
       "      <td>31.877169</td>\n",
       "      <td>32.469593</td>\n",
       "      <td>32.441982</td>\n",
       "      <td>32.451855</td>\n",
       "      <td>32.436012</td>\n",
       "      <td>1.028573</td>\n",
       "      <td>1.079694</td>\n",
       "      <td>1.081860</td>\n",
       "      <td>1.083108</td>\n",
       "      <td>1.083706</td>\n",
       "    </tr>\n",
       "    <tr>\n",
       "      <th>129</th>\n",
       "      <td>1.564024</td>\n",
       "      <td>1.067879</td>\n",
       "      <td>1.067856</td>\n",
       "      <td>1.068022</td>\n",
       "      <td>1.068105</td>\n",
       "      <td>4.803317</td>\n",
       "      <td>3.261651</td>\n",
       "      <td>3.262215</td>\n",
       "      <td>3.263505</td>\n",
       "      <td>3.264150</td>\n",
       "      <td>32.178303</td>\n",
       "      <td>34.624020</td>\n",
       "      <td>34.638020</td>\n",
       "      <td>34.632065</td>\n",
       "      <td>34.633034</td>\n",
       "      <td>1.057551</td>\n",
       "      <td>1.058711</td>\n",
       "      <td>1.059994</td>\n",
       "      <td>1.060953</td>\n",
       "      <td>1.061688</td>\n",
       "    </tr>\n",
       "    <tr>\n",
       "      <th>...</th>\n",
       "      <td>...</td>\n",
       "      <td>...</td>\n",
       "      <td>...</td>\n",
       "      <td>...</td>\n",
       "      <td>...</td>\n",
       "      <td>...</td>\n",
       "      <td>...</td>\n",
       "      <td>...</td>\n",
       "      <td>...</td>\n",
       "      <td>...</td>\n",
       "      <td>...</td>\n",
       "      <td>...</td>\n",
       "      <td>...</td>\n",
       "      <td>...</td>\n",
       "      <td>...</td>\n",
       "      <td>...</td>\n",
       "      <td>...</td>\n",
       "      <td>...</td>\n",
       "      <td>...</td>\n",
       "      <td>...</td>\n",
       "    </tr>\n",
       "    <tr>\n",
       "      <th>87</th>\n",
       "      <td>1.676797</td>\n",
       "      <td>1.068212</td>\n",
       "      <td>1.070966</td>\n",
       "      <td>1.072108</td>\n",
       "      <td>1.072483</td>\n",
       "      <td>5.156089</td>\n",
       "      <td>3.246984</td>\n",
       "      <td>3.255838</td>\n",
       "      <td>3.259153</td>\n",
       "      <td>3.260862</td>\n",
       "      <td>29.785574</td>\n",
       "      <td>33.178627</td>\n",
       "      <td>33.187717</td>\n",
       "      <td>33.218983</td>\n",
       "      <td>33.219997</td>\n",
       "      <td>1.440095</td>\n",
       "      <td>1.068062</td>\n",
       "      <td>1.070990</td>\n",
       "      <td>1.071949</td>\n",
       "      <td>1.072570</td>\n",
       "    </tr>\n",
       "    <tr>\n",
       "      <th>40</th>\n",
       "      <td>1.666167</td>\n",
       "      <td>1.066294</td>\n",
       "      <td>1.068239</td>\n",
       "      <td>1.069389</td>\n",
       "      <td>1.070109</td>\n",
       "      <td>5.135186</td>\n",
       "      <td>3.247027</td>\n",
       "      <td>3.252709</td>\n",
       "      <td>3.256313</td>\n",
       "      <td>3.257877</td>\n",
       "      <td>31.005850</td>\n",
       "      <td>33.389481</td>\n",
       "      <td>33.320591</td>\n",
       "      <td>33.329144</td>\n",
       "      <td>33.322193</td>\n",
       "      <td>1.173774</td>\n",
       "      <td>1.091900</td>\n",
       "      <td>1.094660</td>\n",
       "      <td>1.095918</td>\n",
       "      <td>1.096691</td>\n",
       "    </tr>\n",
       "    <tr>\n",
       "      <th>76</th>\n",
       "      <td>1.693029</td>\n",
       "      <td>1.070203</td>\n",
       "      <td>1.072951</td>\n",
       "      <td>1.074008</td>\n",
       "      <td>1.074338</td>\n",
       "      <td>5.220398</td>\n",
       "      <td>3.257595</td>\n",
       "      <td>3.266709</td>\n",
       "      <td>3.270271</td>\n",
       "      <td>3.270901</td>\n",
       "      <td>31.028469</td>\n",
       "      <td>33.512745</td>\n",
       "      <td>33.520634</td>\n",
       "      <td>33.527515</td>\n",
       "      <td>33.519550</td>\n",
       "      <td>1.441334</td>\n",
       "      <td>1.066223</td>\n",
       "      <td>1.070237</td>\n",
       "      <td>1.071492</td>\n",
       "      <td>1.072232</td>\n",
       "    </tr>\n",
       "    <tr>\n",
       "      <th>50</th>\n",
       "      <td>1.542288</td>\n",
       "      <td>1.066573</td>\n",
       "      <td>1.067455</td>\n",
       "      <td>1.068285</td>\n",
       "      <td>1.068708</td>\n",
       "      <td>4.726026</td>\n",
       "      <td>3.250111</td>\n",
       "      <td>3.253550</td>\n",
       "      <td>3.256941</td>\n",
       "      <td>3.258964</td>\n",
       "      <td>30.950054</td>\n",
       "      <td>32.149494</td>\n",
       "      <td>32.106606</td>\n",
       "      <td>32.088512</td>\n",
       "      <td>32.086308</td>\n",
       "      <td>1.158017</td>\n",
       "      <td>1.074682</td>\n",
       "      <td>1.077327</td>\n",
       "      <td>1.078589</td>\n",
       "      <td>1.079203</td>\n",
       "    </tr>\n",
       "    <tr>\n",
       "      <th>100</th>\n",
       "      <td>1.532084</td>\n",
       "      <td>1.046423</td>\n",
       "      <td>1.047404</td>\n",
       "      <td>1.048004</td>\n",
       "      <td>1.048561</td>\n",
       "      <td>4.692047</td>\n",
       "      <td>3.182993</td>\n",
       "      <td>3.186835</td>\n",
       "      <td>3.189699</td>\n",
       "      <td>3.191716</td>\n",
       "      <td>31.436888</td>\n",
       "      <td>33.808918</td>\n",
       "      <td>33.816132</td>\n",
       "      <td>33.830364</td>\n",
       "      <td>33.820766</td>\n",
       "      <td>1.441822</td>\n",
       "      <td>1.068160</td>\n",
       "      <td>1.072193</td>\n",
       "      <td>1.073916</td>\n",
       "      <td>1.074687</td>\n",
       "    </tr>\n",
       "  </tbody>\n",
       "</table>\n",
       "<p>93 rows × 20 columns</p>\n",
       "</div>"
      ],
      "text/plain": [
       "     disc_capa_0  disc_capa_1  disc_capa_2  disc_capa_3  disc_capa_4  \\\n",
       "4       1.678763     1.069159     1.070689     1.071900     1.072510   \n",
       "71      1.949726     1.064838     1.068205     1.070453     1.071333   \n",
       "9       1.969953     1.071395     1.074521     1.076363     1.077149   \n",
       "106     1.554189     1.060875     1.061775     1.062478     1.063071   \n",
       "129     1.564024     1.067879     1.067856     1.068022     1.068105   \n",
       "..           ...          ...          ...          ...          ...   \n",
       "87      1.676797     1.068212     1.070966     1.072108     1.072483   \n",
       "40      1.666167     1.066294     1.068239     1.069389     1.070109   \n",
       "76      1.693029     1.070203     1.072951     1.074008     1.074338   \n",
       "50      1.542288     1.066573     1.067455     1.068285     1.068708   \n",
       "100     1.532084     1.046423     1.047404     1.048004     1.048561   \n",
       "\n",
       "     dis_ener_0  dis_ener_1  dis_ener_2  dis_ener_3  dis_ener_4  temp_avg_0  \\\n",
       "4      5.166878    3.254210    3.258802    3.263190    3.265006   29.519066   \n",
       "71     6.173080    3.243127    3.246573    3.259565    3.263188   30.280647   \n",
       "9      6.233829    3.257201    3.264633    3.273947    3.276133   29.935772   \n",
       "106    4.761169    3.228362    3.231853    3.235014    3.237057   31.877169   \n",
       "129    4.803317    3.261651    3.262215    3.263505    3.264150   32.178303   \n",
       "..          ...         ...         ...         ...         ...         ...   \n",
       "87     5.156089    3.246984    3.255838    3.259153    3.260862   29.785574   \n",
       "40     5.135186    3.247027    3.252709    3.256313    3.257877   31.005850   \n",
       "76     5.220398    3.257595    3.266709    3.270271    3.270901   31.028469   \n",
       "50     4.726026    3.250111    3.253550    3.256941    3.258964   30.950054   \n",
       "100    4.692047    3.182993    3.186835    3.189699    3.191716   31.436888   \n",
       "\n",
       "     temp_avg_1  temp_avg_2  temp_avg_3  temp_avg_4  char_capa_0  char_capa_1  \\\n",
       "4     31.888197   31.875011   31.931490   31.932604     1.123774     1.019853   \n",
       "71    32.968811   32.575954   32.742832   33.080105     1.448518     1.074415   \n",
       "9     32.246944   31.896320   32.248268   32.457020     1.448440     1.071397   \n",
       "106   32.469593   32.441982   32.451855   32.436012     1.028573     1.079694   \n",
       "129   34.624020   34.638020   34.632065   34.633034     1.057551     1.058711   \n",
       "..          ...         ...         ...         ...          ...          ...   \n",
       "87    33.178627   33.187717   33.218983   33.219997     1.440095     1.068062   \n",
       "40    33.389481   33.320591   33.329144   33.322193     1.173774     1.091900   \n",
       "76    33.512745   33.520634   33.527515   33.519550     1.441334     1.066223   \n",
       "50    32.149494   32.106606   32.088512   32.086308     1.158017     1.074682   \n",
       "100   33.808918   33.816132   33.830364   33.820766     1.441822     1.068160   \n",
       "\n",
       "     char_capa_2  char_capa_3  char_capa_4  \n",
       "4       1.023291     1.022842     1.023315  \n",
       "71      1.077906     1.079281     1.080028  \n",
       "9       1.074246     1.076030     1.076883  \n",
       "106     1.081860     1.083108     1.083706  \n",
       "129     1.059994     1.060953     1.061688  \n",
       "..           ...          ...          ...  \n",
       "87      1.070990     1.071949     1.072570  \n",
       "40      1.094660     1.095918     1.096691  \n",
       "76      1.070237     1.071492     1.072232  \n",
       "50      1.077327     1.078589     1.079203  \n",
       "100     1.072193     1.073916     1.074687  \n",
       "\n",
       "[93 rows x 20 columns]"
      ]
     },
     "execution_count": 9,
     "metadata": {},
     "output_type": "execute_result"
    }
   ],
   "source": [
    "trainer.X_train"
   ]
  },
  {
   "cell_type": "code",
   "execution_count": 10,
   "metadata": {},
   "outputs": [
    {
     "data": {
      "text/plain": [
       "<BatteryProject.ModelOne.trainer.Trainer at 0x7fc8ba80d9a0>"
      ]
     },
     "execution_count": 10,
     "metadata": {},
     "output_type": "execute_result"
    }
   ],
   "source": [
    "trainer.set_pipeline()"
   ]
  },
  {
   "cell_type": "code",
   "execution_count": 11,
   "metadata": {},
   "outputs": [
    {
     "data": {
      "text/plain": [
       "{'memory': None,\n",
       " 'steps': [('scaler',\n",
       "   RobustScaler(copy=True, quantile_range=(25.0, 75.0), with_centering=True,\n",
       "                with_scaling=True)),\n",
       "  ('model',\n",
       "   LogisticRegression(C=1.0, class_weight=None, dual=False, fit_intercept=True,\n",
       "                      intercept_scaling=1, l1_ratio=None, max_iter=3000,\n",
       "                      multi_class='auto', n_jobs=None, penalty='l2',\n",
       "                      random_state=None, solver='lbfgs', tol=0.0001, verbose=0,\n",
       "                      warm_start=False))],\n",
       " 'verbose': False,\n",
       " 'scaler': RobustScaler(copy=True, quantile_range=(25.0, 75.0), with_centering=True,\n",
       "              with_scaling=True),\n",
       " 'model': LogisticRegression(C=1.0, class_weight=None, dual=False, fit_intercept=True,\n",
       "                    intercept_scaling=1, l1_ratio=None, max_iter=3000,\n",
       "                    multi_class='auto', n_jobs=None, penalty='l2',\n",
       "                    random_state=None, solver='lbfgs', tol=0.0001, verbose=0,\n",
       "                    warm_start=False),\n",
       " 'scaler__copy': True,\n",
       " 'scaler__quantile_range': (25.0, 75.0),\n",
       " 'scaler__with_centering': True,\n",
       " 'scaler__with_scaling': True,\n",
       " 'model__C': 1.0,\n",
       " 'model__class_weight': None,\n",
       " 'model__dual': False,\n",
       " 'model__fit_intercept': True,\n",
       " 'model__intercept_scaling': 1,\n",
       " 'model__l1_ratio': None,\n",
       " 'model__max_iter': 3000,\n",
       " 'model__multi_class': 'auto',\n",
       " 'model__n_jobs': None,\n",
       " 'model__penalty': 'l2',\n",
       " 'model__random_state': None,\n",
       " 'model__solver': 'lbfgs',\n",
       " 'model__tol': 0.0001,\n",
       " 'model__verbose': 0,\n",
       " 'model__warm_start': False}"
      ]
     },
     "execution_count": 11,
     "metadata": {},
     "output_type": "execute_result"
    }
   ],
   "source": [
    "trainer.pipeline.get_params()"
   ]
  },
  {
   "cell_type": "code",
   "execution_count": 12,
   "metadata": {},
   "outputs": [],
   "source": [
    "grid = {'model__penalty' : ['l2', 'none'],\n",
    "        'model__solver' : ['lbfgs', 'sag'],\n",
    "        'model__C' : [0.1, 0.5, 1.0, 5.0, 10.0] }"
   ]
  },
  {
   "cell_type": "code",
   "execution_count": 13,
   "metadata": {},
   "outputs": [
    {
     "name": "stderr",
     "output_type": "stream",
     "text": [
      "/home/tom/.pyenv/versions/3.8.12/envs/lewagon/lib/python3.8/site-packages/sklearn/linear_model/_logistic.py:1502: UserWarning: Setting penalty='none' will ignore the C and l1_ratio parameters\n",
      "  warnings.warn(\n",
      "/home/tom/.pyenv/versions/3.8.12/envs/lewagon/lib/python3.8/site-packages/sklearn/linear_model/_logistic.py:1502: UserWarning: Setting penalty='none' will ignore the C and l1_ratio parameters\n",
      "  warnings.warn(\n",
      "/home/tom/.pyenv/versions/3.8.12/envs/lewagon/lib/python3.8/site-packages/sklearn/linear_model/_logistic.py:1502: UserWarning: Setting penalty='none' will ignore the C and l1_ratio parameters\n",
      "  warnings.warn(\n",
      "/home/tom/.pyenv/versions/3.8.12/envs/lewagon/lib/python3.8/site-packages/sklearn/linear_model/_logistic.py:1502: UserWarning: Setting penalty='none' will ignore the C and l1_ratio parameters\n",
      "  warnings.warn(\n",
      "/home/tom/.pyenv/versions/3.8.12/envs/lewagon/lib/python3.8/site-packages/sklearn/linear_model/_logistic.py:1502: UserWarning: Setting penalty='none' will ignore the C and l1_ratio parameters\n",
      "  warnings.warn(\n",
      "/home/tom/.pyenv/versions/3.8.12/envs/lewagon/lib/python3.8/site-packages/sklearn/linear_model/_logistic.py:1502: UserWarning: Setting penalty='none' will ignore the C and l1_ratio parameters\n",
      "  warnings.warn(\n",
      "/home/tom/.pyenv/versions/3.8.12/envs/lewagon/lib/python3.8/site-packages/sklearn/linear_model/_logistic.py:1502: UserWarning: Setting penalty='none' will ignore the C and l1_ratio parameters\n",
      "  warnings.warn(\n",
      "/home/tom/.pyenv/versions/3.8.12/envs/lewagon/lib/python3.8/site-packages/sklearn/linear_model/_logistic.py:1502: UserWarning: Setting penalty='none' will ignore the C and l1_ratio parameters\n",
      "  warnings.warn(\n",
      "/home/tom/.pyenv/versions/3.8.12/envs/lewagon/lib/python3.8/site-packages/sklearn/linear_model/_logistic.py:1502: UserWarning: Setting penalty='none' will ignore the C and l1_ratio parameters\n",
      "  warnings.warn(\n",
      "/home/tom/.pyenv/versions/3.8.12/envs/lewagon/lib/python3.8/site-packages/sklearn/linear_model/_logistic.py:1502: UserWarning: Setting penalty='none' will ignore the C and l1_ratio parameters\n",
      "  warnings.warn(\n",
      "/home/tom/.pyenv/versions/3.8.12/envs/lewagon/lib/python3.8/site-packages/sklearn/linear_model/_sag.py:329: ConvergenceWarning: The max_iter was reached which means the coef_ did not converge\n",
      "  warnings.warn(\"The max_iter was reached which means \"\n",
      "/home/tom/.pyenv/versions/3.8.12/envs/lewagon/lib/python3.8/site-packages/sklearn/linear_model/_sag.py:329: ConvergenceWarning: The max_iter was reached which means the coef_ did not converge\n",
      "  warnings.warn(\"The max_iter was reached which means \"\n",
      "/home/tom/.pyenv/versions/3.8.12/envs/lewagon/lib/python3.8/site-packages/sklearn/linear_model/_sag.py:329: ConvergenceWarning: The max_iter was reached which means the coef_ did not converge\n",
      "  warnings.warn(\"The max_iter was reached which means \"\n",
      "/home/tom/.pyenv/versions/3.8.12/envs/lewagon/lib/python3.8/site-packages/sklearn/linear_model/_sag.py:329: ConvergenceWarning: The max_iter was reached which means the coef_ did not converge\n",
      "  warnings.warn(\"The max_iter was reached which means \"\n",
      "/home/tom/.pyenv/versions/3.8.12/envs/lewagon/lib/python3.8/site-packages/sklearn/linear_model/_sag.py:329: ConvergenceWarning: The max_iter was reached which means the coef_ did not converge\n",
      "  warnings.warn(\"The max_iter was reached which means \"\n",
      "/home/tom/.pyenv/versions/3.8.12/envs/lewagon/lib/python3.8/site-packages/sklearn/linear_model/_logistic.py:1502: UserWarning: Setting penalty='none' will ignore the C and l1_ratio parameters\n",
      "  warnings.warn(\n",
      "/home/tom/.pyenv/versions/3.8.12/envs/lewagon/lib/python3.8/site-packages/sklearn/linear_model/_logistic.py:1502: UserWarning: Setting penalty='none' will ignore the C and l1_ratio parameters\n",
      "  warnings.warn(\n",
      "/home/tom/.pyenv/versions/3.8.12/envs/lewagon/lib/python3.8/site-packages/sklearn/linear_model/_logistic.py:1502: UserWarning: Setting penalty='none' will ignore the C and l1_ratio parameters\n",
      "  warnings.warn(\n",
      "/home/tom/.pyenv/versions/3.8.12/envs/lewagon/lib/python3.8/site-packages/sklearn/linear_model/_logistic.py:1502: UserWarning: Setting penalty='none' will ignore the C and l1_ratio parameters\n",
      "  warnings.warn(\n",
      "/home/tom/.pyenv/versions/3.8.12/envs/lewagon/lib/python3.8/site-packages/sklearn/linear_model/_logistic.py:1502: UserWarning: Setting penalty='none' will ignore the C and l1_ratio parameters\n",
      "  warnings.warn(\n",
      "/home/tom/.pyenv/versions/3.8.12/envs/lewagon/lib/python3.8/site-packages/sklearn/linear_model/_logistic.py:1502: UserWarning: Setting penalty='none' will ignore the C and l1_ratio parameters\n",
      "  warnings.warn(\n",
      "/home/tom/.pyenv/versions/3.8.12/envs/lewagon/lib/python3.8/site-packages/sklearn/linear_model/_logistic.py:1502: UserWarning: Setting penalty='none' will ignore the C and l1_ratio parameters\n",
      "  warnings.warn(\n",
      "/home/tom/.pyenv/versions/3.8.12/envs/lewagon/lib/python3.8/site-packages/sklearn/linear_model/_logistic.py:1502: UserWarning: Setting penalty='none' will ignore the C and l1_ratio parameters\n",
      "  warnings.warn(\n",
      "/home/tom/.pyenv/versions/3.8.12/envs/lewagon/lib/python3.8/site-packages/sklearn/linear_model/_logistic.py:1502: UserWarning: Setting penalty='none' will ignore the C and l1_ratio parameters\n",
      "  warnings.warn(\n",
      "/home/tom/.pyenv/versions/3.8.12/envs/lewagon/lib/python3.8/site-packages/sklearn/linear_model/_logistic.py:1502: UserWarning: Setting penalty='none' will ignore the C and l1_ratio parameters\n",
      "  warnings.warn(\n",
      "/home/tom/.pyenv/versions/3.8.12/envs/lewagon/lib/python3.8/site-packages/sklearn/linear_model/_sag.py:329: ConvergenceWarning: The max_iter was reached which means the coef_ did not converge\n",
      "  warnings.warn(\"The max_iter was reached which means \"\n",
      "/home/tom/.pyenv/versions/3.8.12/envs/lewagon/lib/python3.8/site-packages/sklearn/linear_model/_sag.py:329: ConvergenceWarning: The max_iter was reached which means the coef_ did not converge\n",
      "  warnings.warn(\"The max_iter was reached which means \"\n",
      "/home/tom/.pyenv/versions/3.8.12/envs/lewagon/lib/python3.8/site-packages/sklearn/linear_model/_sag.py:329: ConvergenceWarning: The max_iter was reached which means the coef_ did not converge\n",
      "  warnings.warn(\"The max_iter was reached which means \"\n",
      "/home/tom/.pyenv/versions/3.8.12/envs/lewagon/lib/python3.8/site-packages/sklearn/linear_model/_sag.py:329: ConvergenceWarning: The max_iter was reached which means the coef_ did not converge\n",
      "  warnings.warn(\"The max_iter was reached which means \"\n",
      "/home/tom/.pyenv/versions/3.8.12/envs/lewagon/lib/python3.8/site-packages/sklearn/linear_model/_sag.py:329: ConvergenceWarning: The max_iter was reached which means the coef_ did not converge\n",
      "  warnings.warn(\"The max_iter was reached which means \"\n",
      "/home/tom/.pyenv/versions/3.8.12/envs/lewagon/lib/python3.8/site-packages/sklearn/linear_model/_sag.py:329: ConvergenceWarning: The max_iter was reached which means the coef_ did not converge\n",
      "  warnings.warn(\"The max_iter was reached which means \"\n",
      "/home/tom/.pyenv/versions/3.8.12/envs/lewagon/lib/python3.8/site-packages/sklearn/linear_model/_logistic.py:1502: UserWarning: Setting penalty='none' will ignore the C and l1_ratio parameters\n",
      "  warnings.warn(\n",
      "/home/tom/.pyenv/versions/3.8.12/envs/lewagon/lib/python3.8/site-packages/sklearn/linear_model/_logistic.py:1502: UserWarning: Setting penalty='none' will ignore the C and l1_ratio parameters\n",
      "  warnings.warn(\n",
      "/home/tom/.pyenv/versions/3.8.12/envs/lewagon/lib/python3.8/site-packages/sklearn/linear_model/_logistic.py:1502: UserWarning: Setting penalty='none' will ignore the C and l1_ratio parameters\n",
      "  warnings.warn(\n",
      "/home/tom/.pyenv/versions/3.8.12/envs/lewagon/lib/python3.8/site-packages/sklearn/linear_model/_logistic.py:1502: UserWarning: Setting penalty='none' will ignore the C and l1_ratio parameters\n",
      "  warnings.warn(\n",
      "/home/tom/.pyenv/versions/3.8.12/envs/lewagon/lib/python3.8/site-packages/sklearn/linear_model/_logistic.py:1502: UserWarning: Setting penalty='none' will ignore the C and l1_ratio parameters\n",
      "  warnings.warn(\n",
      "/home/tom/.pyenv/versions/3.8.12/envs/lewagon/lib/python3.8/site-packages/sklearn/linear_model/_logistic.py:1502: UserWarning: Setting penalty='none' will ignore the C and l1_ratio parameters\n",
      "  warnings.warn(\n",
      "/home/tom/.pyenv/versions/3.8.12/envs/lewagon/lib/python3.8/site-packages/sklearn/linear_model/_logistic.py:1502: UserWarning: Setting penalty='none' will ignore the C and l1_ratio parameters\n",
      "  warnings.warn(\n",
      "/home/tom/.pyenv/versions/3.8.12/envs/lewagon/lib/python3.8/site-packages/sklearn/linear_model/_sag.py:329: ConvergenceWarning: The max_iter was reached which means the coef_ did not converge\n",
      "  warnings.warn(\"The max_iter was reached which means \"\n",
      "/home/tom/.pyenv/versions/3.8.12/envs/lewagon/lib/python3.8/site-packages/sklearn/linear_model/_sag.py:329: ConvergenceWarning: The max_iter was reached which means the coef_ did not converge\n",
      "  warnings.warn(\"The max_iter was reached which means \"\n",
      "/home/tom/.pyenv/versions/3.8.12/envs/lewagon/lib/python3.8/site-packages/sklearn/linear_model/_sag.py:329: ConvergenceWarning: The max_iter was reached which means the coef_ did not converge\n",
      "  warnings.warn(\"The max_iter was reached which means \"\n",
      "/home/tom/.pyenv/versions/3.8.12/envs/lewagon/lib/python3.8/site-packages/sklearn/linear_model/_logistic.py:1502: UserWarning: Setting penalty='none' will ignore the C and l1_ratio parameters\n",
      "  warnings.warn(\n",
      "/home/tom/.pyenv/versions/3.8.12/envs/lewagon/lib/python3.8/site-packages/sklearn/linear_model/_sag.py:329: ConvergenceWarning: The max_iter was reached which means the coef_ did not converge\n",
      "  warnings.warn(\"The max_iter was reached which means \"\n",
      "/home/tom/.pyenv/versions/3.8.12/envs/lewagon/lib/python3.8/site-packages/sklearn/linear_model/_sag.py:329: ConvergenceWarning: The max_iter was reached which means the coef_ did not converge\n",
      "  warnings.warn(\"The max_iter was reached which means \"\n",
      "/home/tom/.pyenv/versions/3.8.12/envs/lewagon/lib/python3.8/site-packages/sklearn/linear_model/_logistic.py:1502: UserWarning: Setting penalty='none' will ignore the C and l1_ratio parameters\n",
      "  warnings.warn(\n",
      "/home/tom/.pyenv/versions/3.8.12/envs/lewagon/lib/python3.8/site-packages/sklearn/linear_model/_logistic.py:1502: UserWarning: Setting penalty='none' will ignore the C and l1_ratio parameters\n",
      "  warnings.warn(\n",
      "/home/tom/.pyenv/versions/3.8.12/envs/lewagon/lib/python3.8/site-packages/sklearn/linear_model/_logistic.py:1502: UserWarning: Setting penalty='none' will ignore the C and l1_ratio parameters\n",
      "  warnings.warn(\n",
      "/home/tom/.pyenv/versions/3.8.12/envs/lewagon/lib/python3.8/site-packages/sklearn/linear_model/_logistic.py:1502: UserWarning: Setting penalty='none' will ignore the C and l1_ratio parameters\n",
      "  warnings.warn(\n",
      "/home/tom/.pyenv/versions/3.8.12/envs/lewagon/lib/python3.8/site-packages/sklearn/linear_model/_logistic.py:1502: UserWarning: Setting penalty='none' will ignore the C and l1_ratio parameters\n",
      "  warnings.warn(\n",
      "/home/tom/.pyenv/versions/3.8.12/envs/lewagon/lib/python3.8/site-packages/sklearn/linear_model/_logistic.py:1502: UserWarning: Setting penalty='none' will ignore the C and l1_ratio parameters\n",
      "  warnings.warn(\n",
      "/home/tom/.pyenv/versions/3.8.12/envs/lewagon/lib/python3.8/site-packages/sklearn/linear_model/_sag.py:329: ConvergenceWarning: The max_iter was reached which means the coef_ did not converge\n",
      "  warnings.warn(\"The max_iter was reached which means \"\n",
      "/home/tom/.pyenv/versions/3.8.12/envs/lewagon/lib/python3.8/site-packages/sklearn/linear_model/_logistic.py:1502: UserWarning: Setting penalty='none' will ignore the C and l1_ratio parameters\n",
      "  warnings.warn(\n",
      "/home/tom/.pyenv/versions/3.8.12/envs/lewagon/lib/python3.8/site-packages/sklearn/linear_model/_logistic.py:1502: UserWarning: Setting penalty='none' will ignore the C and l1_ratio parameters\n",
      "  warnings.warn(\n",
      "/home/tom/.pyenv/versions/3.8.12/envs/lewagon/lib/python3.8/site-packages/sklearn/linear_model/_logistic.py:1502: UserWarning: Setting penalty='none' will ignore the C and l1_ratio parameters\n",
      "  warnings.warn(\n",
      "/home/tom/.pyenv/versions/3.8.12/envs/lewagon/lib/python3.8/site-packages/sklearn/linear_model/_logistic.py:1502: UserWarning: Setting penalty='none' will ignore the C and l1_ratio parameters\n",
      "  warnings.warn(\n",
      "/home/tom/.pyenv/versions/3.8.12/envs/lewagon/lib/python3.8/site-packages/sklearn/linear_model/_sag.py:329: ConvergenceWarning: The max_iter was reached which means the coef_ did not converge\n",
      "  warnings.warn(\"The max_iter was reached which means \"\n",
      "/home/tom/.pyenv/versions/3.8.12/envs/lewagon/lib/python3.8/site-packages/sklearn/linear_model/_logistic.py:1502: UserWarning: Setting penalty='none' will ignore the C and l1_ratio parameters\n",
      "  warnings.warn(\n",
      "/home/tom/.pyenv/versions/3.8.12/envs/lewagon/lib/python3.8/site-packages/sklearn/linear_model/_logistic.py:1502: UserWarning: Setting penalty='none' will ignore the C and l1_ratio parameters\n",
      "  warnings.warn(\n",
      "/home/tom/.pyenv/versions/3.8.12/envs/lewagon/lib/python3.8/site-packages/sklearn/linear_model/_sag.py:329: ConvergenceWarning: The max_iter was reached which means the coef_ did not converge\n",
      "  warnings.warn(\"The max_iter was reached which means \"\n",
      "/home/tom/.pyenv/versions/3.8.12/envs/lewagon/lib/python3.8/site-packages/sklearn/linear_model/_sag.py:329: ConvergenceWarning: The max_iter was reached which means the coef_ did not converge\n",
      "  warnings.warn(\"The max_iter was reached which means \"\n",
      "/home/tom/.pyenv/versions/3.8.12/envs/lewagon/lib/python3.8/site-packages/sklearn/linear_model/_sag.py:329: ConvergenceWarning: The max_iter was reached which means the coef_ did not converge\n",
      "  warnings.warn(\"The max_iter was reached which means \"\n",
      "/home/tom/.pyenv/versions/3.8.12/envs/lewagon/lib/python3.8/site-packages/sklearn/linear_model/_sag.py:329: ConvergenceWarning: The max_iter was reached which means the coef_ did not converge\n",
      "  warnings.warn(\"The max_iter was reached which means \"\n",
      "/home/tom/.pyenv/versions/3.8.12/envs/lewagon/lib/python3.8/site-packages/sklearn/linear_model/_sag.py:329: ConvergenceWarning: The max_iter was reached which means the coef_ did not converge\n",
      "  warnings.warn(\"The max_iter was reached which means \"\n",
      "/home/tom/.pyenv/versions/3.8.12/envs/lewagon/lib/python3.8/site-packages/sklearn/linear_model/_sag.py:329: ConvergenceWarning: The max_iter was reached which means the coef_ did not converge\n",
      "  warnings.warn(\"The max_iter was reached which means \"\n",
      "/home/tom/.pyenv/versions/3.8.12/envs/lewagon/lib/python3.8/site-packages/sklearn/linear_model/_sag.py:329: ConvergenceWarning: The max_iter was reached which means the coef_ did not converge\n",
      "  warnings.warn(\"The max_iter was reached which means \"\n"
     ]
    },
    {
     "data": {
      "text/plain": [
       "<BatteryProject.ModelOne.trainer.Trainer at 0x7fc8ba80d9a0>"
      ]
     },
     "execution_count": 13,
     "metadata": {},
     "output_type": "execute_result"
    }
   ],
   "source": [
    "trainer.run(grid)"
   ]
  },
  {
   "cell_type": "code",
   "execution_count": 14,
   "metadata": {},
   "outputs": [
    {
     "data": {
      "text/plain": [
       "0      True\n",
       "3      True\n",
       "130    True\n",
       "25     True\n",
       "132    True\n",
       "Name: 549, dtype: bool"
      ]
     },
     "execution_count": 14,
     "metadata": {},
     "output_type": "execute_result"
    }
   ],
   "source": [
    "trainer.grid_search.best_estimator_.predict(trainer.X_train.iloc[10:15,:]) == trainer.y_train.iloc[10:15]"
   ]
  },
  {
   "cell_type": "code",
   "execution_count": 15,
   "metadata": {},
   "outputs": [
    {
     "data": {
      "text/plain": [
       "dict_keys(['mean_fit_time', 'std_fit_time', 'mean_score_time', 'std_score_time', 'param_model__C', 'param_model__penalty', 'param_model__solver', 'params', 'split0_test_score', 'split1_test_score', 'split2_test_score', 'split3_test_score', 'split4_test_score', 'mean_test_score', 'std_test_score', 'rank_test_score'])"
      ]
     },
     "execution_count": 15,
     "metadata": {},
     "output_type": "execute_result"
    }
   ],
   "source": [
    "trainer.grid_search.cv_results_.keys()"
   ]
  },
  {
   "cell_type": "code",
   "execution_count": 16,
   "metadata": {},
   "outputs": [
    {
     "data": {
      "text/plain": [
       "{'accuracy': 0.9512195121951219,\n",
       " 'precision': 0.9666666666666667,\n",
       " 'roc_auc': 0.9378787878787879}"
      ]
     },
     "execution_count": 16,
     "metadata": {},
     "output_type": "execute_result"
    }
   ],
   "source": [
    "trainer.eval()"
   ]
  },
  {
   "cell_type": "code",
   "execution_count": 17,
   "metadata": {},
   "outputs": [
    {
     "data": {
      "text/plain": [
       "0.6774193548387096"
      ]
     },
     "execution_count": 17,
     "metadata": {},
     "output_type": "execute_result"
    }
   ],
   "source": [
    "trainer.y_train.mean()"
   ]
  },
  {
   "cell_type": "code",
   "execution_count": 18,
   "metadata": {},
   "outputs": [
    {
     "data": {
      "image/png": "[encoded data removed]",
      "text/plain": [
       "<Figure size 1080x504 with 1 Axes>"
      ]
     },
     "metadata": {
      "needs_background": "light"
     },
     "output_type": "display_data"
    }
   ],
   "source": [
    "trainer.print_learning_curve()"
   ]
  },
  {
   "cell_type": "code",
   "execution_count": null,
   "metadata": {},
   "outputs": [],
   "source": [
    "nb = 1\n",
    "j = f\"denk {nb}\"\n",
    "print(type(j))"
   ]
  },
  {
   "cell_type": "code",
   "execution_count": null,
   "metadata": {},
   "outputs": [],
   "source": []
  }
 ],
 "metadata": {
  "kernelspec": {
   "display_name": "Python 3 (ipykernel)",
   "language": "python",
   "name": "python3"
  },
  "language_info": {
   "codemirror_mode": {
    "name": "ipython",
    "version": 3
   },
   "file_extension": ".py",
   "mimetype": "text/x-python",
   "name": "python",
   "nbconvert_exporter": "python",
   "pygments_lexer": "ipython3",
   "version": "3.8.12"
  },
  "toc": {
   "base_numbering": 1,
   "nav_menu": {},
   "number_sections": true,
   "sideBar": true,
   "skip_h1_title": false,
   "title_cell": "Table of Contents",
   "title_sidebar": "Contents",
   "toc_cell": false,
   "toc_position": {},
   "toc_section_display": true,
   "toc_window_display": false
  },
  "vscode": {
   "interpreter": {
    "hash": "d4876b27052dc26ce51ff7bd22356f05edb098ec8f23ba948ba7d36883e4605e"
   }
  }
 },
 "nbformat": 4,
 "nbformat_minor": 2
}
