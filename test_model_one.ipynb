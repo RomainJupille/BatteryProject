{
 "cells": [
  {
   "cell_type": "code",
   "execution_count": 1,
   "id": "82bae687",
   "metadata": {},
   "outputs": [],
   "source": [
    "from BatteryProject.ModelOne import trainer"
   ]
  },
  {
   "cell_type": "code",
   "execution_count": 2,
   "id": "fa3f0cb3",
   "metadata": {},
   "outputs": [],
   "source": [
    "from sklearn.preprocessing import RobustScaler\n",
    "from sklearn.linear_model import LogisticRegression\n",
    "from sklearn.model_selection import GridSearchCV\n",
    "from sklearn.pipeline import Pipeline"
   ]
  },
  {
   "cell_type": "code",
   "execution_count": 3,
   "id": "7e539453",
   "metadata": {},
   "outputs": [],
   "source": [
    "trainer = trainer.Trainer()"
   ]
  },
  {
   "cell_type": "code",
   "execution_count": 4,
   "id": "835c0bd3",
   "metadata": {},
   "outputs": [],
   "source": [
    "features = {\n",
    "        'disc_capa' : 'summary_discharge_capacity.csv',\n",
    "        'dis_ener' : 'summary_discharge_energy.csv',\n",
    "        'temp_avg' : 'summary_temperature_average.csv',\n",
    "        'char_capa' : 'summary_charge_capacity.csv'}"
   ]
  },
  {
   "cell_type": "code",
   "execution_count": 5,
   "id": "f9063423",
   "metadata": {},
   "outputs": [],
   "source": [
    "trainer.features = features"
   ]
  },
  {
   "cell_type": "code",
   "execution_count": 6,
   "id": "1084cbcf",
   "metadata": {},
   "outputs": [
    {
     "data": {
      "text/plain": [
       "[550]"
      ]
     },
     "execution_count": 6,
     "metadata": {},
     "output_type": "execute_result"
    }
   ],
   "source": [
    "trainer.classes"
   ]
  },
  {
   "cell_type": "code",
   "execution_count": 7,
   "id": "fd5d0848",
   "metadata": {},
   "outputs": [
    {
     "data": {
      "text/plain": [
       "5"
      ]
     },
     "execution_count": 7,
     "metadata": {},
     "output_type": "execute_result"
    }
   ],
   "source": [
    "trainer.deep"
   ]
  },
  {
   "cell_type": "code",
   "execution_count": 8,
   "id": "a7a56f2b",
   "metadata": {},
   "outputs": [
    {
     "data": {
      "text/plain": [
       "<BatteryProject.ModelOne.trainer.Trainer at 0x7f515b94e760>"
      ]
     },
     "execution_count": 8,
     "metadata": {},
     "output_type": "execute_result"
    }
   ],
   "source": [
    "trainer.get_data(features)"
   ]
  },
  {
   "cell_type": "code",
   "execution_count": 9,
   "id": "2a3a3d3b",
   "metadata": {},
   "outputs": [
    {
     "data": {
      "text/html": [
       "<div>\n",
       "<style scoped>\n",
       "    .dataframe tbody tr th:only-of-type {\n",
       "        vertical-align: middle;\n",
       "    }\n",
       "\n",
       "    .dataframe tbody tr th {\n",
       "        vertical-align: top;\n",
       "    }\n",
       "\n",
       "    .dataframe thead th {\n",
       "        text-align: right;\n",
       "    }\n",
       "</style>\n",
       "<table border=\"1\" class=\"dataframe\">\n",
       "  <thead>\n",
       "    <tr style=\"text-align: right;\">\n",
       "      <th></th>\n",
       "      <th>disc_capa_0</th>\n",
       "      <th>disc_capa_1</th>\n",
       "      <th>disc_capa_2</th>\n",
       "      <th>disc_capa_3</th>\n",
       "      <th>disc_capa_4</th>\n",
       "      <th>dis_ener_0</th>\n",
       "      <th>dis_ener_1</th>\n",
       "      <th>dis_ener_2</th>\n",
       "      <th>dis_ener_3</th>\n",
       "      <th>dis_ener_4</th>\n",
       "      <th>temp_avg_0</th>\n",
       "      <th>temp_avg_1</th>\n",
       "      <th>temp_avg_2</th>\n",
       "      <th>temp_avg_3</th>\n",
       "      <th>temp_avg_4</th>\n",
       "      <th>char_capa_0</th>\n",
       "      <th>char_capa_1</th>\n",
       "      <th>char_capa_2</th>\n",
       "      <th>char_capa_3</th>\n",
       "      <th>char_capa_4</th>\n",
       "    </tr>\n",
       "  </thead>\n",
       "  <tbody>\n",
       "    <tr>\n",
       "      <th>98</th>\n",
       "      <td>1.559136</td>\n",
       "      <td>1.062274</td>\n",
       "      <td>1.062889</td>\n",
       "      <td>1.063229</td>\n",
       "      <td>1.063585</td>\n",
       "      <td>4.797898</td>\n",
       "      <td>3.252562</td>\n",
       "      <td>3.255005</td>\n",
       "      <td>3.257560</td>\n",
       "      <td>3.258643</td>\n",
       "      <td>32.607063</td>\n",
       "      <td>36.336994</td>\n",
       "      <td>36.155106</td>\n",
       "      <td>36.285099</td>\n",
       "      <td>36.234791</td>\n",
       "      <td>1.059895</td>\n",
       "      <td>1.061441</td>\n",
       "      <td>1.062226</td>\n",
       "      <td>1.062365</td>\n",
       "      <td>1.062763</td>\n",
       "    </tr>\n",
       "    <tr>\n",
       "      <th>102</th>\n",
       "      <td>1.687598</td>\n",
       "      <td>1.077107</td>\n",
       "      <td>1.079873</td>\n",
       "      <td>1.081349</td>\n",
       "      <td>1.082160</td>\n",
       "      <td>5.201485</td>\n",
       "      <td>3.280481</td>\n",
       "      <td>3.289433</td>\n",
       "      <td>3.294489</td>\n",
       "      <td>3.296491</td>\n",
       "      <td>31.151499</td>\n",
       "      <td>33.482254</td>\n",
       "      <td>33.441372</td>\n",
       "      <td>33.448616</td>\n",
       "      <td>33.390770</td>\n",
       "      <td>1.161049</td>\n",
       "      <td>1.077649</td>\n",
       "      <td>1.080340</td>\n",
       "      <td>1.081733</td>\n",
       "      <td>1.082531</td>\n",
       "    </tr>\n",
       "    <tr>\n",
       "      <th>40</th>\n",
       "      <td>1.666167</td>\n",
       "      <td>1.066294</td>\n",
       "      <td>1.068239</td>\n",
       "      <td>1.069389</td>\n",
       "      <td>1.070109</td>\n",
       "      <td>5.135186</td>\n",
       "      <td>3.247027</td>\n",
       "      <td>3.252709</td>\n",
       "      <td>3.256313</td>\n",
       "      <td>3.257877</td>\n",
       "      <td>31.005850</td>\n",
       "      <td>33.389481</td>\n",
       "      <td>33.320591</td>\n",
       "      <td>33.329144</td>\n",
       "      <td>33.322193</td>\n",
       "      <td>1.150257</td>\n",
       "      <td>1.066728</td>\n",
       "      <td>1.068558</td>\n",
       "      <td>1.069683</td>\n",
       "      <td>1.070222</td>\n",
       "    </tr>\n",
       "    <tr>\n",
       "      <th>24</th>\n",
       "      <td>1.686580</td>\n",
       "      <td>1.076024</td>\n",
       "      <td>1.078961</td>\n",
       "      <td>1.080284</td>\n",
       "      <td>1.081050</td>\n",
       "      <td>5.197236</td>\n",
       "      <td>3.275593</td>\n",
       "      <td>3.284999</td>\n",
       "      <td>3.289629</td>\n",
       "      <td>3.291404</td>\n",
       "      <td>30.983318</td>\n",
       "      <td>33.002758</td>\n",
       "      <td>33.009171</td>\n",
       "      <td>32.990932</td>\n",
       "      <td>32.950893</td>\n",
       "      <td>1.159190</td>\n",
       "      <td>1.076520</td>\n",
       "      <td>1.079409</td>\n",
       "      <td>1.080624</td>\n",
       "      <td>1.081395</td>\n",
       "    </tr>\n",
       "    <tr>\n",
       "      <th>81</th>\n",
       "      <td>1.553757</td>\n",
       "      <td>1.065308</td>\n",
       "      <td>1.066451</td>\n",
       "      <td>1.067147</td>\n",
       "      <td>1.067858</td>\n",
       "      <td>4.778703</td>\n",
       "      <td>3.260909</td>\n",
       "      <td>3.265276</td>\n",
       "      <td>3.268034</td>\n",
       "      <td>3.270885</td>\n",
       "      <td>32.091110</td>\n",
       "      <td>34.856003</td>\n",
       "      <td>34.846958</td>\n",
       "      <td>34.824814</td>\n",
       "      <td>34.836803</td>\n",
       "      <td>1.061801</td>\n",
       "      <td>1.063771</td>\n",
       "      <td>1.065001</td>\n",
       "      <td>1.065963</td>\n",
       "      <td>1.066783</td>\n",
       "    </tr>\n",
       "    <tr>\n",
       "      <th>...</th>\n",
       "      <td>...</td>\n",
       "      <td>...</td>\n",
       "      <td>...</td>\n",
       "      <td>...</td>\n",
       "      <td>...</td>\n",
       "      <td>...</td>\n",
       "      <td>...</td>\n",
       "      <td>...</td>\n",
       "      <td>...</td>\n",
       "      <td>...</td>\n",
       "      <td>...</td>\n",
       "      <td>...</td>\n",
       "      <td>...</td>\n",
       "      <td>...</td>\n",
       "      <td>...</td>\n",
       "      <td>...</td>\n",
       "      <td>...</td>\n",
       "      <td>...</td>\n",
       "      <td>...</td>\n",
       "      <td>...</td>\n",
       "    </tr>\n",
       "    <tr>\n",
       "      <th>133</th>\n",
       "      <td>1.544849</td>\n",
       "      <td>1.050058</td>\n",
       "      <td>1.051451</td>\n",
       "      <td>1.052050</td>\n",
       "      <td>1.052690</td>\n",
       "      <td>4.731004</td>\n",
       "      <td>3.194189</td>\n",
       "      <td>3.199762</td>\n",
       "      <td>3.202612</td>\n",
       "      <td>3.205167</td>\n",
       "      <td>32.177197</td>\n",
       "      <td>35.219952</td>\n",
       "      <td>35.228703</td>\n",
       "      <td>35.165283</td>\n",
       "      <td>35.244637</td>\n",
       "      <td>1.047174</td>\n",
       "      <td>1.048364</td>\n",
       "      <td>1.050240</td>\n",
       "      <td>1.051151</td>\n",
       "      <td>1.052067</td>\n",
       "    </tr>\n",
       "    <tr>\n",
       "      <th>31</th>\n",
       "      <td>1.935458</td>\n",
       "      <td>1.071212</td>\n",
       "      <td>1.074267</td>\n",
       "      <td>1.075095</td>\n",
       "      <td>1.077295</td>\n",
       "      <td>6.125689</td>\n",
       "      <td>3.262904</td>\n",
       "      <td>3.265586</td>\n",
       "      <td>3.275008</td>\n",
       "      <td>3.282392</td>\n",
       "      <td>30.009407</td>\n",
       "      <td>33.221821</td>\n",
       "      <td>32.632202</td>\n",
       "      <td>33.067974</td>\n",
       "      <td>33.389599</td>\n",
       "      <td>1.445671</td>\n",
       "      <td>1.070774</td>\n",
       "      <td>1.074022</td>\n",
       "      <td>1.076026</td>\n",
       "      <td>1.077441</td>\n",
       "    </tr>\n",
       "    <tr>\n",
       "      <th>107</th>\n",
       "      <td>1.959016</td>\n",
       "      <td>1.071893</td>\n",
       "      <td>1.076880</td>\n",
       "      <td>1.078383</td>\n",
       "      <td>1.078977</td>\n",
       "      <td>6.204282</td>\n",
       "      <td>3.256982</td>\n",
       "      <td>3.276563</td>\n",
       "      <td>3.279388</td>\n",
       "      <td>3.280673</td>\n",
       "      <td>30.595510</td>\n",
       "      <td>32.261570</td>\n",
       "      <td>32.696228</td>\n",
       "      <td>32.654785</td>\n",
       "      <td>32.585316</td>\n",
       "      <td>1.448271</td>\n",
       "      <td>1.071720</td>\n",
       "      <td>1.076444</td>\n",
       "      <td>1.077953</td>\n",
       "      <td>1.078590</td>\n",
       "    </tr>\n",
       "    <tr>\n",
       "      <th>8</th>\n",
       "      <td>1.673755</td>\n",
       "      <td>1.076901</td>\n",
       "      <td>1.079723</td>\n",
       "      <td>1.081228</td>\n",
       "      <td>1.081994</td>\n",
       "      <td>5.153187</td>\n",
       "      <td>3.281329</td>\n",
       "      <td>3.290732</td>\n",
       "      <td>3.295289</td>\n",
       "      <td>3.298334</td>\n",
       "      <td>29.878761</td>\n",
       "      <td>30.273266</td>\n",
       "      <td>30.245592</td>\n",
       "      <td>30.313372</td>\n",
       "      <td>30.278313</td>\n",
       "      <td>1.168899</td>\n",
       "      <td>1.076657</td>\n",
       "      <td>1.079315</td>\n",
       "      <td>1.080695</td>\n",
       "      <td>1.081566</td>\n",
       "    </tr>\n",
       "    <tr>\n",
       "      <th>94</th>\n",
       "      <td>1.685792</td>\n",
       "      <td>1.072221</td>\n",
       "      <td>1.074535</td>\n",
       "      <td>1.075514</td>\n",
       "      <td>1.076192</td>\n",
       "      <td>5.193162</td>\n",
       "      <td>3.267780</td>\n",
       "      <td>3.275465</td>\n",
       "      <td>3.279201</td>\n",
       "      <td>3.281572</td>\n",
       "      <td>30.087919</td>\n",
       "      <td>33.380424</td>\n",
       "      <td>33.311852</td>\n",
       "      <td>33.275944</td>\n",
       "      <td>33.309566</td>\n",
       "      <td>1.161849</td>\n",
       "      <td>1.072303</td>\n",
       "      <td>1.074436</td>\n",
       "      <td>1.075283</td>\n",
       "      <td>1.076014</td>\n",
       "    </tr>\n",
       "  </tbody>\n",
       "</table>\n",
       "<p>93 rows × 20 columns</p>\n",
       "</div>"
      ],
      "text/plain": [
       "     disc_capa_0  disc_capa_1  disc_capa_2  disc_capa_3  disc_capa_4  \\\n",
       "98      1.559136     1.062274     1.062889     1.063229     1.063585   \n",
       "102     1.687598     1.077107     1.079873     1.081349     1.082160   \n",
       "40      1.666167     1.066294     1.068239     1.069389     1.070109   \n",
       "24      1.686580     1.076024     1.078961     1.080284     1.081050   \n",
       "81      1.553757     1.065308     1.066451     1.067147     1.067858   \n",
       "..           ...          ...          ...          ...          ...   \n",
       "133     1.544849     1.050058     1.051451     1.052050     1.052690   \n",
       "31      1.935458     1.071212     1.074267     1.075095     1.077295   \n",
       "107     1.959016     1.071893     1.076880     1.078383     1.078977   \n",
       "8       1.673755     1.076901     1.079723     1.081228     1.081994   \n",
       "94      1.685792     1.072221     1.074535     1.075514     1.076192   \n",
       "\n",
       "     dis_ener_0  dis_ener_1  dis_ener_2  dis_ener_3  dis_ener_4  temp_avg_0  \\\n",
       "98     4.797898    3.252562    3.255005    3.257560    3.258643   32.607063   \n",
       "102    5.201485    3.280481    3.289433    3.294489    3.296491   31.151499   \n",
       "40     5.135186    3.247027    3.252709    3.256313    3.257877   31.005850   \n",
       "24     5.197236    3.275593    3.284999    3.289629    3.291404   30.983318   \n",
       "81     4.778703    3.260909    3.265276    3.268034    3.270885   32.091110   \n",
       "..          ...         ...         ...         ...         ...         ...   \n",
       "133    4.731004    3.194189    3.199762    3.202612    3.205167   32.177197   \n",
       "31     6.125689    3.262904    3.265586    3.275008    3.282392   30.009407   \n",
       "107    6.204282    3.256982    3.276563    3.279388    3.280673   30.595510   \n",
       "8      5.153187    3.281329    3.290732    3.295289    3.298334   29.878761   \n",
       "94     5.193162    3.267780    3.275465    3.279201    3.281572   30.087919   \n",
       "\n",
       "     temp_avg_1  temp_avg_2  temp_avg_3  temp_avg_4  char_capa_0  char_capa_1  \\\n",
       "98    36.336994   36.155106   36.285099   36.234791     1.059895     1.061441   \n",
       "102   33.482254   33.441372   33.448616   33.390770     1.161049     1.077649   \n",
       "40    33.389481   33.320591   33.329144   33.322193     1.150257     1.066728   \n",
       "24    33.002758   33.009171   32.990932   32.950893     1.159190     1.076520   \n",
       "81    34.856003   34.846958   34.824814   34.836803     1.061801     1.063771   \n",
       "..          ...         ...         ...         ...          ...          ...   \n",
       "133   35.219952   35.228703   35.165283   35.244637     1.047174     1.048364   \n",
       "31    33.221821   32.632202   33.067974   33.389599     1.445671     1.070774   \n",
       "107   32.261570   32.696228   32.654785   32.585316     1.448271     1.071720   \n",
       "8     30.273266   30.245592   30.313372   30.278313     1.168899     1.076657   \n",
       "94    33.380424   33.311852   33.275944   33.309566     1.161849     1.072303   \n",
       "\n",
       "     char_capa_2  char_capa_3  char_capa_4  \n",
       "98      1.062226     1.062365     1.062763  \n",
       "102     1.080340     1.081733     1.082531  \n",
       "40      1.068558     1.069683     1.070222  \n",
       "24      1.079409     1.080624     1.081395  \n",
       "81      1.065001     1.065963     1.066783  \n",
       "..           ...          ...          ...  \n",
       "133     1.050240     1.051151     1.052067  \n",
       "31      1.074022     1.076026     1.077441  \n",
       "107     1.076444     1.077953     1.078590  \n",
       "8       1.079315     1.080695     1.081566  \n",
       "94      1.074436     1.075283     1.076014  \n",
       "\n",
       "[93 rows x 20 columns]"
      ]
     },
     "execution_count": 9,
     "metadata": {},
     "output_type": "execute_result"
    }
   ],
   "source": [
    "trainer.X_train"
   ]
  },
  {
   "cell_type": "code",
   "execution_count": 10,
   "id": "b7893a68",
   "metadata": {},
   "outputs": [
    {
     "data": {
      "text/plain": [
       "<BatteryProject.ModelOne.trainer.Trainer at 0x7f515b94e760>"
      ]
     },
     "execution_count": 10,
     "metadata": {},
     "output_type": "execute_result"
    }
   ],
   "source": [
    "trainer.set_pipeline()"
   ]
  },
  {
   "cell_type": "code",
   "execution_count": 11,
   "id": "73eda51c",
   "metadata": {},
   "outputs": [
    {
     "data": {
      "text/plain": [
       "{'memory': None,\n",
       " 'steps': [('scaler', RobustScaler()),\n",
       "  ('model', LogisticRegression(max_iter=1000))],\n",
       " 'verbose': False,\n",
       " 'scaler': RobustScaler(),\n",
       " 'model': LogisticRegression(max_iter=1000),\n",
       " 'scaler__copy': True,\n",
       " 'scaler__quantile_range': (25.0, 75.0),\n",
       " 'scaler__unit_variance': False,\n",
       " 'scaler__with_centering': True,\n",
       " 'scaler__with_scaling': True,\n",
       " 'model__C': 1.0,\n",
       " 'model__class_weight': None,\n",
       " 'model__dual': False,\n",
       " 'model__fit_intercept': True,\n",
       " 'model__intercept_scaling': 1,\n",
       " 'model__l1_ratio': None,\n",
       " 'model__max_iter': 1000,\n",
       " 'model__multi_class': 'auto',\n",
       " 'model__n_jobs': None,\n",
       " 'model__penalty': 'l2',\n",
       " 'model__random_state': None,\n",
       " 'model__solver': 'lbfgs',\n",
       " 'model__tol': 0.0001,\n",
       " 'model__verbose': 0,\n",
       " 'model__warm_start': False}"
      ]
     },
     "execution_count": 11,
     "metadata": {},
     "output_type": "execute_result"
    }
   ],
   "source": [
    "trainer.pipeline.get_params()"
   ]
  },
  {
   "cell_type": "code",
   "execution_count": 12,
   "id": "cb15b411",
   "metadata": {},
   "outputs": [],
   "source": [
    "grid = {'model__penalty' : ['l2', 'none'],\n",
    "        'model__solver' : ['lbfgs', 'sag'],\n",
    "        'model__C' : [0.1, 0.5, 1.0, 5.0, 10.0] }"
   ]
  },
  {
   "cell_type": "code",
   "execution_count": 13,
   "id": "79e8cd5f",
   "metadata": {},
   "outputs": [
    {
     "data": {
      "text/plain": [
       "<BatteryProject.ModelOne.trainer.Trainer at 0x7f515b94e760>"
      ]
     },
     "execution_count": 13,
     "metadata": {},
     "output_type": "execute_result"
    }
   ],
   "source": [
    "trainer.run(grid)"
   ]
  },
  {
   "cell_type": "code",
   "execution_count": 15,
   "id": "8db9b3e1",
   "metadata": {},
   "outputs": [
    {
     "data": {
      "text/plain": [
       "127    False\n",
       "128     True\n",
       "96      True\n",
       "67      True\n",
       "3       True\n",
       "Name: 549, dtype: bool"
      ]
     },
     "execution_count": 15,
     "metadata": {},
     "output_type": "execute_result"
    }
   ],
   "source": [
    "trainer.grid_search.best_estimator_.predict(trainer.X_train.iloc[10:15,:]) == trainer.y_train.iloc[10:15]"
   ]
  },
  {
   "cell_type": "code",
   "execution_count": 16,
   "id": "3586964c",
   "metadata": {},
   "outputs": [
    {
     "data": {
      "text/plain": [
       "0.9512195121951219"
      ]
     },
     "execution_count": 16,
     "metadata": {},
     "output_type": "execute_result"
    }
   ],
   "source": [
    "trainer.eval()"
   ]
  },
  {
   "cell_type": "code",
   "execution_count": 17,
   "id": "087a48f4",
   "metadata": {},
   "outputs": [
    {
     "data": {
      "text/plain": [
       "{'model__C': 0.5, 'model__penalty': 'l2', 'model__solver': 'lbfgs'}"
      ]
     },
     "execution_count": 17,
     "metadata": {},
     "output_type": "execute_result"
    }
   ],
   "source": [
    "trainer.grid_search.best_params_"
   ]
  },
  {
   "cell_type": "code",
   "execution_count": 20,
   "id": "c58b15cc",
   "metadata": {},
   "outputs": [
    {
     "data": {
      "text/plain": [
       "0.6774193548387096"
      ]
     },
     "execution_count": 20,
     "metadata": {},
     "output_type": "execute_result"
    }
   ],
   "source": [
    "trainer.y_train.mean()"
   ]
  },
  {
   "cell_type": "code",
   "execution_count": null,
   "id": "69e500bd",
   "metadata": {},
   "outputs": [],
   "source": []
  }
 ],
 "metadata": {
  "kernelspec": {
   "display_name": "Python 3 (ipykernel)",
   "language": "python",
   "name": "python3"
  },
  "language_info": {
   "codemirror_mode": {
    "name": "ipython",
    "version": 3
   },
   "file_extension": ".py",
   "mimetype": "text/x-python",
   "name": "python",
   "nbconvert_exporter": "python",
   "pygments_lexer": "ipython3",
   "version": "3.8.12"
  },
  "toc": {
   "base_numbering": 1,
   "nav_menu": {},
   "number_sections": true,
   "sideBar": true,
   "skip_h1_title": false,
   "title_cell": "Table of Contents",
   "title_sidebar": "Contents",
   "toc_cell": false,
   "toc_position": {},
   "toc_section_display": true,
   "toc_window_display": false
  }
 },
 "nbformat": 4,
 "nbformat_minor": 5
}
