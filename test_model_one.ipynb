{
 "cells": [
  {
   "cell_type": "code",
   "execution_count": 21,
   "id": "ae564c4d",
   "metadata": {},
   "outputs": [],
   "source": [
    "import pandas as pd"
   ]
  },
  {
   "cell_type": "code",
   "execution_count": 3,
   "id": "82bae687",
   "metadata": {},
   "outputs": [],
   "source": [
    "from BatteryProject.ModelOne import trainer\n",
    "from BatteryProject.ModelOne import model_params"
   ]
  },
  {
   "cell_type": "code",
   "execution_count": 4,
   "id": "fa3f0cb3",
   "metadata": {},
   "outputs": [],
   "source": [
    "from sklearn.preprocessing import RobustScaler\n",
    "from sklearn.linear_model import LogisticRegression\n",
    "from sklearn.model_selection import GridSearchCV\n",
    "from sklearn.pipeline import Pipeline"
   ]
  },
  {
   "cell_type": "code",
   "execution_count": 5,
   "id": "9abcbe48",
   "metadata": {},
   "outputs": [],
   "source": [
    "features = model_params.features\n",
    "features = features['feature_one']"
   ]
  },
  {
   "cell_type": "code",
   "execution_count": 6,
   "id": "4d6c6f4a",
   "metadata": {},
   "outputs": [
    {
     "data": {
      "text/plain": [
       "{'disc_capa': 'summary_discharge_capacity.csv',\n",
       " 'dis_ener': 'summary_discharge_energy.csv',\n",
       " 'temp_avg': 'summary_temperature_average.csv',\n",
       " 'char_capa': 'summary_charge_capacity.csv'}"
      ]
     },
     "execution_count": 6,
     "metadata": {},
     "output_type": "execute_result"
    }
   ],
   "source": [
    "features"
   ]
  },
  {
   "cell_type": "code",
   "execution_count": 7,
   "id": "6932f6eb",
   "metadata": {},
   "outputs": [],
   "source": [
    "model_1 = model_params.models['log'][0]\n",
    "grid_1 = model_params.models['log'][1]"
   ]
  },
  {
   "cell_type": "code",
   "execution_count": 10,
   "id": "7e539453",
   "metadata": {},
   "outputs": [],
   "source": [
    "trainer_1 = trainer.Trainer()"
   ]
  },
  {
   "cell_type": "code",
   "execution_count": 11,
   "id": "c40d488b",
   "metadata": {},
   "outputs": [],
   "source": [
    "trainer_1.features = features"
   ]
  },
  {
   "cell_type": "code",
   "execution_count": 12,
   "id": "2e3b5c3f",
   "metadata": {},
   "outputs": [
    {
     "data": {
      "text/plain": [
       "<BatteryProject.ModelOne.trainer.Trainer at 0x7f32b0ca90a0>"
      ]
     },
     "execution_count": 12,
     "metadata": {},
     "output_type": "execute_result"
    }
   ],
   "source": [
    "trainer_1.get_data(trainer_1.features)"
   ]
  },
  {
   "cell_type": "code",
   "execution_count": 13,
   "id": "0ee29425",
   "metadata": {},
   "outputs": [
    {
     "data": {
      "text/plain": [
       "<BatteryProject.ModelOne.trainer.Trainer at 0x7f32b0ca90a0>"
      ]
     },
     "execution_count": 13,
     "metadata": {},
     "output_type": "execute_result"
    }
   ],
   "source": [
    "trainer_1.set_pipeline(model = model_1)"
   ]
  },
  {
   "cell_type": "code",
   "execution_count": 14,
   "id": "0b8c3ccb",
   "metadata": {},
   "outputs": [
    {
     "data": {
      "text/plain": [
       "<BatteryProject.ModelOne.trainer.Trainer at 0x7f32b0ca90a0>"
      ]
     },
     "execution_count": 14,
     "metadata": {},
     "output_type": "execute_result"
    }
   ],
   "source": [
    "trainer_1.run(grid_1)"
   ]
  },
  {
   "cell_type": "code",
   "execution_count": 15,
   "id": "2c31e32a",
   "metadata": {},
   "outputs": [
    {
     "data": {
      "text/plain": [
       "['disc_capa', 'dis_ener', 'temp_avg', 'char_capa']"
      ]
     },
     "execution_count": 15,
     "metadata": {},
     "output_type": "execute_result"
    }
   ],
   "source": [
    "list(trainer_1.features_name.keys())"
   ]
  },
  {
   "cell_type": "code",
   "execution_count": 16,
   "id": "b37469c7",
   "metadata": {},
   "outputs": [
    {
     "data": {
      "text/plain": [
       "{'model__max_iter': 500, 'model__penalty': 'none', 'model__solver': 'lbfgs'}"
      ]
     },
     "execution_count": 16,
     "metadata": {},
     "output_type": "execute_result"
    }
   ],
   "source": [
    "trainer_1.grid_search.best_params_"
   ]
  },
  {
   "cell_type": "code",
   "execution_count": 17,
   "id": "3586964c",
   "metadata": {},
   "outputs": [
    {
     "data": {
      "text/plain": [
       "{'accuracy': 0.9444444444444444,\n",
       " 'precision': 0.9565217391304348,\n",
       " 'roc_auc': 0.939799331103679}"
      ]
     },
     "execution_count": 17,
     "metadata": {},
     "output_type": "execute_result"
    }
   ],
   "source": [
    "trainer_1.eval()"
   ]
  },
  {
   "cell_type": "code",
   "execution_count": 23,
   "id": "072f217e",
   "metadata": {},
   "outputs": [],
   "source": [
    "path = '/home/romainj/code/RomainJupille/wagon/Projet_batteries/BatteryProject/BatteryProject/ModelOne/Models/Models_records.csv'"
   ]
  },
  {
   "cell_type": "code",
   "execution_count": 26,
   "id": "b57ab4ce",
   "metadata": {},
   "outputs": [],
   "source": [
    "df_ids = pd.read_csv(path)"
   ]
  },
  {
   "cell_type": "code",
   "execution_count": 30,
   "id": "69090f05",
   "metadata": {},
   "outputs": [
    {
     "data": {
      "text/html": [
       "<div>\n",
       "<style scoped>\n",
       "    .dataframe tbody tr th:only-of-type {\n",
       "        vertical-align: middle;\n",
       "    }\n",
       "\n",
       "    .dataframe tbody tr th {\n",
       "        vertical-align: top;\n",
       "    }\n",
       "\n",
       "    .dataframe thead th {\n",
       "        text-align: right;\n",
       "    }\n",
       "</style>\n",
       "<table border=\"1\" class=\"dataframe\">\n",
       "  <thead>\n",
       "    <tr style=\"text-align: right;\">\n",
       "      <th></th>\n",
       "      <th>Try_ID</th>\n",
       "    </tr>\n",
       "  </thead>\n",
       "  <tbody>\n",
       "  </tbody>\n",
       "</table>\n",
       "</div>"
      ],
      "text/plain": [
       "Empty DataFrame\n",
       "Columns: [Try_ID]\n",
       "Index: []"
      ]
     },
     "execution_count": 30,
     "metadata": {},
     "output_type": "execute_result"
    }
   ],
   "source": [
    "df_ids "
   ]
  },
  {
   "cell_type": "code",
   "execution_count": 31,
   "id": "9799553c",
   "metadata": {},
   "outputs": [],
   "source": [
    "df_ids = pd.read_csv(path)\n",
    "if df_ids.shape[0] == 0:\n",
    "    new_id=1\n",
    "else:\n",
    "    last_id = df_ids['Try_ID'].values.max()\n",
    "    new_id = last_id + 1"
   ]
  },
  {
   "cell_type": "code",
   "execution_count": 32,
   "id": "33bfd5f4",
   "metadata": {},
   "outputs": [
    {
     "data": {
      "text/plain": [
       "1"
      ]
     },
     "execution_count": 32,
     "metadata": {},
     "output_type": "execute_result"
    }
   ],
   "source": [
    "new_id"
   ]
  },
  {
   "cell_type": "code",
   "execution_count": 43,
   "id": "c222c3fe",
   "metadata": {},
   "outputs": [],
   "source": [
    "data = {}\n",
    "data['Try_ID'] = new_id\n",
    "data['Model'] = trainer_1.model_name\n",
    "data['Scaler'] = trainer_1.scaler_name\n",
    "data['Feature_list'] = list(trainer_1.features_name.keys())\n",
    "for key, value in trainer_1.evaluation.items():\n",
    "    data[f\"metrics_{key}\"] = value\n",
    "for key, values in trainer_1.grid_search.best_params_.items():\n",
    "    data[f\"HyperParams_{key.split('__')[1]}\"] = values"
   ]
  },
  {
   "cell_type": "code",
   "execution_count": 44,
   "id": "1488941f",
   "metadata": {},
   "outputs": [
    {
     "data": {
      "text/plain": [
       "{'Try_ID': 1,\n",
       " 'Model': 'LogisticRegression',\n",
       " 'Scaler': 'RobustScaler',\n",
       " 'Feature_list': ['disc_capa', 'dis_ener', 'temp_avg', 'char_capa'],\n",
       " 'metrics_accuracy': 0.9444444444444444,\n",
       " 'metrics_precision': 0.9565217391304348,\n",
       " 'metrics_roc_auc': 0.939799331103679,\n",
       " 'HyperParams_max_iter': 500,\n",
       " 'HyperParams_penalty': 'none',\n",
       " 'HyperParams_solver': 'lbfgs'}"
      ]
     },
     "execution_count": 44,
     "metadata": {},
     "output_type": "execute_result"
    }
   ],
   "source": [
    "data"
   ]
  },
  {
   "cell_type": "code",
   "execution_count": 53,
   "id": "42a674ae",
   "metadata": {},
   "outputs": [],
   "source": [
    "df_ids = df_ids.append(data, ignore_index=True)"
   ]
  },
  {
   "cell_type": "code",
   "execution_count": 55,
   "id": "614372a0",
   "metadata": {},
   "outputs": [],
   "source": [
    "df_ids.to_csv(path)"
   ]
  },
  {
   "cell_type": "code",
   "execution_count": 47,
   "id": "196d7520",
   "metadata": {},
   "outputs": [
    {
     "data": {
      "text/plain": [
       "<BatteryProject.ModelOne.trainer.Trainer at 0x7f3346dc22b0>"
      ]
     },
     "execution_count": 47,
     "metadata": {},
     "output_type": "execute_result"
    }
   ],
   "source": [
    "model_2 = model_params.models['random_forest'][0]\n",
    "grid_2 = model_params.models['random_forest'][1]\n",
    "\n",
    "trainer_2 = trainer.Trainer()\n",
    "trainer_2.features = features\n",
    "trainer_2.get_data(trainer_1.features)\n",
    "trainer_2.set_pipeline(model = model_2)\n",
    "trainer_2.run(grid_2)"
   ]
  },
  {
   "cell_type": "code",
   "execution_count": 48,
   "id": "1c2b1ba6",
   "metadata": {},
   "outputs": [
    {
     "data": {
      "text/plain": [
       "{'model__min_samples_leaf': 1,\n",
       " 'model__min_samples_split': 2,\n",
       " 'model__n_estimators': 50}"
      ]
     },
     "execution_count": 48,
     "metadata": {},
     "output_type": "execute_result"
    }
   ],
   "source": [
    "trainer_2.grid_search.best_params_"
   ]
  },
  {
   "cell_type": "code",
   "execution_count": 49,
   "id": "b5f0642b",
   "metadata": {},
   "outputs": [
    {
     "data": {
      "text/plain": [
       "{'accuracy': 0.9722222222222222,\n",
       " 'precision': 0.9565217391304348,\n",
       " 'roc_auc': 0.9642857142857143}"
      ]
     },
     "execution_count": 49,
     "metadata": {},
     "output_type": "execute_result"
    }
   ],
   "source": [
    "trainer_2.eval()"
   ]
  },
  {
   "cell_type": "code",
   "execution_count": 56,
   "id": "59a5812e",
   "metadata": {},
   "outputs": [],
   "source": [
    "df_ids = pd.read_csv(path)\n",
    "if df_ids.shape[0] == 0:\n",
    "    new_id=1\n",
    "else:\n",
    "    last_id = df_ids['Try_ID'].values.max()\n",
    "    new_id = last_id + 1"
   ]
  },
  {
   "cell_type": "code",
   "execution_count": 58,
   "id": "3bbf32b0",
   "metadata": {},
   "outputs": [],
   "source": [
    "data = {}\n",
    "data['Try_ID'] = new_id\n",
    "data['Model'] = trainer_2.model_name\n",
    "data['Scaler'] = trainer_2.scaler_name\n",
    "data['Feature_list'] = list(trainer_2.features_name.keys())\n",
    "for key, value in trainer_2.evaluation.items():\n",
    "    data[f\"metrics_{key}\"] = value\n",
    "for key, values in trainer_2.grid_search.best_params_.items():\n",
    "    data[f\"HyperParams_{key.split('__')[1]}\"] = values"
   ]
  },
  {
   "cell_type": "code",
   "execution_count": 59,
   "id": "3c761db6",
   "metadata": {},
   "outputs": [
    {
     "data": {
      "text/plain": [
       "{'Try_ID': 2,\n",
       " 'Model': 'RandomForestClassifier',\n",
       " 'Scaler': 'RobustScaler',\n",
       " 'Feature_list': ['disc_capa', 'dis_ener', 'temp_avg', 'char_capa'],\n",
       " 'metrics_accuracy': 0.9722222222222222,\n",
       " 'metrics_precision': 0.9565217391304348,\n",
       " 'metrics_roc_auc': 0.9642857142857143,\n",
       " 'HyperParams_min_samples_leaf': 1,\n",
       " 'HyperParams_min_samples_split': 2,\n",
       " 'HyperParams_n_estimators': 50}"
      ]
     },
     "execution_count": 59,
     "metadata": {},
     "output_type": "execute_result"
    }
   ],
   "source": [
    "data"
   ]
  },
  {
   "cell_type": "code",
   "execution_count": 67,
   "id": "9179086d",
   "metadata": {},
   "outputs": [],
   "source": [
    "df_ids = df_ids.drop(columns='Unnamed: 0').append(data, ignore_index= True)"
   ]
  },
  {
   "cell_type": "code",
   "execution_count": null,
   "id": "175cb472",
   "metadata": {},
   "outputs": [],
   "source": [
    "col_list = df_ids.columns\n",
    "col_l1 = ['Try_ID',  'Model', 'Scaler', 'Feature_list']\n",
    "col_l2 = [a for a in col_list if a[0:7] == 'metrics']\n",
    "col_l3 = [a for a in col_list if a[0:11] == 'HyperParams']"
   ]
  },
  {
   "cell_type": "code",
   "execution_count": null,
   "id": "054fbd2f",
   "metadata": {},
   "outputs": [],
   "source": []
  },
  {
   "cell_type": "code",
   "execution_count": 88,
   "id": "202e7f9b",
   "metadata": {},
   "outputs": [],
   "source": [
    "new_col_list = col_l1 + col_l2 + col_l3"
   ]
  },
  {
   "cell_type": "code",
   "execution_count": 91,
   "id": "89539673",
   "metadata": {},
   "outputs": [],
   "source": [
    "df_ids = df_ids[new_col_list]"
   ]
  },
  {
   "cell_type": "code",
   "execution_count": 92,
   "id": "3a54697e",
   "metadata": {},
   "outputs": [
    {
     "data": {
      "text/html": [
       "<div>\n",
       "<style scoped>\n",
       "    .dataframe tbody tr th:only-of-type {\n",
       "        vertical-align: middle;\n",
       "    }\n",
       "\n",
       "    .dataframe tbody tr th {\n",
       "        vertical-align: top;\n",
       "    }\n",
       "\n",
       "    .dataframe thead th {\n",
       "        text-align: right;\n",
       "    }\n",
       "</style>\n",
       "<table border=\"1\" class=\"dataframe\">\n",
       "  <thead>\n",
       "    <tr style=\"text-align: right;\">\n",
       "      <th></th>\n",
       "      <th>Try_ID</th>\n",
       "      <th>Model</th>\n",
       "      <th>Scaler</th>\n",
       "      <th>Feature_list</th>\n",
       "      <th>metrics_accuracy</th>\n",
       "      <th>metrics_precision</th>\n",
       "      <th>metrics_roc_auc</th>\n",
       "      <th>HyperParams_max_iter</th>\n",
       "      <th>HyperParams_penalty</th>\n",
       "      <th>HyperParams_solver</th>\n",
       "      <th>HyperParams_min_samples_leaf</th>\n",
       "      <th>HyperParams_min_samples_split</th>\n",
       "      <th>HyperParams_n_estimators</th>\n",
       "    </tr>\n",
       "  </thead>\n",
       "  <tbody>\n",
       "    <tr>\n",
       "      <th>0</th>\n",
       "      <td>1</td>\n",
       "      <td>LogisticRegression</td>\n",
       "      <td>RobustScaler</td>\n",
       "      <td>['disc_capa', 'dis_ener', 'temp_avg', 'char_ca...</td>\n",
       "      <td>0.944444</td>\n",
       "      <td>0.956522</td>\n",
       "      <td>0.939799</td>\n",
       "      <td>500.0</td>\n",
       "      <td>none</td>\n",
       "      <td>lbfgs</td>\n",
       "      <td>NaN</td>\n",
       "      <td>NaN</td>\n",
       "      <td>NaN</td>\n",
       "    </tr>\n",
       "    <tr>\n",
       "      <th>1</th>\n",
       "      <td>2</td>\n",
       "      <td>RandomForestClassifier</td>\n",
       "      <td>RobustScaler</td>\n",
       "      <td>[disc_capa, dis_ener, temp_avg, char_capa]</td>\n",
       "      <td>0.972222</td>\n",
       "      <td>0.956522</td>\n",
       "      <td>0.964286</td>\n",
       "      <td>NaN</td>\n",
       "      <td>NaN</td>\n",
       "      <td>NaN</td>\n",
       "      <td>1.0</td>\n",
       "      <td>2.0</td>\n",
       "      <td>50.0</td>\n",
       "    </tr>\n",
       "  </tbody>\n",
       "</table>\n",
       "</div>"
      ],
      "text/plain": [
       "   Try_ID                   Model        Scaler  \\\n",
       "0       1      LogisticRegression  RobustScaler   \n",
       "1       2  RandomForestClassifier  RobustScaler   \n",
       "\n",
       "                                        Feature_list  metrics_accuracy  \\\n",
       "0  ['disc_capa', 'dis_ener', 'temp_avg', 'char_ca...          0.944444   \n",
       "1         [disc_capa, dis_ener, temp_avg, char_capa]          0.972222   \n",
       "\n",
       "   metrics_precision  metrics_roc_auc  HyperParams_max_iter  \\\n",
       "0           0.956522         0.939799                 500.0   \n",
       "1           0.956522         0.964286                   NaN   \n",
       "\n",
       "  HyperParams_penalty HyperParams_solver  HyperParams_min_samples_leaf  \\\n",
       "0                none              lbfgs                           NaN   \n",
       "1                 NaN                NaN                           1.0   \n",
       "\n",
       "   HyperParams_min_samples_split  HyperParams_n_estimators  \n",
       "0                            NaN                       NaN  \n",
       "1                            2.0                      50.0  "
      ]
     },
     "execution_count": 92,
     "metadata": {},
     "output_type": "execute_result"
    }
   ],
   "source": [
    "df_ids"
   ]
  },
  {
   "cell_type": "code",
   "execution_count": 93,
   "id": "e2b191d0",
   "metadata": {},
   "outputs": [],
   "source": [
    "df_ids.to_csv(path)"
   ]
  },
  {
   "cell_type": "code",
   "execution_count": null,
   "id": "6fb78d29",
   "metadata": {},
   "outputs": [],
   "source": []
  }
 ],
 "metadata": {
  "kernelspec": {
   "display_name": "Python 3.8.12 64-bit ('shims')",
   "language": "python",
   "name": "python3"
  },
  "language_info": {
   "codemirror_mode": {
    "name": "ipython",
    "version": 3
   },
   "file_extension": ".py",
   "mimetype": "text/x-python",
   "name": "python",
   "nbconvert_exporter": "python",
   "pygments_lexer": "ipython3",
   "version": "3.8.12"
  },
  "toc": {
   "base_numbering": 1,
   "nav_menu": {},
   "number_sections": true,
   "sideBar": true,
   "skip_h1_title": false,
   "title_cell": "Table of Contents",
   "title_sidebar": "Contents",
   "toc_cell": false,
   "toc_position": {},
   "toc_section_display": true,
   "toc_window_display": false
  },
  "vscode": {
   "interpreter": {
    "hash": "3fe647dbadeaad9d1d303e860cef8512246001abe38e6584f88bc4f5c98e22c9"
   }
  }
 },
 "nbformat": 4,
 "nbformat_minor": 5
}
