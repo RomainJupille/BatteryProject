{
 "cells": [
  {
   "cell_type": "code",
   "execution_count": 26,
   "id": "82bae687",
   "metadata": {
    "ExecuteTime": {
     "end_time": "2022-06-17T03:50:08.979644Z",
     "start_time": "2022-06-17T03:50:08.916771Z"
    }
   },
   "outputs": [
    {
     "name": "stdout",
     "output_type": "stream",
     "text": [
      "The autoreload extension is already loaded. To reload it, use:\n",
      "  %reload_ext autoreload\n"
     ]
    }
   ],
   "source": [
    "%load_ext autoreload\n",
    "%autoreload 2"
   ]
  },
  {
   "cell_type": "code",
   "execution_count": 40,
   "id": "fa3f0cb3",
   "metadata": {
    "ExecuteTime": {
     "end_time": "2022-06-17T04:48:00.624261Z",
     "start_time": "2022-06-17T04:48:00.556423Z"
    }
   },
   "outputs": [],
   "source": [
    "from sklearn.preprocessing import RobustScaler\n",
    "from sklearn.model_selection import GridSearchCV\n",
    "from sklearn.pipeline import Pipeline\n",
    "from tensorflow.keras.preprocessing.sequence import pad_sequences\n",
    "import numpy as np"
   ]
  },
  {
   "cell_type": "code",
   "execution_count": 35,
   "id": "7e539453",
   "metadata": {
    "ExecuteTime": {
     "end_time": "2022-06-17T04:45:34.678209Z",
     "start_time": "2022-06-17T04:45:34.588263Z"
    }
   },
   "outputs": [
    {
     "name": "stdout",
     "output_type": "stream",
     "text": [
      "offset: 0 deep: 5 classes: [550]\n"
     ]
    }
   ],
   "source": [
    "from BatteryProject.ModelTwo import trainer\n",
    "\n",
    "trainer = trainer.Trainer(deep=5,offset=0)\n",
    "trainer.features = {\n",
    "        'disc_capa' : 'summary_discharge_capacity.csv',\n",
    "        'dis_ener' : 'summary_discharge_energy.csv',\n",
    "        'temp_avg' : 'summary_temperature_average.csv',\n",
    "        'char_capa' : 'summary_charge_capacity.csv'}\n",
    "\n",
    "print(f\"offset: {trainer.offset} deep: {trainer.deep} classes: {trainer.classes}\")"
   ]
  },
  {
   "cell_type": "code",
   "execution_count": 36,
   "id": "a7a56f2b",
   "metadata": {
    "ExecuteTime": {
     "end_time": "2022-06-17T04:45:39.513767Z",
     "start_time": "2022-06-17T04:45:38.532618Z"
    },
    "scrolled": true
   },
   "outputs": [
    {
     "data": {
      "text/plain": [
       "<BatteryProject.ModelTwo.trainer.Trainer at 0x7f4aaa42ed30>"
      ]
     },
     "execution_count": 36,
     "metadata": {},
     "output_type": "execute_result"
    }
   ],
   "source": [
    "trainer.get_data(trainer.features)"
   ]
  },
  {
   "cell_type": "code",
   "execution_count": 37,
   "id": "a2983838",
   "metadata": {
    "ExecuteTime": {
     "end_time": "2022-06-17T04:45:42.500080Z",
     "start_time": "2022-06-17T04:45:42.436783Z"
    }
   },
   "outputs": [
    {
     "name": "stdout",
     "output_type": "stream",
     "text": [
      "X_train.shape: (375, 5) y_train.shape: (375,)\n"
     ]
    }
   ],
   "source": [
    "print(f\"X_train.shape: {trainer.X_train.shape} y_train.shape: {trainer.y_train.shape}\")"
   ]
  },
  {
   "cell_type": "code",
   "execution_count": 32,
   "id": "4fb682c0",
   "metadata": {
    "ExecuteTime": {
     "end_time": "2022-06-17T04:43:21.885552Z",
     "start_time": "2022-06-17T04:43:21.814599Z"
    },
    "scrolled": false
   },
   "outputs": [
    {
     "data": {
      "text/plain": [
       "array([[ 1.068216,  1.068216,  1.068216,  1.068216,  1.068216],\n",
       "       [ 6.191177,  6.191177,  6.191177,  6.191177,  6.191177],\n",
       "       [29.922943, 29.922943, 29.922943, 29.922943, 29.922943],\n",
       "       ...,\n",
       "       [ 6.191177,  6.191177,  6.191177,  6.191177,  6.191177],\n",
       "       [29.922943, 29.922943, 29.922943, 29.922943, 29.922943],\n",
       "       [ 1.441996,  1.441996,  1.441996,  1.441996,  1.441996]])"
      ]
     },
     "execution_count": 32,
     "metadata": {},
     "output_type": "execute_result"
    }
   ],
   "source": [
    "trainer.X"
   ]
  },
  {
   "cell_type": "code",
   "execution_count": 33,
   "id": "e7bbc36f",
   "metadata": {
    "ExecuteTime": {
     "end_time": "2022-06-17T04:43:25.713210Z",
     "start_time": "2022-06-17T04:43:25.644811Z"
    }
   },
   "outputs": [
    {
     "data": {
      "text/plain": [
       "array([1037, 1037, 1037, 1037,  440,  440,  440,  440, 1467, 1467, 1467,\n",
       "       1467, 1093, 1093, 1093, 1093,  543,  543,  543,  543, 1121, 1121,\n",
       "       1121, 1121,  828,  828,  828,  828, 1000, 1000, 1000, 1000,  506,\n",
       "        506,  506,  506,  947,  947,  947,  947, 1472, 1472, 1472, 1472,\n",
       "       1221, 1221, 1221, 1221, 1172, 1172, 1172, 1172,  467,  467,  467,\n",
       "        467,  900,  900,  900,  900,  328,  328,  328,  328,  390,  390,\n",
       "        390,  390,  797,  797,  797,  797, 1226, 1226, 1226, 1226, 1467,\n",
       "       1467, 1467, 1467, 1257, 1257, 1257, 1257, 1355, 1355, 1355, 1355,\n",
       "       1025, 1025, 1025, 1025,  779,  779,  779,  779,  849,  849,  849,\n",
       "        849, 1373, 1373, 1373, 1373,  463,  463,  463,  463, 1333, 1333,\n",
       "       1333, 1333,  987,  987,  987,  987,  744,  744,  744,  744, 1050,\n",
       "       1050, 1050, 1050,  595,  595,  595,  595, 1046, 1046, 1046, 1046,\n",
       "        948,  948,  948,  948,  573,  573,  573,  573, 1393, 1393, 1393,\n",
       "       1393,  654,  654,  654,  654,  532,  532,  532,  532,  904,  904,\n",
       "        904,  904,  442,  442,  442,  442,  346,  346,  346,  346,  833,\n",
       "        833,  833,  833,  701,  701,  701,  701, 1214, 1214, 1214, 1214,\n",
       "       1432, 1432, 1432, 1432,  558,  558,  558,  558,  620,  620,  620,\n",
       "        620,  508,  508,  508,  508, 1468, 1468, 1468, 1468,  524,  524,\n",
       "        524,  524,  543,  543,  543,  543,  751,  751,  751,  751,  775,\n",
       "        775,  775,  775, 1289, 1289, 1289, 1289,  348,  348,  348,  348,\n",
       "        393,  393,  393,  393, 1306, 1306, 1306, 1306, 1117, 1117, 1117,\n",
       "       1117,  919,  919,  919,  919,  750,  750,  750,  750,  590,  590,\n",
       "        590,  590, 1386, 1386, 1386, 1386, 1499, 1499, 1499, 1499, 1003,\n",
       "       1003, 1003, 1003, 1252, 1252, 1252, 1252, 1401, 1401, 1401, 1401,\n",
       "        698,  698,  698,  698,  858,  858,  858,  858, 1234, 1234, 1234,\n",
       "       1234, 1383, 1383, 1383, 1383, 1040, 1040, 1040, 1040, 1398, 1398,\n",
       "       1398, 1398,  421,  421,  421,  421,  680,  680,  680,  680,  882,\n",
       "        882,  882,  882, 1073, 1073, 1073, 1073,  327,  327,  327,  327,\n",
       "       1074, 1074, 1074, 1074, 1192, 1192, 1192, 1192, 1289, 1289, 1289,\n",
       "       1289,  309,  309,  309,  309,  414,  414,  414,  414, 1494, 1494,\n",
       "       1494, 1494,  395,  395,  395,  395, 1357, 1357, 1357, 1357, 1233,\n",
       "       1233, 1233, 1233, 1481, 1481, 1481, 1481, 1274, 1274, 1274, 1274,\n",
       "       1246, 1246, 1246, 1246, 1060, 1060, 1060, 1060, 1013, 1013, 1013,\n",
       "       1013,  880,  880,  880,  880,  691,  691,  691,  691, 1009, 1009,\n",
       "       1009, 1009, 1156, 1156, 1156, 1156, 1237, 1237, 1237, 1237,  433,\n",
       "        433,  433,  433, 1179, 1179, 1179, 1179,  546,  546,  546,  546,\n",
       "        900,  900,  900,  900, 1096, 1096, 1096, 1096, 1351, 1351, 1351,\n",
       "       1351, 1445, 1445, 1445, 1445,  519,  519,  519,  519,  446,  446,\n",
       "        446,  446,  409,  409,  409,  409,  941,  941,  941,  941,  353,\n",
       "        353,  353,  353, 1487, 1487, 1487, 1487,  528,  528,  528,  528,\n",
       "        623,  623,  623,  623,  905,  905,  905,  905, 1001, 1001, 1001,\n",
       "       1001,  434,  434,  434,  434, 1457, 1457, 1457, 1457, 1463, 1463,\n",
       "       1463, 1463,  951,  951,  951,  951, 1168, 1168, 1168, 1168,  439,\n",
       "        439,  439,  439, 1211, 1211, 1211, 1211, 1200, 1200, 1200, 1200,\n",
       "        808,  808,  808,  808,  831,  831,  831,  831, 1321, 1321, 1321,\n",
       "       1321, 1382, 1382, 1382, 1382, 1290, 1290, 1290, 1290, 1291, 1291,\n",
       "       1291, 1291, 1065, 1065, 1065, 1065, 1164, 1164, 1164, 1164,  443,\n",
       "        443,  443,  443, 1012, 1012, 1012, 1012,  329,  329,  329,  329,\n",
       "        692,  692,  692,  692, 1121, 1121, 1121, 1121])"
      ]
     },
     "execution_count": 33,
     "metadata": {},
     "output_type": "execute_result"
    }
   ],
   "source": [
    "trainer.y"
   ]
  },
  {
   "cell_type": "code",
   "execution_count": 43,
   "id": "b7893a68",
   "metadata": {
    "ExecuteTime": {
     "end_time": "2022-06-17T04:50:13.024533Z",
     "start_time": "2022-06-17T04:50:12.749308Z"
    }
   },
   "outputs": [
    {
     "name": "stdout",
     "output_type": "stream",
     "text": [
      "Model: \"sequential_5\"\n",
      "_________________________________________________________________\n",
      " Layer (type)                Output Shape              Param #   \n",
      "=================================================================\n",
      " conv1d_8 (Conv1D)           (None, 372, 16)           336       \n",
      "                                                                 \n",
      " conv1d_9 (Conv1D)           (None, 369, 16)           1040      \n",
      "                                                                 \n",
      " flatten_1 (Flatten)         (None, 5904)              0         \n",
      "                                                                 \n",
      " dense_2 (Dense)             (None, 100)               590500    \n",
      "                                                                 \n",
      " dense_3 (Dense)             (None, 1)                 101       \n",
      "                                                                 \n",
      "=================================================================\n",
      "Total params: 591,977\n",
      "Trainable params: 591,977\n",
      "Non-trainable params: 0\n",
      "_________________________________________________________________\n"
     ]
    }
   ],
   "source": [
    "model = trainer.initialize_model_CNN()\n",
    "model.summary()"
   ]
  },
  {
   "cell_type": "code",
   "execution_count": 44,
   "id": "73eda51c",
   "metadata": {
    "ExecuteTime": {
     "end_time": "2022-06-17T04:50:16.344213Z",
     "start_time": "2022-06-17T04:50:15.886186Z"
    }
   },
   "outputs": [
    {
     "ename": "ValueError",
     "evalue": "in user code:\n\n    File \"/home/nes/.pyenv/versions/3.8.12/envs/BatteryProject/lib/python3.8/site-packages/keras/engine/training.py\", line 878, in train_function  *\n        return step_function(self, iterator)\n    File \"/home/nes/.pyenv/versions/3.8.12/envs/BatteryProject/lib/python3.8/site-packages/keras/engine/training.py\", line 867, in step_function  **\n        outputs = model.distribute_strategy.run(run_step, args=(data,))\n    File \"/home/nes/.pyenv/versions/3.8.12/envs/BatteryProject/lib/python3.8/site-packages/keras/engine/training.py\", line 860, in run_step  **\n        outputs = model.train_step(data)\n    File \"/home/nes/.pyenv/versions/3.8.12/envs/BatteryProject/lib/python3.8/site-packages/keras/engine/training.py\", line 808, in train_step\n        y_pred = self(x, training=True)\n    File \"/home/nes/.pyenv/versions/3.8.12/envs/BatteryProject/lib/python3.8/site-packages/keras/utils/traceback_utils.py\", line 67, in error_handler\n        raise e.with_traceback(filtered_tb) from None\n    File \"/home/nes/.pyenv/versions/3.8.12/envs/BatteryProject/lib/python3.8/site-packages/keras/engine/input_spec.py\", line 263, in assert_input_compatibility\n        raise ValueError(f'Input {input_index} of layer \"{layer_name}\" is '\n\n    ValueError: Input 0 of layer \"sequential_5\" is incompatible with the layer: expected shape=(None, 375, 5), found shape=(None, 5)\n",
     "output_type": "error",
     "traceback": [
      "\u001b[0;31m---------------------------------------------------------------------------\u001b[0m",
      "\u001b[0;31mValueError\u001b[0m                                Traceback (most recent call last)",
      "Input \u001b[0;32mIn [44]\u001b[0m, in \u001b[0;36m<cell line: 1>\u001b[0;34m()\u001b[0m\n\u001b[0;32m----> 1\u001b[0m \u001b[43mtrainer\u001b[49m\u001b[38;5;241;43m.\u001b[39;49m\u001b[43mfit\u001b[49m\u001b[43m(\u001b[49m\u001b[43mmodel\u001b[49m\u001b[43m)\u001b[49m\n\u001b[1;32m      2\u001b[0m trainer\u001b[38;5;241m.\u001b[39mplot_history()\n",
      "File \u001b[0;32m~/code/0r4nd/BatteryProject/BatteryProject/ModelTwo/trainer.py:105\u001b[0m, in \u001b[0;36mTrainer.fit\u001b[0;34m(self, model)\u001b[0m\n\u001b[1;32m    103\u001b[0m \u001b[38;5;28;01mdef\u001b[39;00m \u001b[38;5;21mfit\u001b[39m(\u001b[38;5;28mself\u001b[39m, model):\n\u001b[1;32m    104\u001b[0m     es \u001b[38;5;241m=\u001b[39m callbacks\u001b[38;5;241m.\u001b[39mEarlyStopping(patience\u001b[38;5;241m=\u001b[39m\u001b[38;5;241m30\u001b[39m, restore_best_weights\u001b[38;5;241m=\u001b[39m\u001b[38;5;28;01mTrue\u001b[39;00m)\n\u001b[0;32m--> 105\u001b[0m     \u001b[38;5;28mself\u001b[39m\u001b[38;5;241m.\u001b[39mhistory \u001b[38;5;241m=\u001b[39m \u001b[43mmodel\u001b[49m\u001b[38;5;241;43m.\u001b[39;49m\u001b[43mfit\u001b[49m\u001b[43m(\u001b[49m\u001b[38;5;28;43mself\u001b[39;49m\u001b[38;5;241;43m.\u001b[39;49m\u001b[43mX_train\u001b[49m\u001b[43m,\u001b[49m\u001b[43m \u001b[49m\u001b[38;5;28;43mself\u001b[39;49m\u001b[38;5;241;43m.\u001b[39;49m\u001b[43my_train\u001b[49m\u001b[43m,\u001b[49m\n\u001b[1;32m    106\u001b[0m \u001b[43m                             \u001b[49m\u001b[43mbatch_size\u001b[49m\u001b[38;5;241;43m=\u001b[39;49m\u001b[38;5;241;43m16\u001b[39;49m\u001b[43m,\u001b[49m\n\u001b[1;32m    107\u001b[0m \u001b[43m                             \u001b[49m\u001b[43mepochs\u001b[49m\u001b[38;5;241;43m=\u001b[39;49m\u001b[38;5;241;43m100\u001b[39;49m\u001b[43m,\u001b[49m\n\u001b[1;32m    108\u001b[0m \u001b[43m                             \u001b[49m\u001b[38;5;66;43;03m#validation_split=0.3,\u001b[39;49;00m\n\u001b[1;32m    109\u001b[0m \u001b[43m                             \u001b[49m\u001b[43mcallbacks\u001b[49m\u001b[38;5;241;43m=\u001b[39;49m\u001b[43m[\u001b[49m\u001b[43mes\u001b[49m\u001b[43m]\u001b[49m\u001b[43m,\u001b[49m\n\u001b[1;32m    110\u001b[0m \u001b[43m                             \u001b[49m\u001b[43mverbose\u001b[49m\u001b[38;5;241;43m=\u001b[39;49m\u001b[38;5;241;43m0\u001b[39;49m\u001b[43m)\u001b[49m\n",
      "File \u001b[0;32m~/.pyenv/versions/3.8.12/envs/BatteryProject/lib/python3.8/site-packages/keras/utils/traceback_utils.py:67\u001b[0m, in \u001b[0;36mfilter_traceback.<locals>.error_handler\u001b[0;34m(*args, **kwargs)\u001b[0m\n\u001b[1;32m     65\u001b[0m \u001b[38;5;28;01mexcept\u001b[39;00m \u001b[38;5;167;01mException\u001b[39;00m \u001b[38;5;28;01mas\u001b[39;00m e:  \u001b[38;5;66;03m# pylint: disable=broad-except\u001b[39;00m\n\u001b[1;32m     66\u001b[0m   filtered_tb \u001b[38;5;241m=\u001b[39m _process_traceback_frames(e\u001b[38;5;241m.\u001b[39m__traceback__)\n\u001b[0;32m---> 67\u001b[0m   \u001b[38;5;28;01mraise\u001b[39;00m e\u001b[38;5;241m.\u001b[39mwith_traceback(filtered_tb) \u001b[38;5;28;01mfrom\u001b[39;00m \u001b[38;5;28mNone\u001b[39m\n\u001b[1;32m     68\u001b[0m \u001b[38;5;28;01mfinally\u001b[39;00m:\n\u001b[1;32m     69\u001b[0m   \u001b[38;5;28;01mdel\u001b[39;00m filtered_tb\n",
      "File \u001b[0;32m~/.pyenv/versions/3.8.12/envs/BatteryProject/lib/python3.8/site-packages/tensorflow/python/framework/func_graph.py:1129\u001b[0m, in \u001b[0;36mfunc_graph_from_py_func.<locals>.autograph_handler\u001b[0;34m(*args, **kwargs)\u001b[0m\n\u001b[1;32m   1127\u001b[0m \u001b[38;5;28;01mexcept\u001b[39;00m \u001b[38;5;167;01mException\u001b[39;00m \u001b[38;5;28;01mas\u001b[39;00m e:  \u001b[38;5;66;03m# pylint:disable=broad-except\u001b[39;00m\n\u001b[1;32m   1128\u001b[0m   \u001b[38;5;28;01mif\u001b[39;00m \u001b[38;5;28mhasattr\u001b[39m(e, \u001b[38;5;124m\"\u001b[39m\u001b[38;5;124mag_error_metadata\u001b[39m\u001b[38;5;124m\"\u001b[39m):\n\u001b[0;32m-> 1129\u001b[0m     \u001b[38;5;28;01mraise\u001b[39;00m e\u001b[38;5;241m.\u001b[39mag_error_metadata\u001b[38;5;241m.\u001b[39mto_exception(e)\n\u001b[1;32m   1130\u001b[0m   \u001b[38;5;28;01melse\u001b[39;00m:\n\u001b[1;32m   1131\u001b[0m     \u001b[38;5;28;01mraise\u001b[39;00m\n",
      "\u001b[0;31mValueError\u001b[0m: in user code:\n\n    File \"/home/nes/.pyenv/versions/3.8.12/envs/BatteryProject/lib/python3.8/site-packages/keras/engine/training.py\", line 878, in train_function  *\n        return step_function(self, iterator)\n    File \"/home/nes/.pyenv/versions/3.8.12/envs/BatteryProject/lib/python3.8/site-packages/keras/engine/training.py\", line 867, in step_function  **\n        outputs = model.distribute_strategy.run(run_step, args=(data,))\n    File \"/home/nes/.pyenv/versions/3.8.12/envs/BatteryProject/lib/python3.8/site-packages/keras/engine/training.py\", line 860, in run_step  **\n        outputs = model.train_step(data)\n    File \"/home/nes/.pyenv/versions/3.8.12/envs/BatteryProject/lib/python3.8/site-packages/keras/engine/training.py\", line 808, in train_step\n        y_pred = self(x, training=True)\n    File \"/home/nes/.pyenv/versions/3.8.12/envs/BatteryProject/lib/python3.8/site-packages/keras/utils/traceback_utils.py\", line 67, in error_handler\n        raise e.with_traceback(filtered_tb) from None\n    File \"/home/nes/.pyenv/versions/3.8.12/envs/BatteryProject/lib/python3.8/site-packages/keras/engine/input_spec.py\", line 263, in assert_input_compatibility\n        raise ValueError(f'Input {input_index} of layer \"{layer_name}\" is '\n\n    ValueError: Input 0 of layer \"sequential_5\" is incompatible with the layer: expected shape=(None, 375, 5), found shape=(None, 5)\n"
     ]
    }
   ],
   "source": [
    "trainer.fit(model)\n",
    "trainer.plot_history()"
   ]
  },
  {
   "cell_type": "code",
   "execution_count": null,
   "id": "196d7520",
   "metadata": {},
   "outputs": [],
   "source": []
  }
 ],
 "metadata": {
  "kernelspec": {
   "display_name": "Python 3 (ipykernel)",
   "language": "python",
   "name": "python3"
  },
  "language_info": {
   "codemirror_mode": {
    "name": "ipython",
    "version": 3
   },
   "file_extension": ".py",
   "mimetype": "text/x-python",
   "name": "python",
   "nbconvert_exporter": "python",
   "pygments_lexer": "ipython3",
   "version": "3.8.12"
  },
  "toc": {
   "base_numbering": 1,
   "nav_menu": {},
   "number_sections": true,
   "sideBar": true,
   "skip_h1_title": false,
   "title_cell": "Table of Contents",
   "title_sidebar": "Contents",
   "toc_cell": false,
   "toc_position": {},
   "toc_section_display": true,
   "toc_window_display": false
  }
 },
 "nbformat": 4,
 "nbformat_minor": 5
}
