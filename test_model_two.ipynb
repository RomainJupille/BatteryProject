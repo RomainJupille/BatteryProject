{
 "cells": [
  {
   "cell_type": "code",
   "execution_count": 136,
   "id": "82bae687",
   "metadata": {
    "ExecuteTime": {
     "end_time": "2022-06-17T12:17:29.719956Z",
     "start_time": "2022-06-17T12:17:29.658648Z"
    }
   },
   "outputs": [
    {
     "name": "stdout",
     "output_type": "stream",
     "text": [
      "The autoreload extension is already loaded. To reload it, use:\n",
      "  %reload_ext autoreload\n"
     ]
    }
   ],
   "source": [
    "%load_ext autoreload\n",
    "%autoreload 2"
   ]
  },
  {
   "cell_type": "code",
   "execution_count": 137,
   "id": "fa3f0cb3",
   "metadata": {
    "ExecuteTime": {
     "end_time": "2022-06-17T12:17:32.135708Z",
     "start_time": "2022-06-17T12:17:32.021858Z"
    }
   },
   "outputs": [],
   "source": [
    "from sklearn.preprocessing import RobustScaler\n",
    "from sklearn.model_selection import GridSearchCV\n",
    "from sklearn.pipeline import Pipeline\n",
    "from tensorflow.keras.preprocessing.sequence import pad_sequences\n",
    "import numpy as np\n"
   ]
  },
  {
   "cell_type": "code",
   "execution_count": 322,
   "id": "7e539453",
   "metadata": {
    "ExecuteTime": {
     "end_time": "2022-06-17T15:17:33.479094Z",
     "start_time": "2022-06-17T15:17:30.898073Z"
    }
   },
   "outputs": [
    {
     "name": "stdout",
     "output_type": "stream",
     "text": [
      "offset: 100 deep: 20 classes: [550]\n"
     ]
    }
   ],
   "source": [
    "from BatteryProject.ModelTwo import trainer\n",
    "\n",
    "trainer = trainer.Trainer(deep=20,offset=100)\n",
    "trainer.features = {\n",
    "        'disc_capa' : 'summary_discharge_capacity.csv',\n",
    "        'dis_ener' : 'summary_discharge_energy.csv',\n",
    "        'temp_avg' : 'summary_temperature_average.csv',\n",
    "        'char_capa' : 'summary_charge_capacity.csv'}\n",
    "\n",
    "print(f\"offset: {trainer.offset} deep: {trainer.deep} classes: {trainer.classes}\")\n",
    "\n",
    "# récupère les données\n",
    "trainer.get_data(trainer.features);"
   ]
  },
  {
   "cell_type": "code",
   "execution_count": 323,
   "id": "a2983838",
   "metadata": {
    "ExecuteTime": {
     "end_time": "2022-06-17T15:17:34.331618Z",
     "start_time": "2022-06-17T15:17:34.272043Z"
    }
   },
   "outputs": [
    {
     "name": "stdout",
     "output_type": "stream",
     "text": [
      "X_train.shape: (93, 20, 4) y_train.shape: (93,)\n"
     ]
    }
   ],
   "source": [
    "print(f\"X_train.shape: {trainer.X_train.shape} y_train.shape: {trainer.y_train.shape}\")"
   ]
  },
  {
   "cell_type": "code",
   "execution_count": 324,
   "id": "b7893a68",
   "metadata": {
    "ExecuteTime": {
     "end_time": "2022-06-17T15:17:36.932914Z",
     "start_time": "2022-06-17T15:17:36.781836Z"
    }
   },
   "outputs": [
    {
     "name": "stdout",
     "output_type": "stream",
     "text": [
      "Model: \"sequential_21\"\n",
      "_________________________________________________________________\n",
      " Layer (type)                Output Shape              Param #   \n",
      "=================================================================\n",
      " conv1d_51 (Conv1D)          (None, 20, 32)            544       \n",
      "                                                                 \n",
      " max_pooling1d_39 (MaxPoolin  (None, 10, 32)           0         \n",
      " g1D)                                                            \n",
      "                                                                 \n",
      " conv1d_52 (Conv1D)          (None, 10, 32)            3104      \n",
      "                                                                 \n",
      " max_pooling1d_40 (MaxPoolin  (None, 5, 32)            0         \n",
      " g1D)                                                            \n",
      "                                                                 \n",
      " conv1d_53 (Conv1D)          (None, 5, 32)             2080      \n",
      "                                                                 \n",
      " max_pooling1d_41 (MaxPoolin  (None, 2, 32)            0         \n",
      " g1D)                                                            \n",
      "                                                                 \n",
      " flatten_18 (Flatten)        (None, 64)                0         \n",
      "                                                                 \n",
      " dense_36 (Dense)            (None, 100)               6500      \n",
      "                                                                 \n",
      " dense_37 (Dense)            (None, 1)                 101       \n",
      "                                                                 \n",
      "=================================================================\n",
      "Total params: 12,329\n",
      "Trainable params: 12,329\n",
      "Non-trainable params: 0\n",
      "_________________________________________________________________\n"
     ]
    }
   ],
   "source": [
    "model = trainer.initialize_model_CNN()\n",
    "model.summary()"
   ]
  },
  {
   "cell_type": "code",
   "execution_count": 325,
   "id": "73eda51c",
   "metadata": {
    "ExecuteTime": {
     "end_time": "2022-06-17T15:17:44.233103Z",
     "start_time": "2022-06-17T15:17:40.679465Z"
    }
   },
   "outputs": [
    {
     "name": "stdout",
     "output_type": "stream",
     "text": [
      "Epoch 1/100\n",
      "5/5 [==============================] - 1s 56ms/step - loss: 671486.7500 - mse: 671486.7500 - val_loss: 879534.0625 - val_mse: 879534.0625\n",
      "Epoch 2/100\n",
      "5/5 [==============================] - 0s 14ms/step - loss: 648002.5000 - mse: 648002.5000 - val_loss: 844820.5000 - val_mse: 844820.5000\n",
      "Epoch 3/100\n",
      "5/5 [==============================] - 0s 14ms/step - loss: 610487.5625 - mse: 610487.5625 - val_loss: 791290.6250 - val_mse: 791290.6250\n",
      "Epoch 4/100\n",
      "5/5 [==============================] - 0s 16ms/step - loss: 553734.9375 - mse: 553734.9375 - val_loss: 711069.0000 - val_mse: 711069.0000\n",
      "Epoch 5/100\n",
      "5/5 [==============================] - 0s 15ms/step - loss: 470298.9375 - mse: 470298.9375 - val_loss: 596600.9375 - val_mse: 596600.9375\n",
      "Epoch 6/100\n",
      "5/5 [==============================] - 0s 15ms/step - loss: 358032.5000 - mse: 358032.5000 - val_loss: 455178.8125 - val_mse: 455178.8125\n",
      "Epoch 7/100\n",
      "5/5 [==============================] - 0s 14ms/step - loss: 230875.5000 - mse: 230875.5000 - val_loss: 316685.6562 - val_mse: 316685.6562\n",
      "Epoch 8/100\n",
      "5/5 [==============================] - 0s 14ms/step - loss: 143614.6406 - mse: 143614.6406 - val_loss: 254718.1406 - val_mse: 254718.1406\n",
      "Epoch 9/100\n",
      "5/5 [==============================] - 0s 13ms/step - loss: 133933.1562 - mse: 133933.1562 - val_loss: 254918.7812 - val_mse: 254918.7812\n",
      "Epoch 10/100\n",
      "5/5 [==============================] - 0s 21ms/step - loss: 134857.9531 - mse: 134857.9531 - val_loss: 253322.2969 - val_mse: 253322.2969\n",
      "Epoch 11/100\n",
      "5/5 [==============================] - 0s 15ms/step - loss: 127149.0781 - mse: 127149.0781 - val_loss: 255807.8281 - val_mse: 255807.8281\n",
      "Epoch 12/100\n",
      "5/5 [==============================] - 0s 15ms/step - loss: 124900.3438 - mse: 124900.3438 - val_loss: 268567.0625 - val_mse: 268567.0625\n",
      "Epoch 13/100\n",
      "5/5 [==============================] - 0s 13ms/step - loss: 131384.7344 - mse: 131384.7344 - val_loss: 280552.5312 - val_mse: 280552.5312\n",
      "Epoch 14/100\n",
      "5/5 [==============================] - 0s 15ms/step - loss: 135667.2969 - mse: 135667.2969 - val_loss: 280651.0625 - val_mse: 280651.0625\n",
      "Epoch 15/100\n",
      "5/5 [==============================] - 0s 15ms/step - loss: 132253.6875 - mse: 132253.6875 - val_loss: 267760.8125 - val_mse: 267760.8125\n",
      "Epoch 16/100\n",
      "5/5 [==============================] - 0s 15ms/step - loss: 126917.5078 - mse: 126917.5078 - val_loss: 255748.1406 - val_mse: 255748.1406\n",
      "Epoch 17/100\n",
      "5/5 [==============================] - 0s 16ms/step - loss: 129939.5078 - mse: 129939.5078 - val_loss: 253435.4688 - val_mse: 253435.4688\n",
      "Epoch 18/100\n",
      "5/5 [==============================] - 0s 14ms/step - loss: 128131.3750 - mse: 128131.3750 - val_loss: 253472.3594 - val_mse: 253472.3594\n",
      "Epoch 19/100\n",
      "5/5 [==============================] - 0s 14ms/step - loss: 129407.0469 - mse: 129407.0469 - val_loss: 253158.1406 - val_mse: 253158.1406\n",
      "Epoch 20/100\n",
      "5/5 [==============================] - 0s 15ms/step - loss: 129227.3984 - mse: 129227.3984 - val_loss: 253686.5000 - val_mse: 253686.5000\n",
      "Epoch 21/100\n",
      "5/5 [==============================] - 0s 16ms/step - loss: 128227.8906 - mse: 128227.8906 - val_loss: 253347.1719 - val_mse: 253347.1719\n",
      "Epoch 22/100\n",
      "5/5 [==============================] - 0s 15ms/step - loss: 127930.6562 - mse: 127930.6562 - val_loss: 254654.5312 - val_mse: 254654.5312\n",
      "Epoch 23/100\n",
      "5/5 [==============================] - 0s 14ms/step - loss: 126957.5625 - mse: 126957.5625 - val_loss: 263998.1875 - val_mse: 263998.1875\n",
      "Epoch 24/100\n",
      "5/5 [==============================] - 0s 14ms/step - loss: 128116.4844 - mse: 128116.4844 - val_loss: 269696.8125 - val_mse: 269696.8125\n",
      "Epoch 25/100\n",
      "5/5 [==============================] - 0s 14ms/step - loss: 129296.5391 - mse: 129296.5391 - val_loss: 270475.4688 - val_mse: 270475.4688\n",
      "Epoch 26/100\n",
      "5/5 [==============================] - 0s 13ms/step - loss: 128036.2656 - mse: 128036.2656 - val_loss: 260922.8594 - val_mse: 260922.8594\n",
      "Epoch 27/100\n",
      "5/5 [==============================] - 0s 13ms/step - loss: 127240.9531 - mse: 127240.9531 - val_loss: 253565.1406 - val_mse: 253565.1406\n",
      "Epoch 28/100\n",
      "5/5 [==============================] - 0s 15ms/step - loss: 128257.0312 - mse: 128257.0312 - val_loss: 253303.6094 - val_mse: 253303.6094\n",
      "Epoch 29/100\n",
      "5/5 [==============================] - 0s 14ms/step - loss: 128483.9062 - mse: 128483.9062 - val_loss: 254632.5938 - val_mse: 254632.5938\n",
      "Epoch 30/100\n",
      "5/5 [==============================] - 0s 16ms/step - loss: 126137.7422 - mse: 126137.7422 - val_loss: 255342.8281 - val_mse: 255342.8281\n",
      "Epoch 31/100\n",
      "5/5 [==============================] - 0s 15ms/step - loss: 125269.6094 - mse: 125269.6094 - val_loss: 257459.2812 - val_mse: 257459.2812\n",
      "Epoch 32/100\n",
      "5/5 [==============================] - 0s 13ms/step - loss: 125470.0234 - mse: 125470.0234 - val_loss: 261336.6562 - val_mse: 261336.6562\n",
      "Epoch 33/100\n",
      "5/5 [==============================] - 0s 13ms/step - loss: 125729.2500 - mse: 125729.2500 - val_loss: 264134.7500 - val_mse: 264134.7500\n",
      "Epoch 34/100\n",
      "5/5 [==============================] - 0s 13ms/step - loss: 129065.4922 - mse: 129065.4922 - val_loss: 271381.9688 - val_mse: 271381.9688\n",
      "Epoch 35/100\n",
      "5/5 [==============================] - 0s 14ms/step - loss: 129919.4453 - mse: 129919.4453 - val_loss: 271720.2812 - val_mse: 271720.2812\n",
      "Epoch 36/100\n",
      "5/5 [==============================] - 0s 15ms/step - loss: 129203.7422 - mse: 129203.7422 - val_loss: 268207.2500 - val_mse: 268207.2500\n",
      "Epoch 37/100\n",
      "5/5 [==============================] - 0s 13ms/step - loss: 130122.8594 - mse: 130122.8594 - val_loss: 274479.7812 - val_mse: 274479.7812\n",
      "Epoch 38/100\n",
      "5/5 [==============================] - 0s 13ms/step - loss: 131477.0312 - mse: 131477.0312 - val_loss: 271469.2188 - val_mse: 271469.2188\n",
      "Epoch 39/100\n",
      "5/5 [==============================] - 0s 14ms/step - loss: 129550.8594 - mse: 129550.8594 - val_loss: 266217.4375 - val_mse: 266217.4375\n"
     ]
    }
   ],
   "source": [
    "trainer.fit(model)"
   ]
  },
  {
   "cell_type": "code",
   "execution_count": 327,
   "id": "196d7520",
   "metadata": {
    "ExecuteTime": {
     "end_time": "2022-06-17T15:18:15.060833Z",
     "start_time": "2022-06-17T15:18:14.933712Z"
    }
   },
   "outputs": [
    {
     "name": "stdout",
     "output_type": "stream",
     "text": [
      "MSE: 166547.36  RMSE: 408.1\n"
     ]
    },
    {
     "data": {
      "text/plain": [
       "[166547.359375, 166547.359375]"
      ]
     },
     "execution_count": 327,
     "metadata": {},
     "output_type": "execute_result"
    }
   ],
   "source": [
    "error = trainer.eval(model)\n",
    "print(f\"MSE: {round(error[0],2)}  RMSE: {round(np.sqrt(error[0]),2)}\")\n",
    "error"
   ]
  },
  {
   "cell_type": "code",
   "execution_count": null,
   "id": "df733fa7",
   "metadata": {},
   "outputs": [],
   "source": []
  }
 ],
 "metadata": {
  "kernelspec": {
   "display_name": "Python 3 (ipykernel)",
   "language": "python",
   "name": "python3"
  },
  "language_info": {
   "codemirror_mode": {
    "name": "ipython",
    "version": 3
   },
   "file_extension": ".py",
   "mimetype": "text/x-python",
   "name": "python",
   "nbconvert_exporter": "python",
   "pygments_lexer": "ipython3",
   "version": "3.8.12"
  },
  "toc": {
   "base_numbering": 1,
   "nav_menu": {},
   "number_sections": true,
   "sideBar": true,
   "skip_h1_title": false,
   "title_cell": "Table of Contents",
   "title_sidebar": "Contents",
   "toc_cell": false,
   "toc_position": {},
   "toc_section_display": true,
   "toc_window_display": false
  }
 },
 "nbformat": 4,
 "nbformat_minor": 5
}
