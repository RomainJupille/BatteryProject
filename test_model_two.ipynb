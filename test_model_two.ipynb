{
 "cells": [
  {
   "cell_type": "code",
   "execution_count": 77,
   "id": "82bae687",
   "metadata": {
    "ExecuteTime": {
     "end_time": "2022-06-22T04:07:24.588889Z",
     "start_time": "2022-06-22T04:07:24.520055Z"
    }
   },
   "outputs": [
    {
     "name": "stdout",
     "output_type": "stream",
     "text": [
      "The autoreload extension is already loaded. To reload it, use:\n",
      "  %reload_ext autoreload\n"
     ]
    }
   ],
   "source": [
    "%load_ext autoreload\n",
    "%autoreload 2"
   ]
  },
  {
   "cell_type": "code",
   "execution_count": 78,
   "id": "fa3f0cb3",
   "metadata": {
    "ExecuteTime": {
     "end_time": "2022-06-22T04:07:26.869640Z",
     "start_time": "2022-06-22T04:07:26.806186Z"
    }
   },
   "outputs": [],
   "source": [
    "from sklearn.pipeline import Pipeline\n",
    "import numpy as np\n",
    "from sklearn import set_config\n",
    "set_config(display=\"diagram\")\n"
   ]
  },
  {
   "cell_type": "code",
   "execution_count": 79,
   "id": "7e539453",
   "metadata": {
    "ExecuteTime": {
     "end_time": "2022-06-22T04:07:29.337283Z",
     "start_time": "2022-06-22T04:07:29.264379Z"
    },
    "scrolled": false
   },
   "outputs": [],
   "source": [
    "from BatteryProject.ModelTwo import trainer\n",
    "from BatteryProject.ModelTwo.loss import root_mean_squared_error \n",
    "\n",
    "features = {\n",
    "    'disc_capa' : 'summary_discharge_capacity.csv',\n",
    "    'dis_ener' : 'summary_discharge_energy.csv',\n",
    "    'temp_avg' : 'summary_temperature_average.csv',\n",
    "    'char_capa' : 'summary_charge_capacity.csv',\n",
    "}"
   ]
  },
  {
   "cell_type": "code",
   "execution_count": 80,
   "id": "4e996d30",
   "metadata": {
    "ExecuteTime": {
     "end_time": "2022-06-22T04:07:32.202203Z",
     "start_time": "2022-06-22T04:07:32.135395Z"
    },
    "scrolled": true
   },
   "outputs": [
    {
     "data": {
      "text/plain": [
       "<BatteryProject.ModelTwo.trainer.Trainer at 0x7f2671f29a90>"
      ]
     },
     "execution_count": 80,
     "metadata": {},
     "output_type": "execute_result"
    }
   ],
   "source": [
    "trainer = trainer.Trainer(features)\n",
    "trainer"
   ]
  },
  {
   "cell_type": "code",
   "execution_count": 81,
   "id": "348b0c68",
   "metadata": {
    "ExecuteTime": {
     "end_time": "2022-06-22T04:08:39.859217Z",
     "start_time": "2022-06-22T04:07:34.703543Z"
    }
   },
   "outputs": [
    {
     "data": {
      "text/plain": [
       "<BatteryProject.ModelTwo.trainer.Trainer at 0x7f2671f29a90>"
      ]
     },
     "execution_count": 81,
     "metadata": {},
     "output_type": "execute_result"
    }
   ],
   "source": [
    "trainer.get_data()"
   ]
  },
  {
   "cell_type": "code",
   "execution_count": 6,
   "id": "a2983838",
   "metadata": {
    "ExecuteTime": {
     "end_time": "2022-06-22T03:09:52.427895Z",
     "start_time": "2022-06-22T03:09:52.362293Z"
    }
   },
   "outputs": [
    {
     "name": "stdout",
     "output_type": "stream",
     "text": [
      "X_train.shape: (4409, 20, 5) y_train.shape: (4409,)\n"
     ]
    }
   ],
   "source": [
    "print(f\"X_train.shape: {trainer.X_train.shape} y_train.shape: {trainer.y_train.shape}\")"
   ]
  },
  {
   "cell_type": "code",
   "execution_count": 60,
   "id": "2ba0b377",
   "metadata": {
    "ExecuteTime": {
     "end_time": "2022-06-22T03:30:43.583334Z",
     "start_time": "2022-06-22T03:30:42.750827Z"
    }
   },
   "outputs": [
    {
     "name": "stdout",
     "output_type": "stream",
     "text": [
      "[[[  1.5689189    4.807014    32.31328964   1.0710737    0.        ]\n",
      "  [  1.0731678    3.2680535   33.10474777   1.0725025    1.        ]\n",
      "  [  1.0741653    3.2722847   33.09000015   1.0736545    2.        ]\n",
      "  ...\n",
      "  [  1.0768569    3.282582    33.13300705   1.076632    17.        ]\n",
      "  [  1.0768059    3.2822788   33.15065765   1.0766392   18.        ]\n",
      "  [  1.0768418    3.282212    33.14743805   1.0766382   19.        ]]\n",
      "\n",
      " [[  1.0766661    3.2819662   33.06366348   1.0764952   15.        ]\n",
      "  [  1.0767251    3.2822409   33.12436295   1.076589    16.        ]\n",
      "  [  1.0768569    3.282582    33.13300705   1.076632    17.        ]\n",
      "  ...\n",
      "  [  1.0768931    3.2803957   33.26432419   1.0766628   32.        ]\n",
      "  [  1.0768956    3.2800434   33.25403595   1.0767494   33.        ]\n",
      "  [  1.076942     3.2797248   33.23129654   1.0767286   34.        ]]\n",
      "\n",
      " [[  1.0769298    3.2804549   33.18383789   1.0766743   30.        ]\n",
      "  [  1.0769316    3.280477    33.23272324   1.0767308   31.        ]\n",
      "  [  1.0768931    3.2803957   33.26432419   1.0766628   32.        ]\n",
      "  ...\n",
      "  [  1.0765876    3.27544     33.28147125   1.0763884   47.        ]\n",
      "  [  1.0766407    3.2756023   33.31546402   1.0764266   48.        ]\n",
      "  [  1.0766814    3.2757478   33.33211899   1.0764244   49.        ]]\n",
      "\n",
      " ...\n",
      "\n",
      " [[  0.9833796    2.8897653   33.40598679   0.98403692 825.        ]\n",
      "  [  0.98256481   2.889075    33.60300064   0.98309964 826.        ]\n",
      "  [  0.98202538   2.8895068   33.82928467   0.98267531 827.        ]\n",
      "  ...\n",
      "  [  0.97025114   2.8434124   33.1481781    0.97095299 842.        ]\n",
      "  [  0.96977234   2.8408539   33.13201523   0.97053146 843.        ]\n",
      "  [  0.96883088   2.8380554   33.11241913   0.96951485 844.        ]]\n",
      "\n",
      " [[  0.97179127   2.8491714   33.25792313   0.97250712 840.        ]\n",
      "  [  0.97111797   2.8463399   33.20037842   0.97182465 841.        ]\n",
      "  [  0.97025114   2.8434124   33.1481781    0.97095299 842.        ]\n",
      "  ...\n",
      "  [  0.95772129   2.802253    33.37089157   0.95844585 857.        ]\n",
      "  [  0.95704126   2.8028328   33.64263535   0.95785969 858.        ]\n",
      "  [  0.9563663    2.8027902   33.87046432   0.95715833 859.        ]]\n",
      "\n",
      " [[  0.95934749   2.8054941   33.0813179    0.96007115 855.        ]\n",
      "  [  0.95871323   2.8029685   33.19210052   0.95955014 856.        ]\n",
      "  [  0.95772129   2.802253    33.37089157   0.95844585 857.        ]\n",
      "  ...\n",
      "  [  0.94489753   2.7567625   33.05061722   0.9457646  872.        ]\n",
      "  [  0.94385082   2.7535768   33.15798187   0.94470745 873.        ]\n",
      "  [  0.94297367   2.7504635   33.10673141   0.94385225 874.        ]]]\n",
      "[[[ 5.05940264  4.8177734  -0.9573889   0.58952109 -1.2452112 ]\n",
      "  [ 0.85554684  1.0387211  -0.58565769  0.84624912 -1.2452112 ]\n",
      "  [ 0.87782173  1.0636322  -0.59520003  0.87173973 -1.2452112 ]\n",
      "  ...\n",
      "  [ 0.9315228   1.1115313  -0.58306076  0.93294636 -1.2452112 ]\n",
      "  [ 0.92997888  1.1091151  -0.57478418  0.93273489 -1.2452112 ]\n",
      "  [ 0.92986594  1.10747665 -0.58180434  0.93236826 -1.2452112 ]]\n",
      "\n",
      " [[ 0.26447021  0.38901415 -0.57583644  0.69337932 -1.20742793]\n",
      "  [ 0.94083449  1.13151037 -0.57549684  0.94491768 -1.20742793]\n",
      "  [ 0.94195033  1.13057317 -0.57290975  0.94309733 -1.20742793]\n",
      "  ...\n",
      "  [ 0.93231242  1.09846259 -0.51533158  0.93362258 -1.20742793]\n",
      "  [ 0.93192384  1.09582689 -0.52140193  0.93514179 -1.20742793]\n",
      "  [ 0.93202557  1.09276754 -0.53829509  0.93433083 -1.20742793]]\n",
      "\n",
      " [[ 0.26703886  0.38462531 -0.51472978  0.69681029 -1.16964466]\n",
      "  [ 0.94578541  1.119974   -0.51936519  0.94834144 -1.16964466]\n",
      "  [ 0.94281281  1.11636041 -0.50484865  0.94383547 -1.16964466]\n",
      "  ...\n",
      "  [ 0.92564863  1.06883967 -0.50648768  0.92759802 -1.16964466]\n",
      "  [ 0.92639686  1.06942701 -0.48968185  0.92809144 -1.16964466]\n",
      "  [ 0.92640882  1.06924786 -0.48598423  0.9277267  -1.16964466]]\n",
      "\n",
      " ...\n",
      "\n",
      " [[-0.64421424 -0.74994252 -0.40177081 -1.07781927  0.83286878]\n",
      "  [-1.31669514 -1.43989626 -0.32755802 -1.31238322  0.83286878]\n",
      "  [-1.31745408 -1.42474076 -0.21203212 -1.30863196  0.83286878]\n",
      "  ...\n",
      "  [-1.39383874 -1.51362541 -0.57523602 -1.38727775  0.83286878]\n",
      "  [-1.39081922 -1.5149109  -0.58441071 -1.38478908  0.83286878]\n",
      "  [-1.39810761 -1.51923245 -0.5999736  -1.3932639   0.83286878]]\n",
      "\n",
      " [[-0.75709376 -0.86782775 -0.47705869 -1.29869257  0.87065206]\n",
      "  [-1.59113759 -1.71939486 -0.53612011 -1.5846179   0.87065206]\n",
      "  [-1.59798075 -1.72439248 -0.56504666 -1.5895645   0.87065206]\n",
      "  ...\n",
      "  [-1.66714884 -1.75965764 -0.46036754 -1.66187691  0.87065206]\n",
      "  [-1.66686597 -1.74092524 -0.32073787 -1.66155617  0.87065206]\n",
      "  [-1.66675834 -1.72778822 -0.20666842 -1.66152213  0.87065206]]\n",
      "\n",
      " [[-0.87830604 -0.99466722 -0.56685947 -1.53692513  0.90843533]\n",
      "  [-1.88854606 -2.00305503 -0.54040814 -1.88098598  0.90843533]\n",
      "  [-1.89651016 -1.99196263 -0.44961525 -1.88930572  0.90843533]\n",
      "  ...\n",
      "  [-1.94686992 -2.03157922 -0.6255548  -1.94029873  0.90843533]\n",
      "  [-1.95287297 -2.03372482 -0.57100212 -1.94881732  0.90843533]\n",
      "  [-1.95541146 -2.03724443 -0.60292462 -1.95039517  0.90843533]]]\n",
      "baseline: tf.Tensor(482.29053, shape=(), dtype=float32)\n"
     ]
    }
   ],
   "source": [
    "trainer.scaling()\n",
    "trainer.get_baseline()\n",
    "print(\"baseline:\", trainer.baseline)"
   ]
  },
  {
   "cell_type": "code",
   "execution_count": 57,
   "id": "45eed053",
   "metadata": {
    "ExecuteTime": {
     "end_time": "2022-06-22T03:30:05.160408Z",
     "start_time": "2022-06-22T03:30:05.016727Z"
    }
   },
   "outputs": [
    {
     "data": {
      "text/plain": [
       "<BatteryProject.ModelTwo.trainer.Trainer at 0x7f26a01a4550>"
      ]
     },
     "execution_count": 57,
     "metadata": {},
     "output_type": "execute_result"
    }
   ],
   "source": [
    "trainer.set_pipeline()"
   ]
  },
  {
   "cell_type": "code",
   "execution_count": 8,
   "id": "73eda51c",
   "metadata": {
    "ExecuteTime": {
     "end_time": "2022-06-22T03:11:05.525208Z",
     "start_time": "2022-06-22T03:10:35.334564Z"
    }
   },
   "outputs": [
    {
     "name": "stdout",
     "output_type": "stream",
     "text": [
      "Epoch 1/500\n",
      "138/138 [==============================] - 2s 7ms/step - loss: 185453.5781 - root_mean_squared_error: 430.6432 - val_loss: 80006.6016 - val_root_mean_squared_error: 282.8544\n",
      "Epoch 2/500\n",
      "138/138 [==============================] - 1s 5ms/step - loss: 84652.6719 - root_mean_squared_error: 290.9513 - val_loss: 70723.5234 - val_root_mean_squared_error: 265.9389\n",
      "Epoch 3/500\n",
      "138/138 [==============================] - 1s 5ms/step - loss: 74543.1875 - root_mean_squared_error: 273.0260 - val_loss: 66319.0234 - val_root_mean_squared_error: 257.5248\n",
      "Epoch 4/500\n",
      "138/138 [==============================] - 1s 5ms/step - loss: 66361.8047 - root_mean_squared_error: 257.6078 - val_loss: 57824.9609 - val_root_mean_squared_error: 240.4682\n",
      "Epoch 5/500\n",
      "138/138 [==============================] - 1s 6ms/step - loss: 58877.8750 - root_mean_squared_error: 242.6476 - val_loss: 52850.3828 - val_root_mean_squared_error: 229.8921\n",
      "Epoch 6/500\n",
      "138/138 [==============================] - 1s 6ms/step - loss: 53017.4727 - root_mean_squared_error: 230.2552 - val_loss: 47734.5273 - val_root_mean_squared_error: 218.4823\n",
      "Epoch 7/500\n",
      "138/138 [==============================] - 1s 5ms/step - loss: 49190.4648 - root_mean_squared_error: 221.7892 - val_loss: 48964.1250 - val_root_mean_squared_error: 221.2784\n",
      "Epoch 8/500\n",
      "138/138 [==============================] - 1s 5ms/step - loss: 46467.9844 - root_mean_squared_error: 215.5643 - val_loss: 45966.1445 - val_root_mean_squared_error: 214.3972\n",
      "Epoch 9/500\n",
      "138/138 [==============================] - 1s 6ms/step - loss: 45020.2617 - root_mean_squared_error: 212.1798 - val_loss: 46623.1602 - val_root_mean_squared_error: 215.9240\n",
      "Epoch 10/500\n",
      "138/138 [==============================] - 1s 5ms/step - loss: 43724.0938 - root_mean_squared_error: 209.1031 - val_loss: 45928.3711 - val_root_mean_squared_error: 214.3091\n",
      "Epoch 11/500\n",
      "138/138 [==============================] - 1s 5ms/step - loss: 42398.8438 - root_mean_squared_error: 205.9098 - val_loss: 46094.3516 - val_root_mean_squared_error: 214.6960\n",
      "Epoch 12/500\n",
      "138/138 [==============================] - 1s 5ms/step - loss: 41256.2539 - root_mean_squared_error: 203.1163 - val_loss: 42857.5703 - val_root_mean_squared_error: 207.0207\n",
      "Epoch 13/500\n",
      "138/138 [==============================] - 1s 5ms/step - loss: 39904.3438 - root_mean_squared_error: 199.7607 - val_loss: 41669.8789 - val_root_mean_squared_error: 204.1320\n",
      "Epoch 14/500\n",
      "138/138 [==============================] - 1s 5ms/step - loss: 38862.0234 - root_mean_squared_error: 197.1345 - val_loss: 42981.3594 - val_root_mean_squared_error: 207.3195\n",
      "Epoch 15/500\n",
      "138/138 [==============================] - 1s 5ms/step - loss: 37678.9141 - root_mean_squared_error: 194.1106 - val_loss: 42373.6367 - val_root_mean_squared_error: 205.8486\n",
      "Epoch 16/500\n",
      "138/138 [==============================] - 1s 5ms/step - loss: 37270.8516 - root_mean_squared_error: 193.0566 - val_loss: 43431.8477 - val_root_mean_squared_error: 208.4031\n",
      "Epoch 17/500\n",
      "138/138 [==============================] - 1s 6ms/step - loss: 36111.6992 - root_mean_squared_error: 190.0308 - val_loss: 40775.5156 - val_root_mean_squared_error: 201.9295\n",
      "Epoch 18/500\n",
      "138/138 [==============================] - 1s 6ms/step - loss: 35374.8008 - root_mean_squared_error: 188.0819 - val_loss: 40481.8008 - val_root_mean_squared_error: 201.2009\n",
      "Epoch 19/500\n",
      "138/138 [==============================] - 1s 5ms/step - loss: 34669.2383 - root_mean_squared_error: 186.1968 - val_loss: 38571.4336 - val_root_mean_squared_error: 196.3961\n",
      "Epoch 20/500\n",
      "138/138 [==============================] - 1s 5ms/step - loss: 33687.6211 - root_mean_squared_error: 183.5419 - val_loss: 35240.9023 - val_root_mean_squared_error: 187.7256\n",
      "Epoch 21/500\n",
      "138/138 [==============================] - 1s 5ms/step - loss: 32966.3594 - root_mean_squared_error: 181.5664 - val_loss: 34719.9258 - val_root_mean_squared_error: 186.3328\n",
      "Epoch 22/500\n",
      "138/138 [==============================] - 1s 6ms/step - loss: 32627.6758 - root_mean_squared_error: 180.6313 - val_loss: 35197.1680 - val_root_mean_squared_error: 187.6091\n",
      "Epoch 23/500\n",
      "138/138 [==============================] - 1s 6ms/step - loss: 31401.3672 - root_mean_squared_error: 177.2043 - val_loss: 35656.9062 - val_root_mean_squared_error: 188.8304\n",
      "Epoch 24/500\n",
      "138/138 [==============================] - 1s 5ms/step - loss: 31132.6113 - root_mean_squared_error: 176.4444 - val_loss: 35140.4844 - val_root_mean_squared_error: 187.4579\n",
      "Epoch 25/500\n",
      "138/138 [==============================] - 1s 5ms/step - loss: 31045.7520 - root_mean_squared_error: 176.1980 - val_loss: 37988.5234 - val_root_mean_squared_error: 194.9064\n",
      "Epoch 26/500\n",
      "138/138 [==============================] - 1s 6ms/step - loss: 30754.1191 - root_mean_squared_error: 175.3685 - val_loss: 34436.0898 - val_root_mean_squared_error: 185.5696\n",
      "Epoch 27/500\n",
      "138/138 [==============================] - 1s 6ms/step - loss: 30606.0469 - root_mean_squared_error: 174.9458 - val_loss: 32201.2578 - val_root_mean_squared_error: 179.4471\n",
      "Epoch 28/500\n",
      "138/138 [==============================] - 1s 6ms/step - loss: 29473.4863 - root_mean_squared_error: 171.6784 - val_loss: 42457.2578 - val_root_mean_squared_error: 206.0516\n",
      "Epoch 29/500\n",
      "138/138 [==============================] - 1s 6ms/step - loss: 29502.0918 - root_mean_squared_error: 171.7617 - val_loss: 37890.2617 - val_root_mean_squared_error: 194.6542\n",
      "Epoch 30/500\n",
      "138/138 [==============================] - 1s 5ms/step - loss: 28835.8125 - root_mean_squared_error: 169.8111 - val_loss: 36501.2227 - val_root_mean_squared_error: 191.0529\n",
      "Epoch 31/500\n",
      "138/138 [==============================] - 1s 5ms/step - loss: 28400.6270 - root_mean_squared_error: 168.5249 - val_loss: 37580.8828 - val_root_mean_squared_error: 193.8579\n",
      "Epoch 32/500\n",
      "138/138 [==============================] - 1s 5ms/step - loss: 28312.8301 - root_mean_squared_error: 168.2642 - val_loss: 46856.3398 - val_root_mean_squared_error: 216.4633\n",
      "Epoch 33/500\n",
      "138/138 [==============================] - 1s 5ms/step - loss: 28515.1465 - root_mean_squared_error: 168.8643 - val_loss: 33927.2266 - val_root_mean_squared_error: 184.1935\n",
      "Epoch 34/500\n",
      "138/138 [==============================] - 1s 6ms/step - loss: 28268.5312 - root_mean_squared_error: 168.1325 - val_loss: 34505.7656 - val_root_mean_squared_error: 185.7573\n",
      "Epoch 35/500\n",
      "138/138 [==============================] - 1s 5ms/step - loss: 27499.5312 - root_mean_squared_error: 165.8298 - val_loss: 37982.6328 - val_root_mean_squared_error: 194.8913\n",
      "Epoch 36/500\n",
      "138/138 [==============================] - 1s 5ms/step - loss: 28088.1875 - root_mean_squared_error: 167.5953 - val_loss: 34393.0664 - val_root_mean_squared_error: 185.4537\n",
      "Epoch 37/500\n",
      "138/138 [==============================] - 1s 5ms/step - loss: 28170.2695 - root_mean_squared_error: 167.8400 - val_loss: 36697.7461 - val_root_mean_squared_error: 191.5666\n"
     ]
    },
    {
     "data": {
      "text/plain": [
       "<BatteryProject.ModelTwo.trainer.Trainer at 0x7f26a01a4550>"
      ]
     },
     "execution_count": 8,
     "metadata": {},
     "output_type": "execute_result"
    }
   ],
   "source": [
    "trainer.run()"
   ]
  },
  {
   "cell_type": "code",
   "execution_count": 64,
   "id": "e0585afb",
   "metadata": {
    "ExecuteTime": {
     "end_time": "2022-06-22T03:32:38.090313Z",
     "start_time": "2022-06-22T03:32:37.223060Z"
    },
    "scrolled": true
   },
   "outputs": [
    {
     "name": "stdout",
     "output_type": "stream",
     "text": [
      "Mean absolute error: [570841.0, 570841.0]\n"
     ]
    },
    {
     "data": {
      "image/png": "[encoded data removed]",
      "text/plain": [
       "<Figure size 936x288 with 2 Axes>"
      ]
     },
     "metadata": {
      "needs_background": "light"
     },
     "output_type": "display_data"
    }
   ],
   "source": [
    "res = trainer.eval()\n",
    "res\n",
    "print(f'Mean absolute error: {res}')\n",
    "trainer.plot_mse();"
   ]
  },
  {
   "cell_type": "code",
   "execution_count": 14,
   "id": "1381c5e0",
   "metadata": {
    "ExecuteTime": {
     "end_time": "2022-06-22T03:20:37.751751Z",
     "start_time": "2022-06-22T03:20:34.743852Z"
    }
   },
   "outputs": [
    {
     "name": "stderr",
     "output_type": "stream",
     "text": [
      "2022-06-22 05:20:35.406107: W tensorflow/python/util/util.cc:368] Sets are not currently considered sequences, but this may change in the future, so consider avoiding using them.\n"
     ]
    },
    {
     "name": "stdout",
     "output_type": "stream",
     "text": [
      "INFO:tensorflow:Assets written to: ram://a21c0da4-f652-47cc-8cea-c42962581d75/assets\n",
      "INFO:tensorflow:Assets written to: ram://8f95a087-a714-4b86-bba5-825cc8809b5e/assets\n"
     ]
    },
    {
     "data": {
      "text/plain": [
       "<BatteryProject.ModelTwo.trainer.Trainer at 0x7f26a01a4550>"
      ]
     },
     "execution_count": 14,
     "metadata": {},
     "output_type": "execute_result"
    }
   ],
   "source": [
    "trainer.save_model_locally()"
   ]
  },
  {
   "cell_type": "markdown",
   "id": "88d6ba9d",
   "metadata": {},
   "source": [
    "**Bad cells generation and prediction**"
   ]
  },
  {
   "cell_type": "code",
   "execution_count": 30,
   "id": "df733fa7",
   "metadata": {
    "ExecuteTime": {
     "end_time": "2022-06-22T03:27:59.153937Z",
     "start_time": "2022-06-22T03:27:59.038809Z"
    }
   },
   "outputs": [
    {
     "name": "stdout",
     "output_type": "stream",
     "text": [
      "Prédiction du nombre de cycles restants: [285.35568] (real:373, error:-87.64)\n"
     ]
    }
   ],
   "source": [
    "X_real, y_real = trainer.gen_one_cell(type=\"bad\")\n",
    "y_pred = trainer.predict(X_real)\n",
    "\n",
    "print(f\"Prédiction du nombre de cycles restants: {y_pred[0]} (real:{y_real}, error:{round(y_pred[0][0]-y_real,2)})\")\n"
   ]
  },
  {
   "cell_type": "markdown",
   "id": "250d5e85",
   "metadata": {},
   "source": [
    "**Medium cells generation and prediction**"
   ]
  },
  {
   "cell_type": "code",
   "execution_count": 55,
   "id": "27761a72",
   "metadata": {
    "ExecuteTime": {
     "end_time": "2022-06-22T03:28:27.999580Z",
     "start_time": "2022-06-22T03:28:27.886332Z"
    }
   },
   "outputs": [
    {
     "name": "stdout",
     "output_type": "stream",
     "text": [
      "Prédiction du nombre de cycles restants: [1148.8582] (real:583, error:565.86)\n"
     ]
    }
   ],
   "source": [
    "X_real, y_real = trainer.gen_one_cell(type=\"medium\")\n",
    "y_pred = trainer.predict(X_real)\n",
    "\n",
    "print(f\"Prédiction du nombre de cycles restants: {y_pred[0]} (real:{y_real}, error:{round(y_pred[0][0]-y_real,2)})\")"
   ]
  },
  {
   "cell_type": "markdown",
   "id": "920ba865",
   "metadata": {},
   "source": [
    "**Good cells generation and prediction**"
   ]
  },
  {
   "cell_type": "code",
   "execution_count": 273,
   "id": "74bd6b9f",
   "metadata": {
    "ExecuteTime": {
     "end_time": "2022-06-21T10:45:09.316497Z",
     "start_time": "2022-06-21T10:45:09.205680Z"
    }
   },
   "outputs": [
    {
     "name": "stdout",
     "output_type": "stream",
     "text": [
      "Prédiction du nombre de cycles restants: [1606.7753] (real:1243, error:363.78)\n"
     ]
    }
   ],
   "source": [
    "X_real, y_real = trainer.gen_one_cell(type=\"good\")\n",
    "y_pred = trainer.predict(X_real)\n",
    "\n",
    "print(f\"Prédiction du nombre de cycles restants: {y_pred[0]} (real:{y_real}, error:{round(y_pred[0][0]-y_real,2)})\")"
   ]
  },
  {
   "cell_type": "markdown",
   "id": "b64e321d",
   "metadata": {},
   "source": [
    "**Test API**\n",
    "- lancer le serveur avec \"make run_api\"\n",
    "- bien s'assurer que le model2.joblib soit présent"
   ]
  },
  {
   "cell_type": "code",
   "execution_count": 76,
   "id": "233283f1",
   "metadata": {
    "ExecuteTime": {
     "end_time": "2022-06-22T04:02:15.010716Z",
     "start_time": "2022-06-22T04:02:11.832260Z"
    }
   },
   "outputs": [
    {
     "name": "stdout",
     "output_type": "stream",
     "text": [
      "API call success\n",
      "prediction: 157\n",
      "real: 236\n"
     ]
    }
   ],
   "source": [
    "import requests\n",
    "\n",
    "def serialize_features(X):\n",
    "    serial = X.flatten()\n",
    "    return \",\".join([str(i) for i in serial])\n",
    "\n",
    "\n",
    "X_val, y_val = trainer.gen_one_cell(type=\"bad\")\n",
    "\n",
    "\n",
    "params = {\n",
    "    \"n_features\": 5,\n",
    "    \"deep\": 20,\n",
    "    \"X_val_serialized\": serialize_features(X_val),\n",
    "}\n",
    "\n",
    "response = requests.get(\"http://127.0.0.1:8000/predict2\", params=params)\n",
    "\n",
    "if response.status_code == 200:\n",
    "    print(\"API call success\")\n",
    "else:\n",
    "    print(\"API call error\", response.status_code)\n",
    "\n",
    "print(\"prediction:\", response.json()['predict'])\n",
    "print('real:', y_val)"
   ]
  }
 ],
 "metadata": {
  "kernelspec": {
   "display_name": "Python 3 (ipykernel)",
   "language": "python",
   "name": "python3"
  },
  "language_info": {
   "codemirror_mode": {
    "name": "ipython",
    "version": 3
   },
   "file_extension": ".py",
   "mimetype": "text/x-python",
   "name": "python",
   "nbconvert_exporter": "python",
   "pygments_lexer": "ipython3",
   "version": "3.8.12"
  },
  "toc": {
   "base_numbering": 1,
   "nav_menu": {},
   "number_sections": true,
   "sideBar": true,
   "skip_h1_title": false,
   "title_cell": "Table of Contents",
   "title_sidebar": "Contents",
   "toc_cell": false,
   "toc_position": {},
   "toc_section_display": true,
   "toc_window_display": false
  }
 },
 "nbformat": 4,
 "nbformat_minor": 5
}
