{
 "cells": [
  {
   "cell_type": "markdown",
   "id": "e0331f7c",
   "metadata": {},
   "source": [
    "**This notebook presents the results of the model one**\n",
    " - Model performances\n",
    " - Best model and its hyper parameters\n",
    " - Testing the model performances"
   ]
  },
  {
   "cell_type": "code",
   "execution_count": 1,
   "id": "9a0a416f",
   "metadata": {},
   "outputs": [],
   "source": [
    "import pandas as pd\n",
    "import numpy as np\n",
    "import seaborn as sns\n",
    "import matplotlib.pyplot as plt\n",
    "import os\n",
    "import joblib"
   ]
  },
  {
   "cell_type": "code",
   "execution_count": 2,
   "id": "a2d8cb2d",
   "metadata": {},
   "outputs": [
    {
     "data": {
      "text/plain": [
       "'/home/romainj/code/RomainJupille/wagon/Projet_batteries/BatteryProject/BatteryProject/ModelTwo/Models/Models_records.csv'"
      ]
     },
     "execution_count": 2,
     "metadata": {},
     "output_type": "execute_result"
    }
   ],
   "source": [
    "base_url = !pwd\n",
    "base_url = base_url[0]\n",
    "result_path = os.path.normpath(os.path.join(base_url, '..', 'BatteryProject', 'ModelTwo', 'Models', 'Models_records.csv'))\n",
    "result_path"
   ]
  },
  {
   "cell_type": "markdown",
   "id": "805eeaf1",
   "metadata": {},
   "source": [
    "## Results summary"
   ]
  },
  {
   "cell_type": "markdown",
   "id": "2495e8e4",
   "metadata": {},
   "source": [
    "### Results table"
   ]
  },
  {
   "cell_type": "code",
   "execution_count": 18,
   "id": "7ad71cf3",
   "metadata": {},
   "outputs": [
    {
     "data": {
      "text/html": [
       "<div>\n",
       "<style scoped>\n",
       "    .dataframe tbody tr th:only-of-type {\n",
       "        vertical-align: middle;\n",
       "    }\n",
       "\n",
       "    .dataframe tbody tr th {\n",
       "        vertical-align: top;\n",
       "    }\n",
       "\n",
       "    .dataframe thead th {\n",
       "        text-align: right;\n",
       "    }\n",
       "</style>\n",
       "<table border=\"1\" class=\"dataframe\">\n",
       "  <thead>\n",
       "    <tr style=\"text-align: right;\">\n",
       "      <th></th>\n",
       "      <th>Try_ID</th>\n",
       "      <th>deep</th>\n",
       "      <th>offset</th>\n",
       "      <th>Features_disc_capa</th>\n",
       "      <th>Features_dis_ener</th>\n",
       "      <th>Features_char_capa</th>\n",
       "      <th>Features_eff_ener</th>\n",
       "      <th>Features_char_ener</th>\n",
       "      <th>Features_dc_res</th>\n",
       "      <th>Features_temp_avg</th>\n",
       "      <th>...</th>\n",
       "      <th>Metrics_train_eval</th>\n",
       "      <th>Metrics_validation_eval</th>\n",
       "      <th>Metrics_test_eval</th>\n",
       "      <th>Metrics_training_time</th>\n",
       "      <th>Metrics_epochs</th>\n",
       "      <th>HyperParams_unit_type</th>\n",
       "      <th>HyperParams_n_units</th>\n",
       "      <th>HyperParams_n_layer</th>\n",
       "      <th>HyperParams_dropout_rate</th>\n",
       "      <th>HyperParams_dropout_layer</th>\n",
       "    </tr>\n",
       "  </thead>\n",
       "  <tbody>\n",
       "    <tr>\n",
       "      <th>255</th>\n",
       "      <td>256</td>\n",
       "      <td>40</td>\n",
       "      <td>40</td>\n",
       "      <td>X</td>\n",
       "      <td>X</td>\n",
       "      <td>X</td>\n",
       "      <td>NaN</td>\n",
       "      <td>NaN</td>\n",
       "      <td>NaN</td>\n",
       "      <td>NaN</td>\n",
       "      <td>...</td>\n",
       "      <td>235.300064</td>\n",
       "      <td>186.466125</td>\n",
       "      <td>189.887466</td>\n",
       "      <td>348.231319</td>\n",
       "      <td>171</td>\n",
       "      <td>LSTM</td>\n",
       "      <td>4</td>\n",
       "      <td>2</td>\n",
       "      <td>0.2</td>\n",
       "      <td>True</td>\n",
       "    </tr>\n",
       "    <tr>\n",
       "      <th>256</th>\n",
       "      <td>257</td>\n",
       "      <td>40</td>\n",
       "      <td>40</td>\n",
       "      <td>X</td>\n",
       "      <td>X</td>\n",
       "      <td>X</td>\n",
       "      <td>NaN</td>\n",
       "      <td>NaN</td>\n",
       "      <td>NaN</td>\n",
       "      <td>NaN</td>\n",
       "      <td>...</td>\n",
       "      <td>241.858353</td>\n",
       "      <td>187.426208</td>\n",
       "      <td>183.860794</td>\n",
       "      <td>426.599052</td>\n",
       "      <td>141</td>\n",
       "      <td>LSTM</td>\n",
       "      <td>4</td>\n",
       "      <td>3</td>\n",
       "      <td>0.2</td>\n",
       "      <td>True</td>\n",
       "    </tr>\n",
       "    <tr>\n",
       "      <th>257</th>\n",
       "      <td>258</td>\n",
       "      <td>40</td>\n",
       "      <td>40</td>\n",
       "      <td>X</td>\n",
       "      <td>X</td>\n",
       "      <td>X</td>\n",
       "      <td>X</td>\n",
       "      <td>X</td>\n",
       "      <td>X</td>\n",
       "      <td>X</td>\n",
       "      <td>...</td>\n",
       "      <td>120.450043</td>\n",
       "      <td>123.133530</td>\n",
       "      <td>195.447876</td>\n",
       "      <td>313.222115</td>\n",
       "      <td>153</td>\n",
       "      <td>LSTM</td>\n",
       "      <td>4</td>\n",
       "      <td>2</td>\n",
       "      <td>0.2</td>\n",
       "      <td>True</td>\n",
       "    </tr>\n",
       "    <tr>\n",
       "      <th>258</th>\n",
       "      <td>259</td>\n",
       "      <td>40</td>\n",
       "      <td>40</td>\n",
       "      <td>X</td>\n",
       "      <td>X</td>\n",
       "      <td>X</td>\n",
       "      <td>X</td>\n",
       "      <td>X</td>\n",
       "      <td>X</td>\n",
       "      <td>X</td>\n",
       "      <td>...</td>\n",
       "      <td>169.807037</td>\n",
       "      <td>131.480759</td>\n",
       "      <td>189.121155</td>\n",
       "      <td>410.969514</td>\n",
       "      <td>130</td>\n",
       "      <td>LSTM</td>\n",
       "      <td>4</td>\n",
       "      <td>3</td>\n",
       "      <td>0.2</td>\n",
       "      <td>True</td>\n",
       "    </tr>\n",
       "  </tbody>\n",
       "</table>\n",
       "<p>4 rows × 23 columns</p>\n",
       "</div>"
      ],
      "text/plain": [
       "     Try_ID  deep  offset Features_disc_capa Features_dis_ener  \\\n",
       "255     256    40      40                  X                 X   \n",
       "256     257    40      40                  X                 X   \n",
       "257     258    40      40                  X                 X   \n",
       "258     259    40      40                  X                 X   \n",
       "\n",
       "    Features_char_capa Features_eff_ener Features_char_ener Features_dc_res  \\\n",
       "255                  X               NaN                NaN             NaN   \n",
       "256                  X               NaN                NaN             NaN   \n",
       "257                  X                 X                  X               X   \n",
       "258                  X                 X                  X               X   \n",
       "\n",
       "    Features_temp_avg  ... Metrics_train_eval Metrics_validation_eval  \\\n",
       "255               NaN  ...         235.300064              186.466125   \n",
       "256               NaN  ...         241.858353              187.426208   \n",
       "257                 X  ...         120.450043              123.133530   \n",
       "258                 X  ...         169.807037              131.480759   \n",
       "\n",
       "     Metrics_test_eval  Metrics_training_time  Metrics_epochs  \\\n",
       "255         189.887466             348.231319             171   \n",
       "256         183.860794             426.599052             141   \n",
       "257         195.447876             313.222115             153   \n",
       "258         189.121155             410.969514             130   \n",
       "\n",
       "     HyperParams_unit_type  HyperParams_n_units  HyperParams_n_layer  \\\n",
       "255                   LSTM                    4                    2   \n",
       "256                   LSTM                    4                    3   \n",
       "257                   LSTM                    4                    2   \n",
       "258                   LSTM                    4                    3   \n",
       "\n",
       "    HyperParams_dropout_rate  HyperParams_dropout_layer  \n",
       "255                      0.2                       True  \n",
       "256                      0.2                       True  \n",
       "257                      0.2                       True  \n",
       "258                      0.2                       True  \n",
       "\n",
       "[4 rows x 23 columns]"
      ]
     },
     "execution_count": 18,
     "metadata": {},
     "output_type": "execute_result"
    }
   ],
   "source": [
    "results_df = pd.read_csv(result_path).drop(columns = ['Unnamed: 0']).iloc[-4:,:]\n",
    "results_df"
   ]
  },
  {
   "cell_type": "markdown",
   "id": "f17a2496",
   "metadata": {},
   "source": [
    "### Results curve"
   ]
  },
  {
   "cell_type": "code",
   "execution_count": 19,
   "id": "20ee4295",
   "metadata": {},
   "outputs": [
    {
     "data": {
      "text/plain": [
       "[<matplotlib.lines.Line2D at 0x7f873ce5ebe0>]"
      ]
     },
     "execution_count": 19,
     "metadata": {},
     "output_type": "execute_result"
    },
    {
     "data": {
      "image/png": "[encoded data removed]",
      "text/plain": [
       "<Figure size 432x288 with 1 Axes>"
      ]
     },
     "metadata": {
      "needs_background": "light"
     },
     "output_type": "display_data"
    }
   ],
   "source": [
    "plt.plot(results_df['Metrics_validation_eval'].sort_values(ascending = False).values)"
   ]
  },
  {
   "cell_type": "markdown",
   "id": "9a30f5b1",
   "metadata": {},
   "source": [
    "## The top 3 models"
   ]
  },
  {
   "cell_type": "markdown",
   "id": "3dc4448d",
   "metadata": {},
   "source": [
    "### Top 1 model"
   ]
  },
  {
   "cell_type": "code",
   "execution_count": 46,
   "id": "d06cb8e0",
   "metadata": {},
   "outputs": [
    {
     "data": {
      "text/plain": [
       "Try_ID                              258\n",
       "deep                                 40\n",
       "offset                               40\n",
       "Features_disc_capa                    X\n",
       "Features_dis_ener                     X\n",
       "Features_char_capa                    X\n",
       "Features_eff_ener                     X\n",
       "Features_char_ener                    X\n",
       "Features_dc_res                       X\n",
       "Features_temp_avg                     X\n",
       "Features_temp_min                     X\n",
       "Features_temp_max                     X\n",
       "Metrics_baseline              321.28148\n",
       "Metrics_train_eval           120.450043\n",
       "Metrics_validation_eval       123.13353\n",
       "Metrics_test_eval            195.447876\n",
       "Metrics_training_time        313.222115\n",
       "Metrics_epochs                      153\n",
       "HyperParams_unit_type              LSTM\n",
       "HyperParams_n_units                   4\n",
       "HyperParams_n_layer                   2\n",
       "HyperParams_dropout_rate            0.2\n",
       "HyperParams_dropout_layer          True\n",
       "Name: 257, dtype: object"
      ]
     },
     "execution_count": 46,
     "metadata": {},
     "output_type": "execute_result"
    }
   ],
   "source": [
    "best_model_1 = results_df.sort_values(by='Metrics_validation_eval', ascending = True).iloc[0,:]\n",
    "best_model_1"
   ]
  },
  {
   "cell_type": "markdown",
   "id": "e64bd386",
   "metadata": {},
   "source": [
    "### Top 2 model"
   ]
  },
  {
   "cell_type": "code",
   "execution_count": 47,
   "id": "09096e48",
   "metadata": {},
   "outputs": [
    {
     "data": {
      "text/plain": [
       "Try_ID                              259\n",
       "deep                                 40\n",
       "offset                               40\n",
       "Features_disc_capa                    X\n",
       "Features_dis_ener                     X\n",
       "Features_char_capa                    X\n",
       "Features_eff_ener                     X\n",
       "Features_char_ener                    X\n",
       "Features_dc_res                       X\n",
       "Features_temp_avg                     X\n",
       "Features_temp_min                     X\n",
       "Features_temp_max                     X\n",
       "Metrics_baseline              321.28148\n",
       "Metrics_train_eval           169.807037\n",
       "Metrics_validation_eval      131.480759\n",
       "Metrics_test_eval            189.121155\n",
       "Metrics_training_time        410.969514\n",
       "Metrics_epochs                      130\n",
       "HyperParams_unit_type              LSTM\n",
       "HyperParams_n_units                   4\n",
       "HyperParams_n_layer                   3\n",
       "HyperParams_dropout_rate            0.2\n",
       "HyperParams_dropout_layer          True\n",
       "Name: 258, dtype: object"
      ]
     },
     "execution_count": 47,
     "metadata": {},
     "output_type": "execute_result"
    }
   ],
   "source": [
    "best_model_2 = results_df.sort_values(by='Metrics_validation_eval', ascending = True).iloc[1,:]\n",
    "best_model_2"
   ]
  },
  {
   "cell_type": "markdown",
   "id": "b12a229c",
   "metadata": {},
   "source": [
    "### Top 3 model"
   ]
  },
  {
   "cell_type": "code",
   "execution_count": 48,
   "id": "d3835eb2",
   "metadata": {},
   "outputs": [
    {
     "data": {
      "text/plain": [
       "Try_ID                              256\n",
       "deep                                 40\n",
       "offset                               40\n",
       "Features_disc_capa                    X\n",
       "Features_dis_ener                     X\n",
       "Features_char_capa                    X\n",
       "Features_eff_ener                   NaN\n",
       "Features_char_ener                  NaN\n",
       "Features_dc_res                     NaN\n",
       "Features_temp_avg                   NaN\n",
       "Features_temp_min                   NaN\n",
       "Features_temp_max                   NaN\n",
       "Metrics_baseline              321.28148\n",
       "Metrics_train_eval           235.300064\n",
       "Metrics_validation_eval      186.466125\n",
       "Metrics_test_eval            189.887466\n",
       "Metrics_training_time        348.231319\n",
       "Metrics_epochs                      171\n",
       "HyperParams_unit_type              LSTM\n",
       "HyperParams_n_units                   4\n",
       "HyperParams_n_layer                   2\n",
       "HyperParams_dropout_rate            0.2\n",
       "HyperParams_dropout_layer          True\n",
       "Name: 255, dtype: object"
      ]
     },
     "execution_count": 48,
     "metadata": {},
     "output_type": "execute_result"
    }
   ],
   "source": [
    "best_model_3 = results_df.sort_values(by='Metrics_validation_eval', ascending = True).iloc[2,:]\n",
    "best_model_3"
   ]
  },
  {
   "cell_type": "markdown",
   "id": "a4f7348d",
   "metadata": {},
   "source": [
    "## Test of the best model"
   ]
  },
  {
   "cell_type": "markdown",
   "id": "6f0aa11a",
   "metadata": {},
   "source": [
    "### Test of random samples"
   ]
  },
  {
   "cell_type": "code",
   "execution_count": 49,
   "id": "8916114b",
   "metadata": {},
   "outputs": [
    {
     "data": {
      "text/plain": [
       "'0258'"
      ]
     },
     "execution_count": 49,
     "metadata": {},
     "output_type": "execute_result"
    }
   ],
   "source": [
    "best_model = results_df.sort_values(by='Metrics_validation_eval', ascending = True).iloc[0,:]\n",
    "\n",
    "model_id = str(best_model['Try_ID'])\n",
    "for i in range(4-len(model_id)):\n",
    "    model_id = ''.join(['0',model_id])\n",
    "model_id"
   ]
  },
  {
   "cell_type": "code",
   "execution_count": 24,
   "id": "ceb53f30",
   "metadata": {},
   "outputs": [],
   "source": [
    "base_url = !pwd\n",
    "base_url = base_url[0]\n",
    "\n",
    "raw_data_path = os.path.normpath(os.path.join(base_url, '..', '..', 'TransformedData', 'summary_discharge_capacity.csv'))\n",
    "\n",
    "bc_path = os.path.normpath(os.path.join(base_url, '..', 'BatteryProject', 'ModelTwo', 'data', f\"bc_{model_id}.csv\"))\n",
    "\n",
    "X_test_scaled_path = os.path.normpath(os.path.join(base_url, '..', 'BatteryProject', 'ModelTwo', 'data', f\"X_test_scaled_{model_id}.csv\"))\n",
    "X_test_path = os.path.normpath(os.path.join(base_url, '..', 'BatteryProject', 'ModelTwo', 'data', f\"X_test_{model_id}.csv\"))\n",
    "\n",
    "y_test_path = os.path.normpath(os.path.join(base_url, '..', 'BatteryProject', 'ModelTwo', 'data' , f\"y_test_{model_id}.csv\"))\n",
    "model_path = os.path.normpath(os.path.join(base_url, '..', 'BatteryProject', 'ModelTwo', 'Models' , f\"model_{model_id}.joblib\"))"
   ]
  },
  {
   "cell_type": "code",
   "execution_count": 60,
   "id": "5395c582",
   "metadata": {},
   "outputs": [],
   "source": [
    "deep = best_model['deep']\n",
    "n_feature = np.count_nonzero(best_model.values == 'X') + 1\n",
    "\n",
    "df_raw_data = pd.read_csv(raw_data_path)\n",
    "df_barcode = pd.read_csv(bc_path, header = None)\n",
    "X_test = np.genfromtxt(X_test_path, delimiter = ',')\n",
    "X_test = X_test.reshape(df_X_test.shape[0],deep,n_feature)\n",
    "\n",
    "model = joblib.load(model_path)\n",
    "y_test =  pd.read_csv(y_test_path, header = None)\n",
    "\n",
    "predictions = model.predict(X_test)"
   ]
  },
  {
   "cell_type": "code",
   "execution_count": 88,
   "id": "55569d09",
   "metadata": {},
   "outputs": [
    {
     "name": "stdout",
     "output_type": "stream",
     "text": [
      "Random number of the tested sample: 321\n",
      "Barcode of the sample: el150800737274\n",
      "Prediction of life-cycles left: 247\n",
      "True number of life-cycles left: 67\n",
      "Model error: 180\n"
     ]
    },
    {
     "data": {
      "image/png": "[encoded data removed]",
      "text/plain": [
       "<Figure size 576x144 with 1 Axes>"
      ]
     },
     "metadata": {
      "needs_background": "light"
     },
     "output_type": "display_data"
    }
   ],
   "source": [
    "n_features = 4\n",
    "deep = 40\n",
    "\n",
    "n = np.random.randint(0,X_test.shape[0])\n",
    "y_pred = int(predictions[n,:])\n",
    "y_true = int(y_test.iloc[n,0])\n",
    "barcode = df_barcode.iloc[n,0]\n",
    "last_cycle = int(X_test[n,-1,-1])\n",
    "\n",
    "print(f'Random number of the tested sample: {n}')\n",
    "print(f'Barcode of the sample: {barcode}')\n",
    "print(f'Prediction of life-cycles left: {y_pred}')\n",
    "print(f'True number of life-cycles left: {y_true}')\n",
    "print(f'Model error: {abs(y_true-y_pred)}')\n",
    "\n",
    "fig, axs = plt.subplots(figsize=(8,2))\n",
    "\n",
    "data = df_raw_data[df_raw_data['barcode'] == barcode]\n",
    "sns.scatterplot(y = data.iloc[0,1:last_cycle+1].fillna(0), x =np.arange(0,last_cycle,1), ax = axs, color = 'blue', alpha = 0.5)\n",
    "sns.scatterplot(y = data.iloc[0,1+last_cycle:].fillna(0), x =np.arange(last_cycle,3000,1), ax = axs, color = 'grey', alpha = 0.5)\n",
    "sns.lineplot(y = [0.8, 1.2], x = [last_cycle+y_pred,last_cycle+y_pred],color = 'red')\n",
    "axs.set_ylim(0.8,1.2)\n",
    "axs.set_yticks([0.8,0.9,1.0,1.1,1.2])\n",
    "axs.set_xlim(0,2500)\n",
    "axs.set_xticks(range(0,2501,250))\n",
    "axs.set_ylabel('Capacity (in Ah)')\n",
    "axs.set_xlabel('Number of cycle')\n",
    "axs.tick_params(axis='both', which='major', labelsize=10)"
   ]
  },
  {
   "cell_type": "markdown",
   "id": "8869b7ac",
   "metadata": {},
   "source": [
    "### Global performance of the model"
   ]
  },
  {
   "cell_type": "code",
   "execution_count": null,
   "id": "203ab06e",
   "metadata": {},
   "outputs": [],
   "source": []
  }
 ],
 "metadata": {
  "kernelspec": {
   "display_name": "Python 3 (ipykernel)",
   "language": "python",
   "name": "python3"
  },
  "language_info": {
   "codemirror_mode": {
    "name": "ipython",
    "version": 3
   },
   "file_extension": ".py",
   "mimetype": "text/x-python",
   "name": "python",
   "nbconvert_exporter": "python",
   "pygments_lexer": "ipython3",
   "version": "3.8.12"
  },
  "toc": {
   "base_numbering": 1,
   "nav_menu": {},
   "number_sections": true,
   "sideBar": true,
   "skip_h1_title": false,
   "title_cell": "Table of Contents",
   "title_sidebar": "Contents",
   "toc_cell": false,
   "toc_position": {},
   "toc_section_display": true,
   "toc_window_display": false
  }
 },
 "nbformat": 4,
 "nbformat_minor": 5
}
