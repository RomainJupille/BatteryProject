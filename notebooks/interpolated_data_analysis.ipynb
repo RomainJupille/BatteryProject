{
 "cells": [
  {
   "cell_type": "code",
   "execution_count": 1,
   "id": "a1df2e2e",
   "metadata": {
    "ExecuteTime": {
     "end_time": "2022-06-15T10:39:15.812997Z",
     "start_time": "2022-06-15T10:39:14.012777Z"
    }
   },
   "outputs": [],
   "source": [
    "import pandas as pd\n",
    "import numpy as np\n",
    "import matplotlib.pyplot as plt\n",
    "import os"
   ]
  },
  {
   "cell_type": "code",
   "execution_count": 8,
   "id": "5ba99d18",
   "metadata": {
    "ExecuteTime": {
     "end_time": "2022-06-15T08:08:17.389229Z",
     "start_time": "2022-06-15T08:08:17.345490Z"
    },
    "collapsed": true
   },
   "outputs": [
    {
     "data": {
      "text/html": [
       "<div>\n",
       "<style scoped>\n",
       "    .dataframe tbody tr th:only-of-type {\n",
       "        vertical-align: middle;\n",
       "    }\n",
       "\n",
       "    .dataframe tbody tr th {\n",
       "        vertical-align: top;\n",
       "    }\n",
       "\n",
       "    .dataframe thead th {\n",
       "        text-align: right;\n",
       "    }\n",
       "</style>\n",
       "<table border=\"1\" class=\"dataframe\">\n",
       "  <thead>\n",
       "    <tr style=\"text-align: right;\">\n",
       "      <th></th>\n",
       "      <th>barcode</th>\n",
       "      <th>0</th>\n",
       "      <th>1</th>\n",
       "    </tr>\n",
       "  </thead>\n",
       "  <tbody>\n",
       "    <tr>\n",
       "      <th>0</th>\n",
       "      <td>el150800460610</td>\n",
       "      <td>1.441996</td>\n",
       "      <td>1.068214</td>\n",
       "    </tr>\n",
       "    <tr>\n",
       "      <th>1</th>\n",
       "      <td>el150800737368</td>\n",
       "      <td>1.043969</td>\n",
       "      <td>1.044813</td>\n",
       "    </tr>\n",
       "    <tr>\n",
       "      <th>2</th>\n",
       "      <td>el150800737386</td>\n",
       "      <td>1.064999</td>\n",
       "      <td>1.067030</td>\n",
       "    </tr>\n",
       "    <tr>\n",
       "      <th>3</th>\n",
       "      <td>EL150800463198</td>\n",
       "      <td>1.160316</td>\n",
       "      <td>1.076760</td>\n",
       "    </tr>\n",
       "    <tr>\n",
       "      <th>4</th>\n",
       "      <td>EL150800460514</td>\n",
       "      <td>1.161226</td>\n",
       "      <td>1.069269</td>\n",
       "    </tr>\n",
       "    <tr>\n",
       "      <th>...</th>\n",
       "      <td>...</td>\n",
       "      <td>...</td>\n",
       "      <td>...</td>\n",
       "    </tr>\n",
       "    <tr>\n",
       "      <th>130</th>\n",
       "      <td>el150800463208</td>\n",
       "      <td>1.452700</td>\n",
       "      <td>1.076223</td>\n",
       "    </tr>\n",
       "    <tr>\n",
       "      <th>131</th>\n",
       "      <td>el150800460655</td>\n",
       "      <td>1.445301</td>\n",
       "      <td>1.069201</td>\n",
       "    </tr>\n",
       "    <tr>\n",
       "      <th>132</th>\n",
       "      <td>el150800460652</td>\n",
       "      <td>1.454137</td>\n",
       "      <td>1.078564</td>\n",
       "    </tr>\n",
       "    <tr>\n",
       "      <th>133</th>\n",
       "      <td>el150800737213</td>\n",
       "      <td>1.047174</td>\n",
       "      <td>1.048364</td>\n",
       "    </tr>\n",
       "    <tr>\n",
       "      <th>134</th>\n",
       "      <td>el150800737270</td>\n",
       "      <td>1.065699</td>\n",
       "      <td>1.067577</td>\n",
       "    </tr>\n",
       "  </tbody>\n",
       "</table>\n",
       "<p>135 rows × 3 columns</p>\n",
       "</div>"
      ],
      "text/plain": [
       "            barcode         0         1\n",
       "0    el150800460610  1.441996  1.068214\n",
       "1    el150800737368  1.043969  1.044813\n",
       "2    el150800737386  1.064999  1.067030\n",
       "3    EL150800463198  1.160316  1.076760\n",
       "4    EL150800460514  1.161226  1.069269\n",
       "..              ...       ...       ...\n",
       "130  el150800463208  1.452700  1.076223\n",
       "131  el150800460655  1.445301  1.069201\n",
       "132  el150800460652  1.454137  1.078564\n",
       "133  el150800737213  1.047174  1.048364\n",
       "134  el150800737270  1.065699  1.067577\n",
       "\n",
       "[135 rows x 3 columns]"
      ]
     },
     "execution_count": 8,
     "metadata": {},
     "output_type": "execute_result"
    }
   ],
   "source": [
    "summary_capacity = pd.read_csv(\"../../raw_data/transformed_data/summary_charge_capacity.csv\", usecols=range(0,3))\n",
    "summary_capacity.head(145)"
   ]
  },
  {
   "cell_type": "code",
   "execution_count": null,
   "id": "d9097688",
   "metadata": {
    "ExecuteTime": {
     "start_time": "2022-06-15T14:01:06.633Z"
    }
   },
   "outputs": [],
   "source": [
    "path = \"../../raw_data/transformed_data/\"\n",
    "interpolated_voltage = pd.read_csv(path+\"cycles_interpolated_voltage.csv\")\n",
    "\n",
    "\n",
    "\n"
   ]
  },
  {
   "cell_type": "code",
   "execution_count": 114,
   "id": "331d6582",
   "metadata": {
    "ExecuteTime": {
     "end_time": "2022-06-15T13:51:10.905009Z",
     "start_time": "2022-06-15T13:51:10.880665Z"
    }
   },
   "outputs": [],
   "source": [
    "path = \"../../raw_data/transformed_data/\"\n",
    "#interpolated_discharge_capacity = pd.read_csv(path+\"cycles_interpolated_discharge_capacity.csv\")\n",
    "#interpolated_charge_capacity = pd.read_csv(path+\"cycles_interpolated_charge_capacity.csv\")\n",
    "#interpolated_voltage = pd.read_csv(path+\"cycles_interpolated_voltage.csv\")\n",
    "#interpolated_current = pd.read_csv(path+\"cycles_interpolated_current.csv\")\n",
    "#interpolated_temperature = pd.read_csv(path+\"cycles_interpolated_temperature.csv\")\n",
    "#interpolated_internal_resistance = pd.read_csv(path+\"cycles_interpolated_internal_resistance.csv\")\n",
    "# charge or discharge\n",
    "#interpolated_step_type = pd.read_csv(path+\"cycles_interpolated_step_type.csv\")\n",
    "\n",
    "\"\"\"chunksize = 1\n",
    "for chunk in pd.read_csv(path+\"cycles_interpolated_voltage.csv\", chunksize=chunksize):\n",
    "    print(chunk)\n",
    "    break\"\"\"\n",
    "\n",
    "\n",
    "\"\"\" callbacks functions for get_step_range() \"\"\"\n",
    "def dataframe_callback(df_chunk):\n",
    "    return df_chunk\n",
    "def mean_dataframe_callback(df_chunk):\n",
    "    \"\"\" mean between columns \"\"\"\n",
    "    return df_chunk.mean(axis=1)[0]\n",
    "def nan_count_dataframe_callback(df_chunk):\n",
    "    \"\"\" count NaN values \"\"\"\n",
    "    return df_chunk.isnull().sum().sum()\n",
    "\n",
    "\n",
    "def get_step_range(filename, range_a, range_b, row=0, callback=dataframe_callback):\n",
    "    rows_to_keep = [row]\n",
    "    #skiprows = [i for i in range(140) if i not in rows_to_keep]\n",
    "    reader = pd.read_csv(filename, iterator=True, usecols=range(range_a,range_b), skiprows=row, chunksize=1)\n",
    "    res = callback(reader.get_chunk(1))\n",
    "    reader.close()\n",
    "    return res\n",
    "\n",
    "# total 2_000_000 rows\n",
    "def interpolated_data_rows_to_df(filename, callback=mean_dataframe_callback):\n",
    "    sample_size = 1 # sample size must be\n",
    "    incr_step = 10_000\n",
    "    cur_step = 1\n",
    "    max_iterations = int(2_000_000 / incr_step)\n",
    "    result = []\n",
    "    \n",
    "    # keep barcode string\n",
    "    barcode = get_step_range(filename, 0,1, skiprows=0)['barcode'][0]\n",
    "    \n",
    "    if sample_size > incr_step:\n",
    "        print(\"'sample_size' must be <= 'incr_step'\")\n",
    "        return\n",
    "    \n",
    "    i = 0\n",
    "    while 1:\n",
    "        try:\n",
    "            result.append(get_step_range(filename, cur_step,cur_step+sample_size, callback=callback))\n",
    "        except:\n",
    "            print(f\"Total rows readed before Exception: {cur_step}\")\n",
    "            break\n",
    "        if i >= max_iterations:\n",
    "            print(f\"premature loop exit\")\n",
    "            break\n",
    "        cur_step += incr_step\n",
    "        i += 1\n",
    "    return [barcode, result]\n",
    "\n",
    "\n",
    "def interpolated_data_check(filename, skiprows=0, callback = nan_count_dataframe_callback):\n",
    "    sample_size = 10_000 # sample size must be\n",
    "    incr_step = sample_size\n",
    "    cur_step = 1\n",
    "    max_iterations = int(2_000_000 / sample_size)\n",
    "    result = []\n",
    "    \n",
    "    # keep barcode string\n",
    "    barcode = get_step_range(filename, 0,1, skiprows=0)['barcode'][0]\n",
    "    \n",
    "    if sample_size > incr_step:\n",
    "        print(\"'sample_size' must be <= 'incr_step'\")\n",
    "        return\n",
    "    \n",
    "    i = 0\n",
    "    while 1:\n",
    "        try:\n",
    "            result.append(get_step_range(filename, cur_step,cur_step+sample_size, skiprows=skiprows, callback=callback))\n",
    "        except:\n",
    "            print(f\"Total rows readed before Exception: {cur_step}\")\n",
    "            break\n",
    "        if i >= max_iterations:\n",
    "            print(f\"premature loop exit\")\n",
    "            break\n",
    "        cur_step += incr_step\n",
    "        i += 1\n",
    "    return [barcode, result]\n",
    "\n",
    "#temperature_nans_10000 = interpolated_data_nan_check(path+\"cycles_interpolated_temperature.csv\")\n",
    "#print(temperature_nans_10000)\n",
    "\n",
    "#voltage_nans_10000 = interpolated_data_nan_check(path+\"cycles_interpolated_voltage.csv\")\n",
    "#print(voltage_nans_10000)\n",
    "\n",
    "#step_type_nans_10000 = interpolated_data_nan_check(path+\"cycles_interpolated_step_type.csv\")\n",
    "#print(step_type_nans_10000)\n",
    "\n",
    "#res = interpolated_data_rows_to_df(path+\"cycles_interpolated_step_type.csv\", callback=dataframe_callback)\n",
    "#display(res)\n",
    "\n"
   ]
  },
  {
   "cell_type": "code",
   "execution_count": 86,
   "id": "d5859d72",
   "metadata": {
    "ExecuteTime": {
     "end_time": "2022-06-15T12:59:29.008144Z",
     "start_time": "2022-06-15T12:59:28.971129Z"
    },
    "collapsed": true
   },
   "outputs": [
    {
     "data": {
      "text/plain": [
       "['discharge',\n",
       " 'discharge',\n",
       " 'discharge',\n",
       " 'discharge',\n",
       " 'discharge',\n",
       " 'discharge',\n",
       " 'discharge',\n",
       " 'discharge',\n",
       " 'discharge',\n",
       " 'discharge',\n",
       " 'discharge',\n",
       " 'discharge',\n",
       " 'discharge',\n",
       " 'discharge',\n",
       " 'discharge',\n",
       " 'discharge',\n",
       " 'discharge',\n",
       " 'discharge',\n",
       " 'discharge',\n",
       " 'discharge',\n",
       " 'discharge',\n",
       " 'discharge',\n",
       " 'discharge',\n",
       " 'discharge',\n",
       " 'discharge',\n",
       " 'discharge',\n",
       " 'discharge',\n",
       " 'discharge',\n",
       " 'discharge',\n",
       " 'discharge',\n",
       " 'discharge',\n",
       " 'discharge',\n",
       " 'discharge',\n",
       " 'discharge',\n",
       " 'discharge',\n",
       " 'discharge',\n",
       " 'discharge',\n",
       " 'discharge',\n",
       " 'discharge',\n",
       " 'discharge',\n",
       " 'discharge',\n",
       " 'discharge',\n",
       " 'discharge',\n",
       " 'discharge',\n",
       " 'discharge',\n",
       " 'discharge',\n",
       " 'discharge',\n",
       " 'discharge',\n",
       " 'discharge',\n",
       " 'discharge',\n",
       " 'discharge',\n",
       " 'discharge',\n",
       " 'discharge',\n",
       " 'discharge',\n",
       " 'discharge',\n",
       " 'charge',\n",
       " 'charge',\n",
       " 'charge',\n",
       " 'charge',\n",
       " 'charge',\n",
       " 'charge',\n",
       " 'charge',\n",
       " 'charge',\n",
       " 'charge',\n",
       " 'charge',\n",
       " 'charge',\n",
       " 'charge',\n",
       " 'charge',\n",
       " 'charge',\n",
       " 'charge',\n",
       " 'charge',\n",
       " 'charge',\n",
       " 'charge',\n",
       " 'charge',\n",
       " 'charge',\n",
       " 'charge',\n",
       " 'charge',\n",
       " 'charge',\n",
       " 'charge',\n",
       " 'charge',\n",
       " 'charge',\n",
       " 'charge',\n",
       " 'charge',\n",
       " 'charge',\n",
       " 'charge',\n",
       " 'charge',\n",
       " 'charge',\n",
       " 'charge',\n",
       " 'charge',\n",
       " 'charge',\n",
       " 'charge',\n",
       " 'charge',\n",
       " 'charge',\n",
       " 'charge',\n",
       " 'charge',\n",
       " 'charge',\n",
       " 'charge',\n",
       " 'charge',\n",
       " 'charge',\n",
       " 'charge',\n",
       " 'charge',\n",
       " 'charge',\n",
       " 'charge',\n",
       " 'charge',\n",
       " 'charge',\n",
       " 'charge',\n",
       " 'charge',\n",
       " 'charge',\n",
       " 'charge',\n",
       " nan,\n",
       " nan,\n",
       " nan,\n",
       " nan,\n",
       " nan,\n",
       " nan,\n",
       " nan,\n",
       " nan,\n",
       " nan,\n",
       " nan,\n",
       " nan,\n",
       " nan,\n",
       " nan,\n",
       " nan,\n",
       " nan,\n",
       " nan,\n",
       " nan,\n",
       " nan,\n",
       " nan,\n",
       " nan,\n",
       " nan,\n",
       " nan,\n",
       " nan,\n",
       " nan,\n",
       " nan,\n",
       " nan,\n",
       " nan,\n",
       " nan,\n",
       " nan,\n",
       " nan,\n",
       " nan,\n",
       " nan,\n",
       " nan,\n",
       " nan,\n",
       " nan,\n",
       " nan,\n",
       " nan,\n",
       " nan,\n",
       " nan,\n",
       " nan,\n",
       " nan,\n",
       " nan,\n",
       " nan,\n",
       " nan,\n",
       " nan,\n",
       " nan,\n",
       " nan,\n",
       " nan,\n",
       " nan,\n",
       " nan,\n",
       " nan,\n",
       " nan,\n",
       " nan,\n",
       " nan,\n",
       " nan,\n",
       " nan,\n",
       " nan,\n",
       " nan,\n",
       " nan,\n",
       " nan,\n",
       " nan,\n",
       " nan,\n",
       " nan,\n",
       " nan,\n",
       " nan,\n",
       " nan,\n",
       " nan,\n",
       " nan,\n",
       " nan,\n",
       " nan,\n",
       " nan,\n",
       " nan,\n",
       " nan,\n",
       " nan,\n",
       " nan,\n",
       " nan,\n",
       " nan,\n",
       " nan,\n",
       " nan,\n",
       " nan,\n",
       " nan,\n",
       " nan,\n",
       " nan,\n",
       " nan,\n",
       " nan,\n",
       " nan,\n",
       " nan,\n",
       " nan,\n",
       " nan,\n",
       " nan,\n",
       " nan]"
      ]
     },
     "execution_count": 86,
     "metadata": {},
     "output_type": "execute_result"
    }
   ],
   "source": [
    "charge_discharge = []\n",
    "for i in res[1]:\n",
    "    charge_discharge.append(i.iloc[0,0])\n",
    "charge_discharge"
   ]
  },
  {
   "cell_type": "code",
   "execution_count": 95,
   "id": "65124804",
   "metadata": {
    "ExecuteTime": {
     "end_time": "2022-06-15T13:04:53.284678Z",
     "start_time": "2022-06-15T13:04:52.861082Z"
    },
    "scrolled": false
   },
   "outputs": [
    {
     "data": {
      "image/png": "[encoded data removed]",
      "text/plain": [
       "<Figure size 432x288 with 1 Axes>"
      ]
     },
     "metadata": {
      "needs_background": "light"
     },
     "output_type": "display_data"
    },
    {
     "data": {
      "image/png": "[encoded data removed]",
      "text/plain": [
       "<Figure size 432x288 with 1 Axes>"
      ]
     },
     "metadata": {
      "needs_background": "light"
     },
     "output_type": "display_data"
    }
   ],
   "source": [
    "end = temperature_nans_10000[1].count(10000)\n",
    "\n",
    "#plt.plot(temperature_nans_10000[1][0:-end]);\n",
    "plt.plot(temperature_nans_10000[1], label='Temperature');\n",
    "plt.legend(loc=\"upper left\");\n",
    "plt.show()\n",
    "\n",
    "plt.plot(charge_discharge, label='Charge / Decharge / noData', color=\"orange\");\n",
    "plt.legend(loc=\"upper left\");\n",
    "plt.show()\n",
    "\n",
    "\n"
   ]
  },
  {
   "cell_type": "code",
   "execution_count": 70,
   "id": "50c30917",
   "metadata": {
    "ExecuteTime": {
     "end_time": "2022-06-15T12:25:08.520880Z",
     "start_time": "2022-06-15T12:25:08.277843Z"
    }
   },
   "outputs": [
    {
     "data": {
      "image/png": "[encoded data removed]",
      "text/plain": [
       "<Figure size 432x288 with 1 Axes>"
      ]
     },
     "metadata": {
      "needs_background": "light"
     },
     "output_type": "display_data"
    }
   ],
   "source": [
    "end = voltage_nans_10000[1].count(10000)\n",
    "\n",
    "#plt.plot(temperature_nans_10000[1][0:-end]);\n",
    "plt.plot(voltage_nans_10000[1], label='Voltage');\n",
    "plt.legend(loc=\"upper left\");"
   ]
  },
  {
   "cell_type": "code",
   "execution_count": 40,
   "id": "f9f25bce",
   "metadata": {
    "ExecuteTime": {
     "end_time": "2022-06-15T11:45:58.253461Z",
     "start_time": "2022-06-15T11:45:58.243766Z"
    }
   },
   "outputs": [
    {
     "data": {
      "text/plain": [
       "200.0"
      ]
     },
     "execution_count": 40,
     "metadata": {},
     "output_type": "execute_result"
    }
   ],
   "source": [
    "2_000_000 / 10000"
   ]
  },
  {
   "cell_type": "code",
   "execution_count": 116,
   "id": "5ff4fc87",
   "metadata": {
    "ExecuteTime": {
     "end_time": "2022-06-15T13:58:14.080760Z",
     "start_time": "2022-06-15T13:51:24.479357Z"
    }
   },
   "outputs": [
    {
     "ename": "KeyboardInterrupt",
     "evalue": "",
     "output_type": "error",
     "traceback": [
      "\u001b[0;31m---------------------------------------------------------------------------\u001b[0m",
      "\u001b[0;31mKeyboardInterrupt\u001b[0m                         Traceback (most recent call last)",
      "Input \u001b[0;32mIn [116]\u001b[0m, in \u001b[0;36m<cell line: 1>\u001b[0;34m()\u001b[0m\n\u001b[0;32m----> 1\u001b[0m \u001b[43mget_step_range\u001b[49m\u001b[43m(\u001b[49m\u001b[43mpath\u001b[49m\u001b[38;5;241;43m+\u001b[39;49m\u001b[38;5;124;43m\"\u001b[39;49m\u001b[38;5;124;43mcycles_interpolated_discharge_capacity.csv\u001b[39;49m\u001b[38;5;124;43m\"\u001b[39;49m\u001b[43m,\u001b[49m\u001b[43m \u001b[49m\u001b[38;5;241;43m0\u001b[39;49m\u001b[43m,\u001b[49m\u001b[38;5;241;43m5\u001b[39;49m\u001b[43m,\u001b[49m\u001b[43m \u001b[49m\u001b[43mrow\u001b[49m\u001b[38;5;241;43m=\u001b[39;49m\u001b[38;5;241;43m1\u001b[39;49m\u001b[43m,\u001b[49m\u001b[43m \u001b[49m\u001b[43mcallback\u001b[49m\u001b[38;5;241;43m=\u001b[39;49m\u001b[43mdisplay\u001b[49m\u001b[43m)\u001b[49m\n",
      "Input \u001b[0;32mIn [114]\u001b[0m, in \u001b[0;36mget_step_range\u001b[0;34m(filename, range_a, range_b, row, callback)\u001b[0m\n\u001b[1;32m     29\u001b[0m rows_to_keep \u001b[38;5;241m=\u001b[39m [row]\n\u001b[1;32m     30\u001b[0m \u001b[38;5;66;03m#skiprows = [i for i in range(140) if i not in rows_to_keep]\u001b[39;00m\n\u001b[0;32m---> 31\u001b[0m reader \u001b[38;5;241m=\u001b[39m \u001b[43mpd\u001b[49m\u001b[38;5;241;43m.\u001b[39;49m\u001b[43mread_csv\u001b[49m\u001b[43m(\u001b[49m\u001b[43mfilename\u001b[49m\u001b[43m,\u001b[49m\u001b[43m \u001b[49m\u001b[43miterator\u001b[49m\u001b[38;5;241;43m=\u001b[39;49m\u001b[38;5;28;43;01mTrue\u001b[39;49;00m\u001b[43m,\u001b[49m\u001b[43m \u001b[49m\u001b[43musecols\u001b[49m\u001b[38;5;241;43m=\u001b[39;49m\u001b[38;5;28;43mrange\u001b[39;49m\u001b[43m(\u001b[49m\u001b[43mrange_a\u001b[49m\u001b[43m,\u001b[49m\u001b[43mrange_b\u001b[49m\u001b[43m)\u001b[49m\u001b[43m,\u001b[49m\u001b[43m \u001b[49m\u001b[43mskiprows\u001b[49m\u001b[38;5;241;43m=\u001b[39;49m\u001b[43mrow\u001b[49m\u001b[43m,\u001b[49m\u001b[43m \u001b[49m\u001b[43mchunksize\u001b[49m\u001b[38;5;241;43m=\u001b[39;49m\u001b[38;5;241;43m1\u001b[39;49m\u001b[43m)\u001b[49m\n\u001b[1;32m     32\u001b[0m res \u001b[38;5;241m=\u001b[39m callback(reader\u001b[38;5;241m.\u001b[39mget_chunk(\u001b[38;5;241m1\u001b[39m))\n\u001b[1;32m     33\u001b[0m reader\u001b[38;5;241m.\u001b[39mclose()\n",
      "File \u001b[0;32m~/.pyenv/versions/3.8.12/envs/BatteryProject/lib/python3.8/site-packages/pandas/util/_decorators.py:311\u001b[0m, in \u001b[0;36mdeprecate_nonkeyword_arguments.<locals>.decorate.<locals>.wrapper\u001b[0;34m(*args, **kwargs)\u001b[0m\n\u001b[1;32m    305\u001b[0m \u001b[38;5;28;01mif\u001b[39;00m \u001b[38;5;28mlen\u001b[39m(args) \u001b[38;5;241m>\u001b[39m num_allow_args:\n\u001b[1;32m    306\u001b[0m     warnings\u001b[38;5;241m.\u001b[39mwarn(\n\u001b[1;32m    307\u001b[0m         msg\u001b[38;5;241m.\u001b[39mformat(arguments\u001b[38;5;241m=\u001b[39marguments),\n\u001b[1;32m    308\u001b[0m         \u001b[38;5;167;01mFutureWarning\u001b[39;00m,\n\u001b[1;32m    309\u001b[0m         stacklevel\u001b[38;5;241m=\u001b[39mstacklevel,\n\u001b[1;32m    310\u001b[0m     )\n\u001b[0;32m--> 311\u001b[0m \u001b[38;5;28;01mreturn\u001b[39;00m \u001b[43mfunc\u001b[49m\u001b[43m(\u001b[49m\u001b[38;5;241;43m*\u001b[39;49m\u001b[43margs\u001b[49m\u001b[43m,\u001b[49m\u001b[43m \u001b[49m\u001b[38;5;241;43m*\u001b[39;49m\u001b[38;5;241;43m*\u001b[39;49m\u001b[43mkwargs\u001b[49m\u001b[43m)\u001b[49m\n",
      "File \u001b[0;32m~/.pyenv/versions/3.8.12/envs/BatteryProject/lib/python3.8/site-packages/pandas/io/parsers/readers.py:680\u001b[0m, in \u001b[0;36mread_csv\u001b[0;34m(filepath_or_buffer, sep, delimiter, header, names, index_col, usecols, squeeze, prefix, mangle_dupe_cols, dtype, engine, converters, true_values, false_values, skipinitialspace, skiprows, skipfooter, nrows, na_values, keep_default_na, na_filter, verbose, skip_blank_lines, parse_dates, infer_datetime_format, keep_date_col, date_parser, dayfirst, cache_dates, iterator, chunksize, compression, thousands, decimal, lineterminator, quotechar, quoting, doublequote, escapechar, comment, encoding, encoding_errors, dialect, error_bad_lines, warn_bad_lines, on_bad_lines, delim_whitespace, low_memory, memory_map, float_precision, storage_options)\u001b[0m\n\u001b[1;32m    665\u001b[0m kwds_defaults \u001b[38;5;241m=\u001b[39m _refine_defaults_read(\n\u001b[1;32m    666\u001b[0m     dialect,\n\u001b[1;32m    667\u001b[0m     delimiter,\n\u001b[0;32m   (...)\u001b[0m\n\u001b[1;32m    676\u001b[0m     defaults\u001b[38;5;241m=\u001b[39m{\u001b[38;5;124m\"\u001b[39m\u001b[38;5;124mdelimiter\u001b[39m\u001b[38;5;124m\"\u001b[39m: \u001b[38;5;124m\"\u001b[39m\u001b[38;5;124m,\u001b[39m\u001b[38;5;124m\"\u001b[39m},\n\u001b[1;32m    677\u001b[0m )\n\u001b[1;32m    678\u001b[0m kwds\u001b[38;5;241m.\u001b[39mupdate(kwds_defaults)\n\u001b[0;32m--> 680\u001b[0m \u001b[38;5;28;01mreturn\u001b[39;00m \u001b[43m_read\u001b[49m\u001b[43m(\u001b[49m\u001b[43mfilepath_or_buffer\u001b[49m\u001b[43m,\u001b[49m\u001b[43m \u001b[49m\u001b[43mkwds\u001b[49m\u001b[43m)\u001b[49m\n",
      "File \u001b[0;32m~/.pyenv/versions/3.8.12/envs/BatteryProject/lib/python3.8/site-packages/pandas/io/parsers/readers.py:575\u001b[0m, in \u001b[0;36m_read\u001b[0;34m(filepath_or_buffer, kwds)\u001b[0m\n\u001b[1;32m    572\u001b[0m _validate_names(kwds\u001b[38;5;241m.\u001b[39mget(\u001b[38;5;124m\"\u001b[39m\u001b[38;5;124mnames\u001b[39m\u001b[38;5;124m\"\u001b[39m, \u001b[38;5;28;01mNone\u001b[39;00m))\n\u001b[1;32m    574\u001b[0m \u001b[38;5;66;03m# Create the parser.\u001b[39;00m\n\u001b[0;32m--> 575\u001b[0m parser \u001b[38;5;241m=\u001b[39m \u001b[43mTextFileReader\u001b[49m\u001b[43m(\u001b[49m\u001b[43mfilepath_or_buffer\u001b[49m\u001b[43m,\u001b[49m\u001b[43m \u001b[49m\u001b[38;5;241;43m*\u001b[39;49m\u001b[38;5;241;43m*\u001b[39;49m\u001b[43mkwds\u001b[49m\u001b[43m)\u001b[49m\n\u001b[1;32m    577\u001b[0m \u001b[38;5;28;01mif\u001b[39;00m chunksize \u001b[38;5;129;01mor\u001b[39;00m iterator:\n\u001b[1;32m    578\u001b[0m     \u001b[38;5;28;01mreturn\u001b[39;00m parser\n",
      "File \u001b[0;32m~/.pyenv/versions/3.8.12/envs/BatteryProject/lib/python3.8/site-packages/pandas/io/parsers/readers.py:933\u001b[0m, in \u001b[0;36mTextFileReader.__init__\u001b[0;34m(self, f, engine, **kwds)\u001b[0m\n\u001b[1;32m    930\u001b[0m     \u001b[38;5;28mself\u001b[39m\u001b[38;5;241m.\u001b[39moptions[\u001b[38;5;124m\"\u001b[39m\u001b[38;5;124mhas_index_names\u001b[39m\u001b[38;5;124m\"\u001b[39m] \u001b[38;5;241m=\u001b[39m kwds[\u001b[38;5;124m\"\u001b[39m\u001b[38;5;124mhas_index_names\u001b[39m\u001b[38;5;124m\"\u001b[39m]\n\u001b[1;32m    932\u001b[0m \u001b[38;5;28mself\u001b[39m\u001b[38;5;241m.\u001b[39mhandles: IOHandles \u001b[38;5;241m|\u001b[39m \u001b[38;5;28;01mNone\u001b[39;00m \u001b[38;5;241m=\u001b[39m \u001b[38;5;28;01mNone\u001b[39;00m\n\u001b[0;32m--> 933\u001b[0m \u001b[38;5;28mself\u001b[39m\u001b[38;5;241m.\u001b[39m_engine \u001b[38;5;241m=\u001b[39m \u001b[38;5;28;43mself\u001b[39;49m\u001b[38;5;241;43m.\u001b[39;49m\u001b[43m_make_engine\u001b[49m\u001b[43m(\u001b[49m\u001b[43mf\u001b[49m\u001b[43m,\u001b[49m\u001b[43m \u001b[49m\u001b[38;5;28;43mself\u001b[39;49m\u001b[38;5;241;43m.\u001b[39;49m\u001b[43mengine\u001b[49m\u001b[43m)\u001b[49m\n",
      "File \u001b[0;32m~/.pyenv/versions/3.8.12/envs/BatteryProject/lib/python3.8/site-packages/pandas/io/parsers/readers.py:1235\u001b[0m, in \u001b[0;36mTextFileReader._make_engine\u001b[0;34m(self, f, engine)\u001b[0m\n\u001b[1;32m   1232\u001b[0m     \u001b[38;5;28;01mraise\u001b[39;00m \u001b[38;5;167;01mValueError\u001b[39;00m(msg)\n\u001b[1;32m   1234\u001b[0m \u001b[38;5;28;01mtry\u001b[39;00m:\n\u001b[0;32m-> 1235\u001b[0m     \u001b[38;5;28;01mreturn\u001b[39;00m \u001b[43mmapping\u001b[49m\u001b[43m[\u001b[49m\u001b[43mengine\u001b[49m\u001b[43m]\u001b[49m\u001b[43m(\u001b[49m\u001b[43mf\u001b[49m\u001b[43m,\u001b[49m\u001b[43m \u001b[49m\u001b[38;5;241;43m*\u001b[39;49m\u001b[38;5;241;43m*\u001b[39;49m\u001b[38;5;28;43mself\u001b[39;49m\u001b[38;5;241;43m.\u001b[39;49m\u001b[43moptions\u001b[49m\u001b[43m)\u001b[49m\n\u001b[1;32m   1236\u001b[0m \u001b[38;5;28;01mexcept\u001b[39;00m \u001b[38;5;167;01mException\u001b[39;00m:\n\u001b[1;32m   1237\u001b[0m     \u001b[38;5;28;01mif\u001b[39;00m \u001b[38;5;28mself\u001b[39m\u001b[38;5;241m.\u001b[39mhandles \u001b[38;5;129;01mis\u001b[39;00m \u001b[38;5;129;01mnot\u001b[39;00m \u001b[38;5;28;01mNone\u001b[39;00m:\n",
      "File \u001b[0;32m~/.pyenv/versions/3.8.12/envs/BatteryProject/lib/python3.8/site-packages/pandas/io/parsers/c_parser_wrapper.py:75\u001b[0m, in \u001b[0;36mCParserWrapper.__init__\u001b[0;34m(self, src, **kwds)\u001b[0m\n\u001b[1;32m     72\u001b[0m     kwds\u001b[38;5;241m.\u001b[39mpop(key, \u001b[38;5;28;01mNone\u001b[39;00m)\n\u001b[1;32m     74\u001b[0m kwds[\u001b[38;5;124m\"\u001b[39m\u001b[38;5;124mdtype\u001b[39m\u001b[38;5;124m\"\u001b[39m] \u001b[38;5;241m=\u001b[39m ensure_dtype_objs(kwds\u001b[38;5;241m.\u001b[39mget(\u001b[38;5;124m\"\u001b[39m\u001b[38;5;124mdtype\u001b[39m\u001b[38;5;124m\"\u001b[39m, \u001b[38;5;28;01mNone\u001b[39;00m))\n\u001b[0;32m---> 75\u001b[0m \u001b[38;5;28mself\u001b[39m\u001b[38;5;241m.\u001b[39m_reader \u001b[38;5;241m=\u001b[39m \u001b[43mparsers\u001b[49m\u001b[38;5;241;43m.\u001b[39;49m\u001b[43mTextReader\u001b[49m\u001b[43m(\u001b[49m\u001b[43msrc\u001b[49m\u001b[43m,\u001b[49m\u001b[43m \u001b[49m\u001b[38;5;241;43m*\u001b[39;49m\u001b[38;5;241;43m*\u001b[39;49m\u001b[43mkwds\u001b[49m\u001b[43m)\u001b[49m\n\u001b[1;32m     77\u001b[0m \u001b[38;5;28mself\u001b[39m\u001b[38;5;241m.\u001b[39munnamed_cols \u001b[38;5;241m=\u001b[39m \u001b[38;5;28mself\u001b[39m\u001b[38;5;241m.\u001b[39m_reader\u001b[38;5;241m.\u001b[39munnamed_cols\n\u001b[1;32m     79\u001b[0m \u001b[38;5;66;03m# error: Cannot determine type of 'names'\u001b[39;00m\n",
      "File \u001b[0;32m~/.pyenv/versions/3.8.12/envs/BatteryProject/lib/python3.8/site-packages/pandas/_libs/parsers.pyx:544\u001b[0m, in \u001b[0;36mpandas._libs.parsers.TextReader.__cinit__\u001b[0;34m()\u001b[0m\n",
      "File \u001b[0;32m~/.pyenv/versions/3.8.12/envs/BatteryProject/lib/python3.8/site-packages/pandas/_libs/parsers.pyx:691\u001b[0m, in \u001b[0;36mpandas._libs.parsers.TextReader._get_header\u001b[0;34m()\u001b[0m\n",
      "\u001b[0;31mKeyboardInterrupt\u001b[0m: "
     ]
    }
   ],
   "source": [
    "get_step_range(path+\"cycles_interpolated_discharge_capacity.csv\", 0,5, row=1, callback=display)\n",
    "\n",
    "\n",
    "\n"
   ]
  },
  {
   "cell_type": "code",
   "execution_count": 108,
   "id": "1965c3cf",
   "metadata": {
    "ExecuteTime": {
     "end_time": "2022-06-15T13:33:31.987752Z",
     "start_time": "2022-06-15T13:33:31.967080Z"
    },
    "collapsed": true
   },
   "outputs": [
    {
     "data": {
      "text/plain": [
       "[0,\n",
       " 2,\n",
       " 3,\n",
       " 4,\n",
       " 5,\n",
       " 6,\n",
       " 7,\n",
       " 8,\n",
       " 9,\n",
       " 10,\n",
       " 11,\n",
       " 12,\n",
       " 13,\n",
       " 14,\n",
       " 15,\n",
       " 16,\n",
       " 17,\n",
       " 18,\n",
       " 19,\n",
       " 20,\n",
       " 21,\n",
       " 22,\n",
       " 23,\n",
       " 24,\n",
       " 25,\n",
       " 26,\n",
       " 27,\n",
       " 28,\n",
       " 29,\n",
       " 30,\n",
       " 31,\n",
       " 32,\n",
       " 33,\n",
       " 34,\n",
       " 35,\n",
       " 36,\n",
       " 37,\n",
       " 38,\n",
       " 39,\n",
       " 40,\n",
       " 41,\n",
       " 42,\n",
       " 43,\n",
       " 44,\n",
       " 45,\n",
       " 46,\n",
       " 47,\n",
       " 48,\n",
       " 49,\n",
       " 50,\n",
       " 51,\n",
       " 52,\n",
       " 53,\n",
       " 54,\n",
       " 55,\n",
       " 56,\n",
       " 57,\n",
       " 58,\n",
       " 59,\n",
       " 60,\n",
       " 61,\n",
       " 62,\n",
       " 63,\n",
       " 64,\n",
       " 65,\n",
       " 66,\n",
       " 67,\n",
       " 68,\n",
       " 69,\n",
       " 70,\n",
       " 71,\n",
       " 72,\n",
       " 73,\n",
       " 74,\n",
       " 75,\n",
       " 76,\n",
       " 77,\n",
       " 78,\n",
       " 79,\n",
       " 80,\n",
       " 81,\n",
       " 82,\n",
       " 83,\n",
       " 84,\n",
       " 85,\n",
       " 86,\n",
       " 87,\n",
       " 88,\n",
       " 89,\n",
       " 90,\n",
       " 91,\n",
       " 92,\n",
       " 93,\n",
       " 94,\n",
       " 95,\n",
       " 96,\n",
       " 97,\n",
       " 98,\n",
       " 99,\n",
       " 100,\n",
       " 101,\n",
       " 102,\n",
       " 103,\n",
       " 104,\n",
       " 105,\n",
       " 106,\n",
       " 107,\n",
       " 108,\n",
       " 109,\n",
       " 110,\n",
       " 111,\n",
       " 112,\n",
       " 113,\n",
       " 114,\n",
       " 115,\n",
       " 116,\n",
       " 117,\n",
       " 118,\n",
       " 119,\n",
       " 120,\n",
       " 121,\n",
       " 122,\n",
       " 123,\n",
       " 124,\n",
       " 125,\n",
       " 126,\n",
       " 127,\n",
       " 128,\n",
       " 129,\n",
       " 130,\n",
       " 131,\n",
       " 132,\n",
       " 133,\n",
       " 134,\n",
       " 135,\n",
       " 136,\n",
       " 137,\n",
       " 138,\n",
       " 139]"
      ]
     },
     "execution_count": 108,
     "metadata": {},
     "output_type": "execute_result"
    }
   ],
   "source": []
  },
  {
   "cell_type": "code",
   "execution_count": null,
   "id": "91336766",
   "metadata": {
    "ExecuteTime": {
     "end_time": "2022-06-15T07:21:53.177379Z",
     "start_time": "2022-06-15T07:21:51.920547Z"
    }
   },
   "outputs": [],
   "source": []
  },
  {
   "cell_type": "code",
   "execution_count": null,
   "id": "018107ea",
   "metadata": {
    "ExecuteTime": {
     "end_time": "2022-06-14T15:05:03.778209Z",
     "start_time": "2022-06-14T15:05:03.039626Z"
    }
   },
   "outputs": [],
   "source": [
    "voltages = dfjson[\"cycles_interpolated\"]['voltage']\n",
    "plt.plot(voltages[0:-1])\n",
    "plt.show()\n",
    "plt.plot(voltages[0:1000])\n",
    "plt.plot(voltages[1000:2000])\n",
    "plt.plot(voltages[2000:3000]);\n",
    "len(voltages)"
   ]
  },
  {
   "cell_type": "code",
   "execution_count": null,
   "id": "92f74d16",
   "metadata": {
    "ExecuteTime": {
     "end_time": "2022-06-14T15:59:29.474910Z",
     "start_time": "2022-06-14T15:59:21.515206Z"
    }
   },
   "outputs": [],
   "source": [
    "\"\"\"\n",
    "à tester:\n",
    "    discharge capacity\n",
    "    charge capacity\n",
    "    voltage\n",
    "    temperature\n",
    "    internal resistance\n",
    "    current\n",
    "\"\"\"\n",
    "discharge_capacity = dfjson[\"cycles_interpolated\"]['discharge_capacity']\n",
    "charge_capacity = dfjson[\"cycles_interpolated\"]['charge_capacity']\n",
    "voltage = dfjson[\"cycles_interpolated\"]['voltage']\n",
    "current = dfjson[\"cycles_interpolated\"]['current']\n",
    "temperatures = dfjson[\"cycles_interpolated\"]['temperature']\n",
    "internal_resistance = dfjson[\"cycles_interpolated\"]['internal_resistance']\n",
    "\n",
    "step_type = dfjson[\"cycles_interpolated\"]['step_type']\n",
    "\n",
    "\n",
    "\n",
    "\n",
    "# lundi de 14h à 15h\n",
    "# répétition générale le vendredi matin\n",
    "\n",
    "\n",
    "\n",
    "\n",
    "\n",
    "plt.plot(discharge_capacity)\n",
    "plt.plot(step_type)\n",
    "plt.show()\n",
    "\n",
    "plt.plot(charge_capacity)\n",
    "plt.plot(step_type)\n",
    "plt.show()\n",
    "\n",
    "plt.plot(voltage)\n",
    "plt.plot(step_type)\n",
    "plt.show()\n",
    "\n",
    "plt.plot(current)\n",
    "plt.plot(step_type)\n",
    "plt.show()\n",
    "\n",
    "plt.plot(temperatures)\n",
    "plt.plot(step_type)\n",
    "plt.show()\n",
    "\n",
    "plt.plot(internal_resistance)\n",
    "plt.plot(step_type)\n",
    "plt.show()\n",
    "\n",
    "\n"
   ]
  },
  {
   "cell_type": "code",
   "execution_count": null,
   "id": "18bb850a",
   "metadata": {
    "ExecuteTime": {
     "end_time": "2022-06-14T11:54:20.436847Z",
     "start_time": "2022-06-14T11:54:20.426578Z"
    }
   },
   "outputs": [],
   "source": [
    "len(voltages)"
   ]
  },
  {
   "cell_type": "code",
   "execution_count": null,
   "id": "13576f55",
   "metadata": {
    "ExecuteTime": {
     "end_time": "2022-06-14T11:40:29.797591Z",
     "start_time": "2022-06-14T11:40:29.783836Z"
    }
   },
   "outputs": [],
   "source": [
    "dfjson['protocol']"
   ]
  },
  {
   "cell_type": "code",
   "execution_count": null,
   "id": "c6351fca",
   "metadata": {
    "ExecuteTime": {
     "end_time": "2022-06-14T11:40:34.560647Z",
     "start_time": "2022-06-14T11:40:34.547562Z"
    }
   },
   "outputs": [],
   "source": [
    "features_name = dfjson.iloc[:,0].index.tolist()\n",
    "features_name"
   ]
  },
  {
   "cell_type": "markdown",
   "id": "4f1dd8ad",
   "metadata": {},
   "source": [
    "Loading fichiers json"
   ]
  },
  {
   "cell_type": "code",
   "execution_count": null,
   "id": "579d335d",
   "metadata": {
    "ExecuteTime": {
     "end_time": "2022-06-14T07:50:09.035180Z",
     "start_time": "2022-06-14T07:50:09.009062Z"
    }
   },
   "outputs": [],
   "source": [
    "files_path = \"raw_data/initial_data/Data/FastCharge\"\n",
    "files_type = \".json\"\n",
    "files_names = [\n",
    "  \"FastCharge_000000_CH19_structure\",\n",
    "  \"FastCharge_000001_CH16_structure\",\n",
    "  \"FastCharge_000001_CH30_structure\",\n",
    "  \"FastCharge_000001_CH38_structure\",\n",
    "  \"FastCharge_000002_CH2_structure\",\n",
    "  \"FastCharge_000002_CH7_structure\",\n",
    "  \"FastCharge_000002_CH10_structure\",\n",
    "  \"FastCharge_000002_CH18_structure\",\n",
    "  \"FastCharge_000002_CH26_structure\",\n",
    "  \"FastCharge_000002_CH34_structure\",\n",
    "  \"FastCharge_000002_CH42_structure\",\n",
    "  \"FastCharge_000002_CH47_structure\",\n",
    "  \"FastCharge_000003_CH39_structure\",\n",
    "  \"FastCharge_000003_CH40_structure\",\n",
    "  \"FastCharge_000004_CH1_structure\",\n",
    "  \"FastCharge_000004_CH2_structure\",\n",
    "  \"FastCharge_000004_CH3_structure\",\n",
    "  \"FastCharge_000005_CH18_structure\",\n",
    "  \"FastCharge_000006_CH3_structure\",\n",
    "  \"FastCharge_000006_CH8_structure\",\n",
    "  \"FastCharge_000006_CH11_structure\",\n",
    "  \"FastCharge_000006_CH19_structure\",\n",
    "  \"FastCharge_000006_CH27_structure\",\n",
    "  \"FastCharge_000006_CH35_structure\",\n",
    "  \"FastCharge_000006_CH43_structure\",\n",
    "  \"FastCharge_000006_CH48_structure\",\n",
    "  \"FastCharge_000007_CH24_structure\",\n",
    "  \"FastCharge_000007_CH39_structure\",\n",
    "  \"FastCharge_000008_CH47_structure\",\n",
    "  \"FastCharge_000008_CH48_structure\",\n",
    "  \"FastCharge_000009_CH4_structure\",\n",
    "  \"FastCharge_000009_CH7_structure\",\n",
    "  \"FastCharge_000009_CH8_structure\",\n",
    "  \"FastCharge_000010_CH44_structure\",\n",
    "  \"FastCharge_000011_CH26_structure\",\n",
    "  \"FastCharge_000012_CH5_structure\",\n",
    "  \"FastCharge_000012_CH13_structure\",\n",
    "  \"FastCharge_000012_CH15_structure\",\n",
    "  \"FastCharge_000012_CH21_structure\",\n",
    "  \"FastCharge_000012_CH23_structure\",\n",
    "  \"FastCharge_000012_CH29_structure\",\n",
    "  \"FastCharge_000012_CH37_structure\",\n",
    "  \"FastCharge_000012_CH45_structure\",\n",
    "  \"FastCharge_000013_CH13_structure\",\n",
    "  \"FastCharge_000013_CH14_structure\",\n",
    "  \"FastCharge_000014_CH23_structure\",\n",
    "  \"FastCharge_000014_CH24_structure\",\n",
    "  \"FastCharge_000015_CH4_structure\",\n",
    "  \"FastCharge_000015_CH12_structure\",\n",
    "  \"FastCharge_000015_CH14_structure\",\n",
    "  \"FastCharge_000015_CH20_structure\",\n",
    "  \"FastCharge_000015_CH22_structure\",\n",
    "  \"FastCharge_000015_CH28_structure\",\n",
    "  \"FastCharge_000015_CH36_structure\",\n",
    "  \"FastCharge_000015_CH44_structure\",\n",
    "  \"FastCharge_000016_CH17_structure\",\n",
    "  \"FastCharge_000017_CH1_structure\",\n",
    "  \"FastCharge_000017_CH6_structure\",\n",
    "  \"FastCharge_000017_CH9_structure\",\n",
    "  \"FastCharge_000017_CH17_structure\",\n",
    "  \"FastCharge_000017_CH25_structure\",\n",
    "  \"FastCharge_000017_CH33_structure\",\n",
    "  \"FastCharge_000017_CH41_structure\",\n",
    "  \"FastCharge_000017_CH46_structure\",\n",
    "  \"FastCharge_000018_CH18_structure\",\n",
    "  \"FastCharge_000019_CH29_structure\",\n",
    "  \"FastCharge_000019_CH30_structure\",\n",
    "  \"FastCharge_000020_CH23_structure\",\n",
    "  \"FastCharge_000021_CH28_structure\",\n",
    "  \"FastCharge_000022_CH24_structure\",\n",
    "  \"FastCharge_000023_CH37_structure\",\n",
    "  \"FastCharge_000023_CH38_structure\",\n",
    "  \"FastCharge_000024_CH45_structure\",\n",
    "  \"FastCharge_000025_CH7_structure\",\n",
    "  \"FastCharge_000026_CH5_structure\",\n",
    "  \"FastCharge_000026_CH6_structure\",\n",
    "  \"FastCharge_000027_CH31_structure\",\n",
    "  \"FastCharge_000028_CH19_structure\",\n",
    "  \"FastCharge_000028_CH20_structure\",\n",
    "  \"FastCharge_000029_CH9_structure\",\n",
    "  \"FastCharge_000029_CH10_structure\",\n",
    "  \"FastCharge_000030_CH30_structure\",\n",
    "  \"FastCharge_000031_CH9_structure\",\n",
    "  \"FastCharge_000032_CH22_structure\",\n",
    "  \"FastCharge_000033_CH14_structure\",\n",
    "  \"FastCharge_000034_CH27_structure\",\n",
    "  \"FastCharge_000035_CH12_structure\",\n",
    "  \"FastCharge_000036_CH48_structure\",\n",
    "  \"FastCharge_000037_CH21_structure\",\n",
    "  \"FastCharge_000037_CH22_structure\",\n",
    "  \"FastCharge_000038_CH13_structure\",\n",
    "  \"FastCharge_000039_CH27_structure\",\n",
    "  \"FastCharge_000039_CH28_structure\",\n",
    "  \"FastCharge_000040_CH32_structure\",\n",
    "  \"FastCharge_000042_CH36_structure\",\n",
    "  \"FastCharge_000043_CH16_structure\",\n",
    "  \"FastCharge_000044_CH11_structure\",\n",
    "  \"FastCharge_000044_CH12_structure\",\n",
    "  \"FastCharge_000045_CH1_structure\",\n",
    "  \"FastCharge_000045_CH2_structure\",\n",
    "  \"FastCharge_000045_CH3_structure\",\n",
    "  \"FastCharge_000046_CH31_structure\",\n",
    "  \"FastCharge_000046_CH32_structure\",\n",
    "  \"FastCharge_000047_CH21_structure\",\n",
    "  \"FastCharge_000048_CH43_structure\",\n",
    "  \"FastCharge_000048_CH44_structure\",\n",
    "  \"FastCharge_000049_CH37_structure\",\n",
    "  \"FastCharge_000050_CH32_structure\",\n",
    "  \"FastCharge_000050_CH40_structure\",\n",
    "  \"FastCharge_000051_CH15_structure\",\n",
    "  \"FastCharge_000051_CH16_structure\",\n",
    "  \"FastCharge_000052_CH41_structure\",\n",
    "  \"FastCharge_000053_CH42_structure\",\n",
    "  \"FastCharge_000054_CH15_structure\",\n",
    "  \"FastCharge_000055_CH20_structure\",\n",
    "  \"FastCharge_000056_CH11_structure\",\n",
    "  \"FastCharge_000057_CH35_structure\",\n",
    "  \"FastCharge_000057_CH36_structure\",\n",
    "  \"FastCharge_000058_CH45_structure\",\n",
    "  \"FastCharge_000058_CH46_structure\",\n",
    "  \"FastCharge_000059_CH33_structure\",\n",
    "  \"FastCharge_000060_CH29_structure\",\n",
    "  \"FastCharge_000061_CH43_structure\",\n",
    "  \"FastCharge_000062_CH47_structure\",\n",
    "  \"FastCharge_000063_CH5_structure\",\n",
    "  \"FastCharge_000063_CH6_structure\",\n",
    "  \"FastCharge_000064_CH39_structure\",\n",
    "  \"FastCharge_000065_CH33_structure\",\n",
    "  \"FastCharge_000065_CH34_structure\",\n",
    "  \"FastCharge_000066_CH25_structure\",\n",
    "  \"FastCharge_000066_CH26_structure\",\n",
    "  \"FastCharge_000067_CH41_structure\",\n",
    "  \"FastCharge_000067_CH42_structure\",\n",
    "  \"FastCharge_000068_CH38_structure\",\n",
    "  \"FastCharge_000069_CH25_structure\",\n",
    "  \"FastCharge_000070_CH46_structure\",\n",
    "  \"FastCharge_000071_CH40_structure\",\n",
    "  \"FastCharge_000072_CH34_structure\",\n",
    "  \"FastCharge_000073_CH35_structure\",\n",
    "]\n",
    " \n",
    "\n",
    "print(len(files_names))"
   ]
  },
  {
   "cell_type": "code",
   "execution_count": null,
   "id": "f77ccaad",
   "metadata": {},
   "outputs": [],
   "source": []
  },
  {
   "cell_type": "code",
   "execution_count": null,
   "id": "5762750e",
   "metadata": {
    "ExecuteTime": {
     "end_time": "2022-06-14T12:35:58.027792Z",
     "start_time": "2022-06-14T12:35:58.014093Z"
    }
   },
   "outputs": [],
   "source": [
    "csv_file = \"../../initial_data/test_details.csv\"\n",
    "df = pd.read_csv(csv_file)"
   ]
  },
  {
   "cell_type": "code",
   "execution_count": null,
   "id": "178615a2",
   "metadata": {
    "ExecuteTime": {
     "end_time": "2022-06-14T12:36:00.261929Z",
     "start_time": "2022-06-14T12:36:00.241282Z"
    },
    "scrolled": true
   },
   "outputs": [],
   "source": [
    "df.head(3)"
   ]
  },
  {
   "cell_type": "code",
   "execution_count": null,
   "id": "4ac3a407",
   "metadata": {
    "ExecuteTime": {
     "end_time": "2022-06-14T12:21:25.226115Z",
     "start_time": "2022-06-14T12:21:25.215492Z"
    }
   },
   "outputs": [],
   "source": [
    "len(df.values)"
   ]
  },
  {
   "cell_type": "code",
   "execution_count": null,
   "id": "0b464cc3",
   "metadata": {
    "ExecuteTime": {
     "end_time": "2022-06-14T10:32:33.645690Z",
     "start_time": "2022-06-14T10:32:33.636403Z"
    }
   },
   "outputs": [],
   "source": [
    "df['protocol'][1]"
   ]
  },
  {
   "cell_type": "code",
   "execution_count": null,
   "id": "b810a843",
   "metadata": {
    "ExecuteTime": {
     "end_time": "2022-06-14T09:07:59.798665Z",
     "start_time": "2022-06-14T09:07:59.766856Z"
    },
    "scrolled": true
   },
   "outputs": [],
   "source": [
    "df['protocol'].head(50)"
   ]
  },
  {
   "cell_type": "code",
   "execution_count": null,
   "id": "981846bf",
   "metadata": {
    "ExecuteTime": {
     "end_time": "2022-06-14T12:45:23.652004Z",
     "start_time": "2022-06-14T12:45:23.602934Z"
    }
   },
   "outputs": [],
   "source": [
    "\n",
    "def extract_protocol_string(protocol):\n",
    "    \"\"\"protocol extraction string\"\"\"\n",
    "    res = {}\n",
    "    protocol = protocol.lower()\n",
    "\n",
    "    tmp = protocol.split(\"\\\\\")\n",
    "    tmp1 = (tmp[1].split(\"-\")[1]).split(\"c\")\n",
    "\n",
    "    batch = tmp[0]\n",
    "    c1 = tmp1[0].split(\"c\")[0]\n",
    "    per = protocol.split(\"per\")[0]\n",
    "    c2 = protocol.split(\"per_\")[1].split(\"c\")[0]\n",
    "\n",
    "    res['batch'] = batch.split(\"_\")[0]\n",
    "    res[\"c1\"] = float(c1.replace(\"_\",\".\"))\n",
    "    res[\"per\"] = int(per[-2:].replace(\"_\", \"\"))\n",
    "    res[\"c2\"] = float(c2.replace(\"_\",\".\"))\n",
    "    res['newstructure'] = int(protocol.find(\"newstructure\") >= 0)\n",
    "    return res\n",
    "\n",
    "def extract_protocol_list(protocols, value):\n",
    "    \"\"\" protocol extraction list \"\"\"\n",
    "    res = []\n",
    "    for protocol in protocols:\n",
    "        res.append(extract_protocol_string(protocol)[value])\n",
    "    return res\n",
    "\n",
    "def extract_protocol_file(csv_file_in, csv_file_out):\n",
    "    \"\"\" csv import \"\"\"\n",
    "    df = pd.read_csv(csv_file_in)\n",
    "    tmp = df.copy()\n",
    "    \n",
    "    \"\"\" feature transformation \"\"\"\n",
    "    tmp['batch'] = extract_protocol_list(tmp['protocol'], \"batch\")\n",
    "    tmp['c1'] = extract_protocol_list(tmp['protocol'], \"c1\")\n",
    "    tmp['c2'] = extract_protocol_list(tmp['protocol'], \"c2\")\n",
    "    tmp['per'] = extract_protocol_list(tmp['protocol'], \"per\")\n",
    "    tmp['newstructure'] = extract_protocol_list(tmp['protocol'], \"newstructure\")\n",
    "    \n",
    "    \"\"\" clean \"\"\"\n",
    "    #tmp[\"barcode\"] = tmp[\"barcode\"].str.upper()\n",
    "    \n",
    "    \"\"\" drop \"\"\"\n",
    "    tmp.drop(columns=['protocol'], inplace=True)\n",
    "    tmp.drop_duplicates(subset=['barcode'], inplace=True, ignore_index=True)\n",
    "    #tmp.drop(columns=['@module'], inplace=True)\n",
    "    #tmp.drop(columns=['@class'], inplace=True)\n",
    "    \n",
    "    \"\"\" export \"\"\"\n",
    "    tmp.to_csv(csv_file_out, index=False)\n",
    "    \n",
    "\n",
    "#extract_protocol_csv(\"../../initial_data/test_details.csv\")\n",
    "    \n",
    "#2017-06-30_tests\\20170630-4_9C_61per_4_5C.sdu\n",
    "#2017-05-12_TESTS\\20170512-8C-35PER_3_6C.SDU\n",
    "\n",
    "#extract_protocol_string(df['protocol'][1])\n",
    "\n",
    "extract_protocol_file(\"../../initial_data/test_details.csv\", \"../../initial_data/test_details_out.csv\")"
   ]
  },
  {
   "cell_type": "code",
   "execution_count": null,
   "id": "2e0e6bb8",
   "metadata": {
    "ExecuteTime": {
     "end_time": "2022-06-14T14:12:07.879428Z",
     "start_time": "2022-06-14T14:12:07.817544Z"
    },
    "scrolled": false
   },
   "outputs": [],
   "source": [
    "tmp = df.copy()\n",
    "tmp['batch'] = extract_protocol_list(tmp['protocol'], \"batch\")\n",
    "tmp['c1'] = extract_protocol_list(tmp['protocol'], \"c1\")\n",
    "tmp['c2'] = extract_protocol_list(tmp['protocol'], \"c2\")\n",
    "tmp['per'] = extract_protocol_list(tmp['protocol'], \"per\")\n",
    "tmp['newstructure'] = extract_protocol_list(tmp['protocol'], \"newstructure\")\n",
    "\n",
    "tmp.drop(columns=['protocol'], inplace=True)\n",
    "tmp.drop_duplicates(subset=['barcode'], inplace=True, ignore_index=True)\n",
    "tmp.drop(columns=['@module'], inplace=True)\n",
    "tmp.drop(columns=['@class'], inplace=True)\n",
    "#tmp[\"barcode\"] = tmp[\"barcode\"].str.upper()\n",
    "\n",
    "\n",
    "\"\"\"Our dataset is described in Supplementary Table 9. In total, our dataset\n",
    "consists of three ‘batches’, or cells run in parallel. Each batch has slightly different\n",
    "testing conditions. For the ‘2017-05-12’ batch, the rests after reaching 80% SOC\n",
    "during charging and after discharging were 1 min and 1 s, respectively. For the\n",
    "‘2017-06-30’ batch, the rests after reaching 80% SOC during charging and after\n",
    "discharging were both 5 min. For the ‘2018-04-12’ batch, 5 s rests were placed after\n",
    "reaching 80% SOC during charging, after the internal resistance test and before\n",
    "and after discharging.\"\"\"\n",
    "\n",
    "def get_bad_cells_barcode(df):\n",
    "    \"\"\"\n",
    "    # utilisation\n",
    "    cells_to_drop = get_bad_cells_barcode(df)\n",
    "\n",
    "    # observations à enlever (batch1)\n",
    "    for c in cells_to_drop[0]:\n",
    "        print(df[df[\"barcode\"] == c])\n",
    "    # observations à enlever (batch2)\n",
    "    for c in cells_to_drop[1]:\n",
    "        print(df[df[\"barcode\"] == c])\n",
    "    # observations à enlever (batch3)\n",
    "    for c in cells_to_drop[2]:\n",
    "        print(df[df[\"barcode\"] == c])\n",
    "    \"\"\"\n",
    "    bad_cells_b1 = [8, 10, 12, 13, 22]\n",
    "    bad_cells_b2 = [7, 8, 9, 15, 16]\n",
    "    bad_cells_b3 = [37, 2, 23, 32, 42, 43]\n",
    "    batches_date = ['2017-05-12', '2017-06-30', '2018-04-12']\n",
    "    bad_cells_batches = [ [], [], [] ]\n",
    "    # batch 1\n",
    "    tmp = df.copy()\n",
    "    tmp = tmp.drop(tmp[tmp.batch == batches_date[1]].index)\n",
    "    tmp = tmp.drop(tmp[tmp.batch == batches_date[2]].index)\n",
    "    for bc in bad_cells_b1:\n",
    "        bad_cells_batches[0].append(tmp[tmp['channel_id'] == bc].barcode.iloc[0])\n",
    "    # batch 2\n",
    "    tmp = df.copy()\n",
    "    tmp = tmp.drop(tmp[tmp.batch == batches_date[0]].index)\n",
    "    tmp = tmp.drop(tmp[tmp.batch == batches_date[2]].index)\n",
    "    for bc in bad_cells_b2:\n",
    "        bad_cells_batches[1].append(tmp[tmp['channel_id'] == bc].barcode.iloc[0])\n",
    "    # batch 2\n",
    "    tmp = df.copy()\n",
    "    tmp = tmp.drop(tmp[tmp.batch == batches_date[0]].index)\n",
    "    tmp = tmp.drop(tmp[tmp.batch == batches_date[1]].index)\n",
    "    for bc in bad_cells_b3:\n",
    "        bad_cells_batches[2].append(tmp[tmp['channel_id'] == bc].barcode.iloc[0])\n",
    "    return bad_cells_batches\n",
    "\n",
    "\n",
    "display(get_bad_cells_barcode(tmp))"
   ]
  },
  {
   "cell_type": "code",
   "execution_count": null,
   "id": "77ae733d",
   "metadata": {
    "ExecuteTime": {
     "end_time": "2022-06-14T14:27:06.232475Z",
     "start_time": "2022-06-14T14:27:06.176626Z"
    }
   },
   "outputs": [],
   "source": [
    "tmp = df.copy()\n",
    "tmp['batch'] = extract_protocol_list(tmp['protocol'], \"batch\")\n",
    "tmp['c1'] = extract_protocol_list(tmp['protocol'], \"c1\")\n",
    "tmp['c2'] = extract_protocol_list(tmp['protocol'], \"c2\")\n",
    "tmp['per'] = extract_protocol_list(tmp['protocol'], \"per\")\n",
    "tmp['newstructure'] = extract_protocol_list(tmp['protocol'], \"newstructure\")\n",
    "\n",
    "tmp.drop(columns=['protocol'], inplace=True)\n",
    "tmp.drop_duplicates(subset=['barcode'], inplace=True, ignore_index=True)\n",
    "tmp.drop(columns=['@module'], inplace=True)\n",
    "tmp.drop(columns=['@class'], inplace=True)\n",
    "#tmp[\"barcode\"] = tmp[\"barcode\"].str.upper()\n",
    "\n",
    "\n",
    "def preprocessing_batch_feature_to_numeric(df):\n",
    "    batches_date = ['2017-05-12', '2017-06-30', '2018-04-12']\n",
    "    for idx, batch_date in enumerate(batches_date):\n",
    "        df.loc[df['batch'] == batch_date, \"batch\"] = idx\n",
    "    return df\n",
    "    \n",
    "    \n",
    "tmp = preprocessing_batch_feature_to_numeric(tmp)\n",
    "tmp"
   ]
  },
  {
   "cell_type": "code",
   "execution_count": null,
   "id": "9e9b95aa",
   "metadata": {
    "ExecuteTime": {
     "end_time": "2022-06-14T14:40:54.499414Z",
     "start_time": "2022-06-14T14:40:54.488878Z"
    }
   },
   "outputs": [],
   "source": [
    "tmp['@version'].unique()"
   ]
  },
  {
   "cell_type": "code",
   "execution_count": null,
   "id": "e2812d6f",
   "metadata": {
    "ExecuteTime": {
     "end_time": "2022-06-14T10:36:41.723685Z",
     "start_time": "2022-06-14T10:36:41.710272Z"
    },
    "scrolled": true
   },
   "outputs": [],
   "source": [
    "for protocol in df['protocol']:\n",
    "    print(extract_protocol_string(protocol))\n",
    "\n",
    "#print(extract_protocol(df['protocol'][0]))"
   ]
  },
  {
   "cell_type": "code",
   "execution_count": null,
   "id": "0f62b145",
   "metadata": {
    "ExecuteTime": {
     "end_time": "2022-06-14T08:28:46.585244Z",
     "start_time": "2022-06-14T08:28:46.576073Z"
    }
   },
   "outputs": [],
   "source": [
    "total = 0\n",
    "to_find = \"TESTS\"\n",
    "for f in df['protocol']:\n",
    "    total += f.lower().find(to_find.lower()) < 0\n",
    "print(f'total {total} of \"{to_find}\"')"
   ]
  },
  {
   "cell_type": "code",
   "execution_count": null,
   "id": "f4f939a3",
   "metadata": {},
   "outputs": [],
   "source": []
  }
 ],
 "metadata": {
  "kernelspec": {
   "display_name": "Python 3 (ipykernel)",
   "language": "python",
   "name": "python3"
  },
  "language_info": {
   "codemirror_mode": {
    "name": "ipython",
    "version": 3
   },
   "file_extension": ".py",
   "mimetype": "text/x-python",
   "name": "python",
   "nbconvert_exporter": "python",
   "pygments_lexer": "ipython3",
   "version": "3.8.12"
  },
  "toc": {
   "base_numbering": 1,
   "nav_menu": {},
   "number_sections": true,
   "sideBar": true,
   "skip_h1_title": false,
   "title_cell": "Table of Contents",
   "title_sidebar": "Contents",
   "toc_cell": false,
   "toc_position": {
    "height": "calc(100% - 180px)",
    "left": "10px",
    "top": "150px",
    "width": "165px"
   },
   "toc_section_display": true,
   "toc_window_display": true
  }
 },
 "nbformat": 4,
 "nbformat_minor": 5
}
