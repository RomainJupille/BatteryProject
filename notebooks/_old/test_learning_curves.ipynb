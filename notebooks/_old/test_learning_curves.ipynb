{
 "cells": [
  {
   "cell_type": "code",
   "execution_count": 1,
   "metadata": {},
   "outputs": [],
   "source": [
    "from BatteryProject.ModelOne import trainer"
   ]
  },
  {
   "cell_type": "code",
   "execution_count": 2,
   "metadata": {},
   "outputs": [],
   "source": [
    "import pandas as pd\n",
    "\n",
    "\n",
    "from BatteryProject import data\n",
    "from sklearn.preprocessing import RobustScaler\n",
    "from sklearn.linear_model import LogisticRegression\n",
    "from sklearn.model_selection import GridSearchCV\n",
    "from sklearn.pipeline import Pipeline"
   ]
  },
  {
   "cell_type": "code",
   "execution_count": 3,
   "metadata": {},
   "outputs": [],
   "source": [
    "trainer = trainer.Trainer()"
   ]
  },
  {
   "cell_type": "code",
   "execution_count": 4,
   "metadata": {},
   "outputs": [],
   "source": [
    "features = {\n",
    "        'disc_capa' : 'summary_discharge_capacity.csv',\n",
    "        'dis_ener' : 'summary_discharge_energy.csv',\n",
    "        'temp_avg' : 'summary_temperature_average.csv',\n",
    "        'char_capa' : 'summary_charge_capacity.csv'}"
   ]
  },
  {
   "cell_type": "code",
   "execution_count": null,
   "metadata": {},
   "outputs": [],
   "source": []
  },
  {
   "cell_type": "code",
   "execution_count": 5,
   "metadata": {},
   "outputs": [],
   "source": [
    "trainer.features = features\n",
    "\n"
   ]
  },
  {
   "cell_type": "code",
   "execution_count": 6,
   "metadata": {},
   "outputs": [
    {
     "data": {
      "text/plain": [
       "[550]"
      ]
     },
     "execution_count": 6,
     "metadata": {},
     "output_type": "execute_result"
    }
   ],
   "source": [
    "trainer.classes"
   ]
  },
  {
   "cell_type": "code",
   "execution_count": 7,
   "metadata": {},
   "outputs": [
    {
     "data": {
      "text/plain": [
       "5"
      ]
     },
     "execution_count": 7,
     "metadata": {},
     "output_type": "execute_result"
    }
   ],
   "source": [
    "trainer.deep"
   ]
  },
  {
   "cell_type": "code",
   "execution_count": 8,
   "metadata": {},
   "outputs": [
    {
     "name": "stderr",
     "output_type": "stream",
     "text": [
      "/home/tom/code/TomG13100/BatteryProject/BatteryProject/ModelOne/get_features.py:27: UserWarning: Boolean Series key will be reindexed to match DataFrame index.\n",
      "  df_dict[key] = df_dict[key][filter == 0]\n"
     ]
    },
    {
     "data": {
      "text/plain": [
       "<BatteryProject.ModelOne.trainer.Trainer at 0x7fe83c1a5a90>"
      ]
     },
     "execution_count": 8,
     "metadata": {},
     "output_type": "execute_result"
    }
   ],
   "source": [
    "trainer.get_data(features)"
   ]
  },
  {
   "cell_type": "code",
   "execution_count": 9,
   "metadata": {},
   "outputs": [
    {
     "data": {
      "text/html": [
       "<div>\n",
       "<style scoped>\n",
       "    .dataframe tbody tr th:only-of-type {\n",
       "        vertical-align: middle;\n",
       "    }\n",
       "\n",
       "    .dataframe tbody tr th {\n",
       "        vertical-align: top;\n",
       "    }\n",
       "\n",
       "    .dataframe thead th {\n",
       "        text-align: right;\n",
       "    }\n",
       "</style>\n",
       "<table border=\"1\" class=\"dataframe\">\n",
       "  <thead>\n",
       "    <tr style=\"text-align: right;\">\n",
       "      <th></th>\n",
       "      <th>disc_capa_0</th>\n",
       "      <th>disc_capa_1</th>\n",
       "      <th>disc_capa_2</th>\n",
       "      <th>disc_capa_3</th>\n",
       "      <th>disc_capa_4</th>\n",
       "      <th>dis_ener_0</th>\n",
       "      <th>dis_ener_1</th>\n",
       "      <th>dis_ener_2</th>\n",
       "      <th>dis_ener_3</th>\n",
       "      <th>dis_ener_4</th>\n",
       "      <th>temp_avg_0</th>\n",
       "      <th>temp_avg_1</th>\n",
       "      <th>temp_avg_2</th>\n",
       "      <th>temp_avg_3</th>\n",
       "      <th>temp_avg_4</th>\n",
       "      <th>char_capa_0</th>\n",
       "      <th>char_capa_1</th>\n",
       "      <th>char_capa_2</th>\n",
       "      <th>char_capa_3</th>\n",
       "      <th>char_capa_4</th>\n",
       "    </tr>\n",
       "  </thead>\n",
       "  <tbody>\n",
       "    <tr>\n",
       "      <th>16</th>\n",
       "      <td>1.678168</td>\n",
       "      <td>1.072892</td>\n",
       "      <td>1.075234</td>\n",
       "      <td>1.076328</td>\n",
       "      <td>1.076682</td>\n",
       "      <td>5.171466</td>\n",
       "      <td>3.274016</td>\n",
       "      <td>3.281961</td>\n",
       "      <td>3.285564</td>\n",
       "      <td>3.287147</td>\n",
       "      <td>30.091610</td>\n",
       "      <td>33.800686</td>\n",
       "      <td>33.773811</td>\n",
       "      <td>33.802151</td>\n",
       "      <td>33.811558</td>\n",
       "      <td>1.162923</td>\n",
       "      <td>1.072565</td>\n",
       "      <td>1.074793</td>\n",
       "      <td>1.075834</td>\n",
       "      <td>1.076306</td>\n",
       "    </tr>\n",
       "    <tr>\n",
       "      <th>57</th>\n",
       "      <td>1.564326</td>\n",
       "      <td>1.067325</td>\n",
       "      <td>1.068068</td>\n",
       "      <td>1.068651</td>\n",
       "      <td>1.069091</td>\n",
       "      <td>4.797553</td>\n",
       "      <td>3.252035</td>\n",
       "      <td>3.255285</td>\n",
       "      <td>3.258027</td>\n",
       "      <td>3.259733</td>\n",
       "      <td>32.901081</td>\n",
       "      <td>34.074085</td>\n",
       "      <td>34.055767</td>\n",
       "      <td>34.064316</td>\n",
       "      <td>34.056713</td>\n",
       "      <td>1.164240</td>\n",
       "      <td>1.072330</td>\n",
       "      <td>1.074618</td>\n",
       "      <td>1.075655</td>\n",
       "      <td>1.076025</td>\n",
       "    </tr>\n",
       "    <tr>\n",
       "      <th>41</th>\n",
       "      <td>1.953908</td>\n",
       "      <td>1.063979</td>\n",
       "      <td>1.067968</td>\n",
       "      <td>1.069100</td>\n",
       "      <td>1.069626</td>\n",
       "      <td>6.187224</td>\n",
       "      <td>3.246333</td>\n",
       "      <td>3.259465</td>\n",
       "      <td>3.262990</td>\n",
       "      <td>3.266223</td>\n",
       "      <td>30.449299</td>\n",
       "      <td>29.989285</td>\n",
       "      <td>30.337265</td>\n",
       "      <td>30.182928</td>\n",
       "      <td>29.961712</td>\n",
       "      <td>1.150257</td>\n",
       "      <td>1.066728</td>\n",
       "      <td>1.068558</td>\n",
       "      <td>1.069683</td>\n",
       "      <td>1.070222</td>\n",
       "    </tr>\n",
       "    <tr>\n",
       "      <th>111</th>\n",
       "      <td>1.680355</td>\n",
       "      <td>1.087429</td>\n",
       "      <td>1.089975</td>\n",
       "      <td>1.091289</td>\n",
       "      <td>1.092096</td>\n",
       "      <td>5.169947</td>\n",
       "      <td>3.311137</td>\n",
       "      <td>3.319215</td>\n",
       "      <td>3.323679</td>\n",
       "      <td>3.326359</td>\n",
       "      <td>30.612774</td>\n",
       "      <td>32.186287</td>\n",
       "      <td>32.030430</td>\n",
       "      <td>32.075203</td>\n",
       "      <td>32.090385</td>\n",
       "      <td>1.448271</td>\n",
       "      <td>1.071720</td>\n",
       "      <td>1.076444</td>\n",
       "      <td>1.077953</td>\n",
       "      <td>1.078590</td>\n",
       "    </tr>\n",
       "    <tr>\n",
       "      <th>55</th>\n",
       "      <td>1.962794</td>\n",
       "      <td>1.073385</td>\n",
       "      <td>1.076641</td>\n",
       "      <td>1.078936</td>\n",
       "      <td>1.079808</td>\n",
       "      <td>6.210175</td>\n",
       "      <td>3.261836</td>\n",
       "      <td>3.266603</td>\n",
       "      <td>3.278839</td>\n",
       "      <td>3.283257</td>\n",
       "      <td>29.652721</td>\n",
       "      <td>31.760305</td>\n",
       "      <td>31.267948</td>\n",
       "      <td>31.598188</td>\n",
       "      <td>31.813690</td>\n",
       "      <td>1.180488</td>\n",
       "      <td>1.090720</td>\n",
       "      <td>1.093620</td>\n",
       "      <td>1.095033</td>\n",
       "      <td>1.095715</td>\n",
       "    </tr>\n",
       "    <tr>\n",
       "      <th>...</th>\n",
       "      <td>...</td>\n",
       "      <td>...</td>\n",
       "      <td>...</td>\n",
       "      <td>...</td>\n",
       "      <td>...</td>\n",
       "      <td>...</td>\n",
       "      <td>...</td>\n",
       "      <td>...</td>\n",
       "      <td>...</td>\n",
       "      <td>...</td>\n",
       "      <td>...</td>\n",
       "      <td>...</td>\n",
       "      <td>...</td>\n",
       "      <td>...</td>\n",
       "      <td>...</td>\n",
       "      <td>...</td>\n",
       "      <td>...</td>\n",
       "      <td>...</td>\n",
       "      <td>...</td>\n",
       "      <td>...</td>\n",
       "    </tr>\n",
       "    <tr>\n",
       "      <th>9</th>\n",
       "      <td>1.969953</td>\n",
       "      <td>1.071395</td>\n",
       "      <td>1.074521</td>\n",
       "      <td>1.076363</td>\n",
       "      <td>1.077149</td>\n",
       "      <td>6.233829</td>\n",
       "      <td>3.257201</td>\n",
       "      <td>3.264633</td>\n",
       "      <td>3.273947</td>\n",
       "      <td>3.276133</td>\n",
       "      <td>29.935772</td>\n",
       "      <td>32.246944</td>\n",
       "      <td>31.896320</td>\n",
       "      <td>32.248268</td>\n",
       "      <td>32.457020</td>\n",
       "      <td>1.448440</td>\n",
       "      <td>1.071397</td>\n",
       "      <td>1.074246</td>\n",
       "      <td>1.076030</td>\n",
       "      <td>1.076883</td>\n",
       "    </tr>\n",
       "    <tr>\n",
       "      <th>104</th>\n",
       "      <td>1.948643</td>\n",
       "      <td>1.065180</td>\n",
       "      <td>1.068739</td>\n",
       "      <td>1.070214</td>\n",
       "      <td>1.071219</td>\n",
       "      <td>6.169492</td>\n",
       "      <td>3.241447</td>\n",
       "      <td>3.251326</td>\n",
       "      <td>3.257832</td>\n",
       "      <td>3.261608</td>\n",
       "      <td>29.672123</td>\n",
       "      <td>32.607075</td>\n",
       "      <td>32.516521</td>\n",
       "      <td>33.060062</td>\n",
       "      <td>32.691517</td>\n",
       "      <td>1.066702</td>\n",
       "      <td>1.068464</td>\n",
       "      <td>1.069661</td>\n",
       "      <td>1.070369</td>\n",
       "      <td>1.070965</td>\n",
       "    </tr>\n",
       "    <tr>\n",
       "      <th>68</th>\n",
       "      <td>1.656644</td>\n",
       "      <td>1.058599</td>\n",
       "      <td>1.061124</td>\n",
       "      <td>1.062743</td>\n",
       "      <td>1.063727</td>\n",
       "      <td>5.096415</td>\n",
       "      <td>3.220265</td>\n",
       "      <td>3.228216</td>\n",
       "      <td>3.233653</td>\n",
       "      <td>3.237445</td>\n",
       "      <td>29.478613</td>\n",
       "      <td>33.174706</td>\n",
       "      <td>33.138161</td>\n",
       "      <td>33.175690</td>\n",
       "      <td>33.141060</td>\n",
       "      <td>1.164507</td>\n",
       "      <td>1.075314</td>\n",
       "      <td>1.077306</td>\n",
       "      <td>1.078384</td>\n",
       "      <td>1.079094</td>\n",
       "    </tr>\n",
       "    <tr>\n",
       "      <th>118</th>\n",
       "      <td>1.683136</td>\n",
       "      <td>1.077118</td>\n",
       "      <td>1.079864</td>\n",
       "      <td>1.081163</td>\n",
       "      <td>1.081866</td>\n",
       "      <td>5.194200</td>\n",
       "      <td>3.288119</td>\n",
       "      <td>3.296964</td>\n",
       "      <td>3.301105</td>\n",
       "      <td>3.303008</td>\n",
       "      <td>31.106277</td>\n",
       "      <td>33.421726</td>\n",
       "      <td>33.429596</td>\n",
       "      <td>33.433437</td>\n",
       "      <td>33.446041</td>\n",
       "      <td>1.063142</td>\n",
       "      <td>1.064750</td>\n",
       "      <td>1.065941</td>\n",
       "      <td>1.066838</td>\n",
       "      <td>1.067510</td>\n",
       "    </tr>\n",
       "    <tr>\n",
       "      <th>48</th>\n",
       "      <td>1.617222</td>\n",
       "      <td>1.069712</td>\n",
       "      <td>1.072052</td>\n",
       "      <td>1.073284</td>\n",
       "      <td>1.073923</td>\n",
       "      <td>4.953607</td>\n",
       "      <td>3.249688</td>\n",
       "      <td>3.257501</td>\n",
       "      <td>3.262031</td>\n",
       "      <td>3.264455</td>\n",
       "      <td>29.358967</td>\n",
       "      <td>32.096462</td>\n",
       "      <td>31.937325</td>\n",
       "      <td>31.989212</td>\n",
       "      <td>31.934324</td>\n",
       "      <td>1.065102</td>\n",
       "      <td>1.066707</td>\n",
       "      <td>1.068054</td>\n",
       "      <td>1.068915</td>\n",
       "      <td>1.069651</td>\n",
       "    </tr>\n",
       "  </tbody>\n",
       "</table>\n",
       "<p>93 rows × 20 columns</p>\n",
       "</div>"
      ],
      "text/plain": [
       "     disc_capa_0  disc_capa_1  disc_capa_2  disc_capa_3  disc_capa_4  \\\n",
       "16      1.678168     1.072892     1.075234     1.076328     1.076682   \n",
       "57      1.564326     1.067325     1.068068     1.068651     1.069091   \n",
       "41      1.953908     1.063979     1.067968     1.069100     1.069626   \n",
       "111     1.680355     1.087429     1.089975     1.091289     1.092096   \n",
       "55      1.962794     1.073385     1.076641     1.078936     1.079808   \n",
       "..           ...          ...          ...          ...          ...   \n",
       "9       1.969953     1.071395     1.074521     1.076363     1.077149   \n",
       "104     1.948643     1.065180     1.068739     1.070214     1.071219   \n",
       "68      1.656644     1.058599     1.061124     1.062743     1.063727   \n",
       "118     1.683136     1.077118     1.079864     1.081163     1.081866   \n",
       "48      1.617222     1.069712     1.072052     1.073284     1.073923   \n",
       "\n",
       "     dis_ener_0  dis_ener_1  dis_ener_2  dis_ener_3  dis_ener_4  temp_avg_0  \\\n",
       "16     5.171466    3.274016    3.281961    3.285564    3.287147   30.091610   \n",
       "57     4.797553    3.252035    3.255285    3.258027    3.259733   32.901081   \n",
       "41     6.187224    3.246333    3.259465    3.262990    3.266223   30.449299   \n",
       "111    5.169947    3.311137    3.319215    3.323679    3.326359   30.612774   \n",
       "55     6.210175    3.261836    3.266603    3.278839    3.283257   29.652721   \n",
       "..          ...         ...         ...         ...         ...         ...   \n",
       "9      6.233829    3.257201    3.264633    3.273947    3.276133   29.935772   \n",
       "104    6.169492    3.241447    3.251326    3.257832    3.261608   29.672123   \n",
       "68     5.096415    3.220265    3.228216    3.233653    3.237445   29.478613   \n",
       "118    5.194200    3.288119    3.296964    3.301105    3.303008   31.106277   \n",
       "48     4.953607    3.249688    3.257501    3.262031    3.264455   29.358967   \n",
       "\n",
       "     temp_avg_1  temp_avg_2  temp_avg_3  temp_avg_4  char_capa_0  char_capa_1  \\\n",
       "16    33.800686   33.773811   33.802151   33.811558     1.162923     1.072565   \n",
       "57    34.074085   34.055767   34.064316   34.056713     1.164240     1.072330   \n",
       "41    29.989285   30.337265   30.182928   29.961712     1.150257     1.066728   \n",
       "111   32.186287   32.030430   32.075203   32.090385     1.448271     1.071720   \n",
       "55    31.760305   31.267948   31.598188   31.813690     1.180488     1.090720   \n",
       "..          ...         ...         ...         ...          ...          ...   \n",
       "9     32.246944   31.896320   32.248268   32.457020     1.448440     1.071397   \n",
       "104   32.607075   32.516521   33.060062   32.691517     1.066702     1.068464   \n",
       "68    33.174706   33.138161   33.175690   33.141060     1.164507     1.075314   \n",
       "118   33.421726   33.429596   33.433437   33.446041     1.063142     1.064750   \n",
       "48    32.096462   31.937325   31.989212   31.934324     1.065102     1.066707   \n",
       "\n",
       "     char_capa_2  char_capa_3  char_capa_4  \n",
       "16      1.074793     1.075834     1.076306  \n",
       "57      1.074618     1.075655     1.076025  \n",
       "41      1.068558     1.069683     1.070222  \n",
       "111     1.076444     1.077953     1.078590  \n",
       "55      1.093620     1.095033     1.095715  \n",
       "..           ...          ...          ...  \n",
       "9       1.074246     1.076030     1.076883  \n",
       "104     1.069661     1.070369     1.070965  \n",
       "68      1.077306     1.078384     1.079094  \n",
       "118     1.065941     1.066838     1.067510  \n",
       "48      1.068054     1.068915     1.069651  \n",
       "\n",
       "[93 rows x 20 columns]"
      ]
     },
     "execution_count": 9,
     "metadata": {},
     "output_type": "execute_result"
    }
   ],
   "source": [
    "trainer.X_train"
   ]
  },
  {
   "cell_type": "code",
   "execution_count": null,
   "metadata": {},
   "outputs": [],
   "source": []
  },
  {
   "cell_type": "code",
   "execution_count": null,
   "metadata": {},
   "outputs": [],
   "source": [
    "list(trainer.features_name.keys())"
   ]
  },
  {
   "cell_type": "code",
   "execution_count": 11,
   "metadata": {},
   "outputs": [
    {
     "data": {
      "text/plain": [
       "<BatteryProject.ModelOne.trainer.Trainer at 0x7fe83c1a5a90>"
      ]
     },
     "execution_count": 11,
     "metadata": {},
     "output_type": "execute_result"
    }
   ],
   "source": [
    "trainer.set_pipeline()"
   ]
  },
  {
   "cell_type": "code",
   "execution_count": null,
   "metadata": {},
   "outputs": [],
   "source": [
    "str(trainer.pipeline[\"model\"]).split('(', 1)[0]"
   ]
  },
  {
   "cell_type": "code",
   "execution_count": 12,
   "metadata": {},
   "outputs": [
    {
     "data": {
      "text/plain": [
       "{'memory': None,\n",
       " 'steps': [('scaler',\n",
       "   RobustScaler(copy=True, quantile_range=(25.0, 75.0), with_centering=True,\n",
       "                with_scaling=True)),\n",
       "  ('model',\n",
       "   LogisticRegression(C=1.0, class_weight=None, dual=False, fit_intercept=True,\n",
       "                      intercept_scaling=1, l1_ratio=None, max_iter=3000,\n",
       "                      multi_class='auto', n_jobs=None, penalty='l2',\n",
       "                      random_state=None, solver='lbfgs', tol=0.0001, verbose=0,\n",
       "                      warm_start=False))],\n",
       " 'verbose': False,\n",
       " 'scaler': RobustScaler(copy=True, quantile_range=(25.0, 75.0), with_centering=True,\n",
       "              with_scaling=True),\n",
       " 'model': LogisticRegression(C=1.0, class_weight=None, dual=False, fit_intercept=True,\n",
       "                    intercept_scaling=1, l1_ratio=None, max_iter=3000,\n",
       "                    multi_class='auto', n_jobs=None, penalty='l2',\n",
       "                    random_state=None, solver='lbfgs', tol=0.0001, verbose=0,\n",
       "                    warm_start=False),\n",
       " 'scaler__copy': True,\n",
       " 'scaler__quantile_range': (25.0, 75.0),\n",
       " 'scaler__with_centering': True,\n",
       " 'scaler__with_scaling': True,\n",
       " 'model__C': 1.0,\n",
       " 'model__class_weight': None,\n",
       " 'model__dual': False,\n",
       " 'model__fit_intercept': True,\n",
       " 'model__intercept_scaling': 1,\n",
       " 'model__l1_ratio': None,\n",
       " 'model__max_iter': 3000,\n",
       " 'model__multi_class': 'auto',\n",
       " 'model__n_jobs': None,\n",
       " 'model__penalty': 'l2',\n",
       " 'model__random_state': None,\n",
       " 'model__solver': 'lbfgs',\n",
       " 'model__tol': 0.0001,\n",
       " 'model__verbose': 0,\n",
       " 'model__warm_start': False}"
      ]
     },
     "execution_count": 12,
     "metadata": {},
     "output_type": "execute_result"
    }
   ],
   "source": [
    "trainer.pipeline.get_params()"
   ]
  },
  {
   "cell_type": "code",
   "execution_count": 13,
   "metadata": {},
   "outputs": [],
   "source": [
    "grid = {'model__penalty' : ['l2', 'none'],\n",
    "        'model__solver' : ['lbfgs', 'sag'],\n",
    "        'model__C' : [0.1, 0.5, 1.0, 5.0, 10.0] }"
   ]
  },
  {
   "cell_type": "code",
   "execution_count": 14,
   "metadata": {},
   "outputs": [],
   "source": [
    "from BatteryProject.ModelOne.model_params import *"
   ]
  },
  {
   "cell_type": "code",
   "execution_count": 15,
   "metadata": {},
   "outputs": [],
   "source": [
    "grid2 = {'model__penalty' : ['elasticnet'],\n",
    "         'model__solver' : ['saga'],\n",
    "         'model__C' : [0.01, 0.02, 0.05,0.1,0.2, 0.5, 1.0, 2.0, 5.0],\n",
    "         'model__l1_ratio' : [0.0, 0.2, 0.4,0.6,0.8, 1.0]}"
   ]
  },
  {
   "cell_type": "code",
   "execution_count": 16,
   "metadata": {},
   "outputs": [
    {
     "name": "stderr",
     "output_type": "stream",
     "text": [
      "/home/tom/.pyenv/versions/3.8.12/envs/lewagon/lib/python3.8/site-packages/sklearn/linear_model/_sag.py:329: ConvergenceWarning: The max_iter was reached which means the coef_ did not converge\n",
      "  warnings.warn(\"The max_iter was reached which means \"\n",
      "/home/tom/.pyenv/versions/3.8.12/envs/lewagon/lib/python3.8/site-packages/sklearn/linear_model/_sag.py:329: ConvergenceWarning: The max_iter was reached which means the coef_ did not converge\n",
      "  warnings.warn(\"The max_iter was reached which means \"\n"
     ]
    },
    {
     "data": {
      "text/plain": [
       "<BatteryProject.ModelOne.trainer.Trainer at 0x7fe83c1a5a90>"
      ]
     },
     "execution_count": 16,
     "metadata": {},
     "output_type": "execute_result"
    }
   ],
   "source": [
    "trainer.run(grid2)"
   ]
  },
  {
   "cell_type": "code",
   "execution_count": null,
   "metadata": {},
   "outputs": [],
   "source": [
    "trainer.grid_search.best_estimator_.predict(trainer.X_train.iloc[10:15,:]) == trainer.y_train.iloc[10:15]"
   ]
  },
  {
   "cell_type": "code",
   "execution_count": 17,
   "metadata": {},
   "outputs": [
    {
     "data": {
      "text/plain": [
       "dict_keys(['mean_fit_time', 'std_fit_time', 'mean_score_time', 'std_score_time', 'param_model__C', 'param_model__l1_ratio', 'param_model__penalty', 'param_model__solver', 'params', 'split0_test_score', 'split1_test_score', 'split2_test_score', 'split3_test_score', 'split4_test_score', 'mean_test_score', 'std_test_score', 'rank_test_score'])"
      ]
     },
     "execution_count": 17,
     "metadata": {},
     "output_type": "execute_result"
    }
   ],
   "source": [
    "trainer.grid_search.cv_results_.keys()"
   ]
  },
  {
   "cell_type": "code",
   "execution_count": 18,
   "metadata": {},
   "outputs": [
    {
     "data": {
      "text/plain": [
       "{'accuracy': 0.9512195121951219,\n",
       " 'precision': 0.967741935483871,\n",
       " 'roc_auc': 0.9338709677419355}"
      ]
     },
     "execution_count": 18,
     "metadata": {},
     "output_type": "execute_result"
    }
   ],
   "source": [
    "trainer.eval()"
   ]
  },
  {
   "cell_type": "code",
   "execution_count": 20,
   "metadata": {},
   "outputs": [
    {
     "name": "stdout",
     "output_type": "stream",
     "text": [
      "C = 0.2\n",
      "l1_ratio = 0.6\n",
      "penalty = elasticnet\n",
      "solver = saga\n"
     ]
    }
   ],
   "source": [
    "for key, values in trainer.grid_search.best_params_.items():\n",
    "    print(f\"{key.split('__')[1]} = {values}\")"
   ]
  },
  {
   "cell_type": "code",
   "execution_count": null,
   "metadata": {},
   "outputs": [],
   "source": [
    "trainer.y_train.mean()"
   ]
  },
  {
   "cell_type": "code",
   "execution_count": null,
   "metadata": {},
   "outputs": [],
   "source": [
    "trainer.print_learning_curve()"
   ]
  },
  {
   "cell_type": "code",
   "execution_count": null,
   "metadata": {},
   "outputs": [],
   "source": [
    "trainer.experiment_name"
   ]
  },
  {
   "cell_type": "code",
   "execution_count": null,
   "metadata": {},
   "outputs": [],
   "source": []
  }
 ],
 "metadata": {
  "kernelspec": {
   "display_name": "Python 3 (ipykernel)",
   "language": "python",
   "name": "python3"
  },
  "language_info": {
   "codemirror_mode": {
    "name": "ipython",
    "version": 3
   },
   "file_extension": ".py",
   "mimetype": "text/x-python",
   "name": "python",
   "nbconvert_exporter": "python",
   "pygments_lexer": "ipython3",
   "version": "3.8.12"
  },
  "toc": {
   "base_numbering": 1,
   "nav_menu": {},
   "number_sections": true,
   "sideBar": true,
   "skip_h1_title": false,
   "title_cell": "Table of Contents",
   "title_sidebar": "Contents",
   "toc_cell": false,
   "toc_position": {},
   "toc_section_display": true,
   "toc_window_display": false
  },
  "vscode": {
   "interpreter": {
    "hash": "d4876b27052dc26ce51ff7bd22356f05edb098ec8f23ba948ba7d36883e4605e"
   }
  }
 },
 "nbformat": 4,
 "nbformat_minor": 2
}
