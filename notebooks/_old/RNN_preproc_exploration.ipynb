{
 "cells": [
  {
   "cell_type": "code",
   "execution_count": 141,
   "id": "ba3d720b",
   "metadata": {},
   "outputs": [],
   "source": [
    "import seaborn as sns\n",
    "import matplotlib.pyplot as plt\n",
    "import seaborn as sns\n",
    "import pandas as pd\n",
    "import numpy as np\n",
    "\n",
    "from sklearn.model_selection import train_test_split"
   ]
  },
  {
   "cell_type": "code",
   "execution_count": 2,
   "id": "96727639",
   "metadata": {},
   "outputs": [],
   "source": [
    "#Pour utilisation par romain\n",
    "base_url = '/home/romainj/code/RomainJupille/data-challenges/08-Projects/raw_data/transformed_data'"
   ]
  },
  {
   "cell_type": "code",
   "execution_count": 3,
   "id": "cacbda67",
   "metadata": {},
   "outputs": [],
   "source": [
    "file = [\n",
    "'summary_discharge_capacity.csv',\n",
    "'summary_discharge_energy.csv',         \n",
    "'summary_energy_efficiency.csv',          \n",
    "'summary_energy_throughput.csv',                                        \n",
    "'summary_temperature_average.csv',\n",
    "'summary_charge_capacity.csv',\n",
    "'summary_charge_duration.csv',\n",
    "'summary_charge_throughput.csv',\n",
    "'summary_charge_energy.csv',\n",
    "'summary_temperature_average.csv',\n",
    "'summary_temperature_minimum.csv',\n",
    "'summary_temperature_maximum.csv',\n",
    "'summary_time_temperature_integrated.csv',\n",
    "'summary_dc_internal_resistance.csv'\n",
    "]"
   ]
  },
  {
   "cell_type": "code",
   "execution_count": 6,
   "id": "8173ed77",
   "metadata": {},
   "outputs": [],
   "source": [
    "def get_df(n):\n",
    "    file_name = file[n]\n",
    "    path = '/'.join([base_url,file_name])\n",
    "    df = pd.read_csv(path).drop(columns = 'barcode')\n",
    "    return df"
   ]
  },
  {
   "cell_type": "markdown",
   "id": "f0bc79dd",
   "metadata": {},
   "source": [
    "**Checking that all the df (for the feature at least, don't have any nan)**"
   ]
  },
  {
   "cell_type": "code",
   "execution_count": 106,
   "id": "0af30c66",
   "metadata": {},
   "outputs": [],
   "source": [
    "df = get_df(0)\n",
    "nb_nan = df.isna().sum(axis=1)\n",
    "first_nan = 3000 - nb_nan\n",
    "for i in range(df.shape[0]):\n",
    "    assert(df.iloc[i,:first_nan[i]].isna().sum() == 0)\n",
    "    assert(df.iloc[i,first_nan[i]:].isna().sum() == nb_nan[i])"
   ]
  },
  {
   "cell_type": "code",
   "execution_count": 219,
   "id": "033ced32",
   "metadata": {},
   "outputs": [],
   "source": [
    "deep = 20\n",
    "offset = 15\n",
    "features = [0,1]"
   ]
  },
  {
   "cell_type": "markdown",
   "id": "7ded31a4",
   "metadata": {},
   "source": [
    "**features construction**\n",
    "\n",
    "SHAPE = (n_samples, deep, n_features)"
   ]
  },
  {
   "cell_type": "code",
   "execution_count": 108,
   "id": "b81d448a",
   "metadata": {},
   "outputs": [],
   "source": [
    "df0 = get_df(0)\n",
    "df1 = get_df(1)\n",
    "\n",
    "dfs = [df0,df1]"
   ]
  },
  {
   "cell_type": "code",
   "execution_count": 109,
   "id": "376f05bc",
   "metadata": {},
   "outputs": [
    {
     "data": {
      "text/plain": [
       "34"
      ]
     },
     "execution_count": 109,
     "metadata": {},
     "output_type": "execute_result"
    }
   ],
   "source": [
    "(3000 - dfs[0].iloc[0,:].isna().sum() - deep)//offset"
   ]
  },
  {
   "cell_type": "code",
   "execution_count": 218,
   "id": "9a6ccb99",
   "metadata": {},
   "outputs": [
    {
     "data": {
      "text/plain": [
       "[0, 1]"
      ]
     },
     "execution_count": 218,
     "metadata": {},
     "output_type": "execute_result"
    }
   ],
   "source": [
    "features"
   ]
  },
  {
   "cell_type": "code",
   "execution_count": 112,
   "id": "1a75362b",
   "metadata": {},
   "outputs": [
    {
     "name": "stdout",
     "output_type": "stream",
     "text": [
      "0\n",
      "1\n"
     ]
    }
   ],
   "source": [
    "for k in features:\n",
    "    print(k)"
   ]
  },
  {
   "cell_type": "code",
   "execution_count": 142,
   "id": "208fc42c",
   "metadata": {},
   "outputs": [],
   "source": [
    "list = np.arange(135)\n",
    "train_indexes, test_indexes = train_test_split(list, test_size = 0.3)"
   ]
  },
  {
   "cell_type": "code",
   "execution_count": 173,
   "id": "e1cdd530",
   "metadata": {},
   "outputs": [
    {
     "data": {
      "text/html": [
       "<div>\n",
       "<style scoped>\n",
       "    .dataframe tbody tr th:only-of-type {\n",
       "        vertical-align: middle;\n",
       "    }\n",
       "\n",
       "    .dataframe tbody tr th {\n",
       "        vertical-align: top;\n",
       "    }\n",
       "\n",
       "    .dataframe thead th {\n",
       "        text-align: right;\n",
       "    }\n",
       "</style>\n",
       "<table border=\"1\" class=\"dataframe\">\n",
       "  <thead>\n",
       "    <tr style=\"text-align: right;\">\n",
       "      <th></th>\n",
       "      <th>0</th>\n",
       "      <th>1</th>\n",
       "      <th>2</th>\n",
       "      <th>3</th>\n",
       "      <th>4</th>\n",
       "      <th>5</th>\n",
       "      <th>6</th>\n",
       "      <th>7</th>\n",
       "      <th>8</th>\n",
       "      <th>9</th>\n",
       "      <th>...</th>\n",
       "      <th>2990</th>\n",
       "      <th>2991</th>\n",
       "      <th>2992</th>\n",
       "      <th>2993</th>\n",
       "      <th>2994</th>\n",
       "      <th>2995</th>\n",
       "      <th>2996</th>\n",
       "      <th>2997</th>\n",
       "      <th>2998</th>\n",
       "      <th>2999</th>\n",
       "    </tr>\n",
       "  </thead>\n",
       "  <tbody>\n",
       "    <tr>\n",
       "      <th>0</th>\n",
       "      <td>1.955971</td>\n",
       "      <td>1.068216</td>\n",
       "      <td>1.071550</td>\n",
       "      <td>1.073284</td>\n",
       "      <td>1.074313</td>\n",
       "      <td>1.074273</td>\n",
       "      <td>1.075073</td>\n",
       "      <td>1.075461</td>\n",
       "      <td>1.074811</td>\n",
       "      <td>1.075690</td>\n",
       "      <td>...</td>\n",
       "      <td>NaN</td>\n",
       "      <td>NaN</td>\n",
       "      <td>NaN</td>\n",
       "      <td>NaN</td>\n",
       "      <td>NaN</td>\n",
       "      <td>NaN</td>\n",
       "      <td>NaN</td>\n",
       "      <td>NaN</td>\n",
       "      <td>NaN</td>\n",
       "      <td>NaN</td>\n",
       "    </tr>\n",
       "    <tr>\n",
       "      <th>1</th>\n",
       "      <td>1.537629</td>\n",
       "      <td>1.045153</td>\n",
       "      <td>1.046273</td>\n",
       "      <td>1.047224</td>\n",
       "      <td>1.048035</td>\n",
       "      <td>1.048500</td>\n",
       "      <td>1.048976</td>\n",
       "      <td>1.049321</td>\n",
       "      <td>1.049631</td>\n",
       "      <td>1.049959</td>\n",
       "      <td>...</td>\n",
       "      <td>NaN</td>\n",
       "      <td>NaN</td>\n",
       "      <td>NaN</td>\n",
       "      <td>NaN</td>\n",
       "      <td>NaN</td>\n",
       "      <td>NaN</td>\n",
       "      <td>NaN</td>\n",
       "      <td>NaN</td>\n",
       "      <td>NaN</td>\n",
       "      <td>NaN</td>\n",
       "    </tr>\n",
       "    <tr>\n",
       "      <th>2</th>\n",
       "      <td>1.562989</td>\n",
       "      <td>1.067762</td>\n",
       "      <td>1.068419</td>\n",
       "      <td>1.068996</td>\n",
       "      <td>1.069544</td>\n",
       "      <td>1.070147</td>\n",
       "      <td>1.070362</td>\n",
       "      <td>1.070570</td>\n",
       "      <td>1.069472</td>\n",
       "      <td>1.070858</td>\n",
       "      <td>...</td>\n",
       "      <td>NaN</td>\n",
       "      <td>NaN</td>\n",
       "      <td>NaN</td>\n",
       "      <td>NaN</td>\n",
       "      <td>NaN</td>\n",
       "      <td>NaN</td>\n",
       "      <td>NaN</td>\n",
       "      <td>NaN</td>\n",
       "      <td>NaN</td>\n",
       "      <td>NaN</td>\n",
       "    </tr>\n",
       "    <tr>\n",
       "      <th>3</th>\n",
       "      <td>1.674372</td>\n",
       "      <td>1.076245</td>\n",
       "      <td>1.079046</td>\n",
       "      <td>1.080172</td>\n",
       "      <td>1.080708</td>\n",
       "      <td>1.081207</td>\n",
       "      <td>1.081473</td>\n",
       "      <td>1.081749</td>\n",
       "      <td>1.081788</td>\n",
       "      <td>1.082202</td>\n",
       "      <td>...</td>\n",
       "      <td>NaN</td>\n",
       "      <td>NaN</td>\n",
       "      <td>NaN</td>\n",
       "      <td>NaN</td>\n",
       "      <td>NaN</td>\n",
       "      <td>NaN</td>\n",
       "      <td>NaN</td>\n",
       "      <td>NaN</td>\n",
       "      <td>NaN</td>\n",
       "      <td>NaN</td>\n",
       "    </tr>\n",
       "    <tr>\n",
       "      <th>4</th>\n",
       "      <td>1.678763</td>\n",
       "      <td>1.069159</td>\n",
       "      <td>1.070689</td>\n",
       "      <td>1.071900</td>\n",
       "      <td>1.072510</td>\n",
       "      <td>1.073174</td>\n",
       "      <td>1.073576</td>\n",
       "      <td>1.073992</td>\n",
       "      <td>1.074374</td>\n",
       "      <td>1.074492</td>\n",
       "      <td>...</td>\n",
       "      <td>NaN</td>\n",
       "      <td>NaN</td>\n",
       "      <td>NaN</td>\n",
       "      <td>NaN</td>\n",
       "      <td>NaN</td>\n",
       "      <td>NaN</td>\n",
       "      <td>NaN</td>\n",
       "      <td>NaN</td>\n",
       "      <td>NaN</td>\n",
       "      <td>NaN</td>\n",
       "    </tr>\n",
       "    <tr>\n",
       "      <th>...</th>\n",
       "      <td>...</td>\n",
       "      <td>...</td>\n",
       "      <td>...</td>\n",
       "      <td>...</td>\n",
       "      <td>...</td>\n",
       "      <td>...</td>\n",
       "      <td>...</td>\n",
       "      <td>...</td>\n",
       "      <td>...</td>\n",
       "      <td>...</td>\n",
       "      <td>...</td>\n",
       "      <td>...</td>\n",
       "      <td>...</td>\n",
       "      <td>...</td>\n",
       "      <td>...</td>\n",
       "      <td>...</td>\n",
       "      <td>...</td>\n",
       "      <td>...</td>\n",
       "      <td>...</td>\n",
       "      <td>...</td>\n",
       "      <td>...</td>\n",
       "    </tr>\n",
       "    <tr>\n",
       "      <th>130</th>\n",
       "      <td>1.958772</td>\n",
       "      <td>1.076097</td>\n",
       "      <td>1.080285</td>\n",
       "      <td>1.081616</td>\n",
       "      <td>1.082426</td>\n",
       "      <td>1.082781</td>\n",
       "      <td>1.082832</td>\n",
       "      <td>1.083071</td>\n",
       "      <td>1.083074</td>\n",
       "      <td>1.083026</td>\n",
       "      <td>...</td>\n",
       "      <td>NaN</td>\n",
       "      <td>NaN</td>\n",
       "      <td>NaN</td>\n",
       "      <td>NaN</td>\n",
       "      <td>NaN</td>\n",
       "      <td>NaN</td>\n",
       "      <td>NaN</td>\n",
       "      <td>NaN</td>\n",
       "      <td>NaN</td>\n",
       "      <td>NaN</td>\n",
       "    </tr>\n",
       "    <tr>\n",
       "      <th>131</th>\n",
       "      <td>1.956454</td>\n",
       "      <td>1.069215</td>\n",
       "      <td>1.072897</td>\n",
       "      <td>1.074119</td>\n",
       "      <td>1.074464</td>\n",
       "      <td>1.075239</td>\n",
       "      <td>1.075158</td>\n",
       "      <td>1.075016</td>\n",
       "      <td>1.075095</td>\n",
       "      <td>1.075240</td>\n",
       "      <td>...</td>\n",
       "      <td>NaN</td>\n",
       "      <td>NaN</td>\n",
       "      <td>NaN</td>\n",
       "      <td>NaN</td>\n",
       "      <td>NaN</td>\n",
       "      <td>NaN</td>\n",
       "      <td>NaN</td>\n",
       "      <td>NaN</td>\n",
       "      <td>NaN</td>\n",
       "      <td>NaN</td>\n",
       "    </tr>\n",
       "    <tr>\n",
       "      <th>132</th>\n",
       "      <td>1.964659</td>\n",
       "      <td>1.078678</td>\n",
       "      <td>1.083104</td>\n",
       "      <td>1.084736</td>\n",
       "      <td>1.085765</td>\n",
       "      <td>1.086406</td>\n",
       "      <td>1.086443</td>\n",
       "      <td>1.086896</td>\n",
       "      <td>1.086897</td>\n",
       "      <td>1.087063</td>\n",
       "      <td>...</td>\n",
       "      <td>NaN</td>\n",
       "      <td>NaN</td>\n",
       "      <td>NaN</td>\n",
       "      <td>NaN</td>\n",
       "      <td>NaN</td>\n",
       "      <td>NaN</td>\n",
       "      <td>NaN</td>\n",
       "      <td>NaN</td>\n",
       "      <td>NaN</td>\n",
       "      <td>NaN</td>\n",
       "    </tr>\n",
       "    <tr>\n",
       "      <th>133</th>\n",
       "      <td>1.544849</td>\n",
       "      <td>1.050058</td>\n",
       "      <td>1.051451</td>\n",
       "      <td>1.052050</td>\n",
       "      <td>1.052690</td>\n",
       "      <td>1.053132</td>\n",
       "      <td>1.053410</td>\n",
       "      <td>1.053398</td>\n",
       "      <td>1.053577</td>\n",
       "      <td>1.053582</td>\n",
       "      <td>...</td>\n",
       "      <td>NaN</td>\n",
       "      <td>NaN</td>\n",
       "      <td>NaN</td>\n",
       "      <td>NaN</td>\n",
       "      <td>NaN</td>\n",
       "      <td>NaN</td>\n",
       "      <td>NaN</td>\n",
       "      <td>NaN</td>\n",
       "      <td>NaN</td>\n",
       "      <td>NaN</td>\n",
       "    </tr>\n",
       "    <tr>\n",
       "      <th>134</th>\n",
       "      <td>1.564186</td>\n",
       "      <td>1.068368</td>\n",
       "      <td>1.069483</td>\n",
       "      <td>1.070338</td>\n",
       "      <td>1.070908</td>\n",
       "      <td>1.071424</td>\n",
       "      <td>1.071818</td>\n",
       "      <td>1.072151</td>\n",
       "      <td>1.072294</td>\n",
       "      <td>1.072488</td>\n",
       "      <td>...</td>\n",
       "      <td>NaN</td>\n",
       "      <td>NaN</td>\n",
       "      <td>NaN</td>\n",
       "      <td>NaN</td>\n",
       "      <td>NaN</td>\n",
       "      <td>NaN</td>\n",
       "      <td>NaN</td>\n",
       "      <td>NaN</td>\n",
       "      <td>NaN</td>\n",
       "      <td>NaN</td>\n",
       "    </tr>\n",
       "  </tbody>\n",
       "</table>\n",
       "<p>135 rows × 3000 columns</p>\n",
       "</div>"
      ],
      "text/plain": [
       "            0         1         2         3         4         5         6  \\\n",
       "0    1.955971  1.068216  1.071550  1.073284  1.074313  1.074273  1.075073   \n",
       "1    1.537629  1.045153  1.046273  1.047224  1.048035  1.048500  1.048976   \n",
       "2    1.562989  1.067762  1.068419  1.068996  1.069544  1.070147  1.070362   \n",
       "3    1.674372  1.076245  1.079046  1.080172  1.080708  1.081207  1.081473   \n",
       "4    1.678763  1.069159  1.070689  1.071900  1.072510  1.073174  1.073576   \n",
       "..        ...       ...       ...       ...       ...       ...       ...   \n",
       "130  1.958772  1.076097  1.080285  1.081616  1.082426  1.082781  1.082832   \n",
       "131  1.956454  1.069215  1.072897  1.074119  1.074464  1.075239  1.075158   \n",
       "132  1.964659  1.078678  1.083104  1.084736  1.085765  1.086406  1.086443   \n",
       "133  1.544849  1.050058  1.051451  1.052050  1.052690  1.053132  1.053410   \n",
       "134  1.564186  1.068368  1.069483  1.070338  1.070908  1.071424  1.071818   \n",
       "\n",
       "            7         8         9  ...  2990  2991  2992  2993  2994  2995  \\\n",
       "0    1.075461  1.074811  1.075690  ...   NaN   NaN   NaN   NaN   NaN   NaN   \n",
       "1    1.049321  1.049631  1.049959  ...   NaN   NaN   NaN   NaN   NaN   NaN   \n",
       "2    1.070570  1.069472  1.070858  ...   NaN   NaN   NaN   NaN   NaN   NaN   \n",
       "3    1.081749  1.081788  1.082202  ...   NaN   NaN   NaN   NaN   NaN   NaN   \n",
       "4    1.073992  1.074374  1.074492  ...   NaN   NaN   NaN   NaN   NaN   NaN   \n",
       "..        ...       ...       ...  ...   ...   ...   ...   ...   ...   ...   \n",
       "130  1.083071  1.083074  1.083026  ...   NaN   NaN   NaN   NaN   NaN   NaN   \n",
       "131  1.075016  1.075095  1.075240  ...   NaN   NaN   NaN   NaN   NaN   NaN   \n",
       "132  1.086896  1.086897  1.087063  ...   NaN   NaN   NaN   NaN   NaN   NaN   \n",
       "133  1.053398  1.053577  1.053582  ...   NaN   NaN   NaN   NaN   NaN   NaN   \n",
       "134  1.072151  1.072294  1.072488  ...   NaN   NaN   NaN   NaN   NaN   NaN   \n",
       "\n",
       "     2996  2997  2998  2999  \n",
       "0     NaN   NaN   NaN   NaN  \n",
       "1     NaN   NaN   NaN   NaN  \n",
       "2     NaN   NaN   NaN   NaN  \n",
       "3     NaN   NaN   NaN   NaN  \n",
       "4     NaN   NaN   NaN   NaN  \n",
       "..    ...   ...   ...   ...  \n",
       "130   NaN   NaN   NaN   NaN  \n",
       "131   NaN   NaN   NaN   NaN  \n",
       "132   NaN   NaN   NaN   NaN  \n",
       "133   NaN   NaN   NaN   NaN  \n",
       "134   NaN   NaN   NaN   NaN  \n",
       "\n",
       "[135 rows x 3000 columns]"
      ]
     },
     "execution_count": 173,
     "metadata": {},
     "output_type": "execute_result"
    }
   ],
   "source": [
    "dfs[0]"
   ]
  },
  {
   "cell_type": "code",
   "execution_count": 198,
   "id": "a141b12c",
   "metadata": {},
   "outputs": [
    {
     "data": {
      "text/plain": [
       "2174"
      ]
     },
     "execution_count": 198,
     "metadata": {},
     "output_type": "execute_result"
    }
   ],
   "source": [
    "dfs[0].iloc[1,:].isna().sum()"
   ]
  },
  {
   "cell_type": "code",
   "execution_count": 226,
   "id": "6a427756",
   "metadata": {},
   "outputs": [],
   "source": [
    "np_features = None\n",
    "target = []\n",
    "for i in range(dfs[0].shape[0]):\n",
    "    nb_nan = dfs[0].iloc[i,:].isna().sum()\n",
    "    for j in range((3000 - nb_nan - deep)//offset):\n",
    "        sample = np.zeros((deep,len(features)))\n",
    "        for k in features:\n",
    "            sample[:,k] = np.array(dfs[k].iloc[i,offset * j:offset*j + deep])\n",
    "        if np_features is None:\n",
    "            np_features = sample.reshape(1,20,2)\n",
    "        else:\n",
    "            np_features = np.concatenate([np_features,sample.reshape(1,20,2)], axis = 0)    \n",
    "        \n",
    "        target.append(3000 - (offset*i + deep + nb_nan))\n",
    "\n",
    "target = np.array(target)"
   ]
  },
  {
   "cell_type": "code",
   "execution_count": 227,
   "id": "a281d1d0",
   "metadata": {},
   "outputs": [
    {
     "data": {
      "text/plain": [
       "0"
      ]
     },
     "execution_count": 227,
     "metadata": {},
     "output_type": "execute_result"
    }
   ],
   "source": [
    "np.isnan(np_features).sum()"
   ]
  },
  {
   "cell_type": "code",
   "execution_count": null,
   "id": "341c0c6c",
   "metadata": {},
   "outputs": [],
   "source": []
  },
  {
   "cell_type": "code",
   "execution_count": 228,
   "id": "5e731b1d",
   "metadata": {},
   "outputs": [
    {
     "data": {
      "text/plain": [
       "(7378, 20, 2)"
      ]
     },
     "execution_count": 228,
     "metadata": {},
     "output_type": "execute_result"
    }
   ],
   "source": [
    "np_features.shape"
   ]
  },
  {
   "cell_type": "code",
   "execution_count": 217,
   "id": "c5c295d5",
   "metadata": {},
   "outputs": [
    {
     "data": {
      "text/plain": [
       "525    1.023751\n",
       "526    1.023481\n",
       "527    1.023519\n",
       "528    1.023416\n",
       "529    1.023225\n",
       "530    1.023061\n",
       "531    1.022848\n",
       "532    1.022884\n",
       "533    1.022746\n",
       "534    1.022595\n",
       "535    1.022451\n",
       "536    1.022356\n",
       "537    1.022240\n",
       "538    1.022204\n",
       "539    1.022177\n",
       "540    1.021942\n",
       "541    1.021752\n",
       "542    1.020406\n",
       "543    1.021622\n",
       "544    1.021542\n",
       "Name: 1, dtype: float64"
      ]
     },
     "execution_count": 217,
     "metadata": {},
     "output_type": "execute_result"
    }
   ],
   "source": [
    "dfs[0].iloc[1,525:545]"
   ]
  },
  {
   "cell_type": "code",
   "execution_count": 203,
   "id": "cad4550a",
   "metadata": {},
   "outputs": [
    {
     "data": {
      "text/plain": [
       "795"
      ]
     },
     "execution_count": 203,
     "metadata": {},
     "output_type": "execute_result"
    }
   ],
   "source": [
    "53 * 15"
   ]
  },
  {
   "cell_type": "code",
   "execution_count": 229,
   "id": "983f325f",
   "metadata": {},
   "outputs": [],
   "source": [
    "str = '0001'"
   ]
  },
  {
   "cell_type": "code",
   "execution_count": 230,
   "id": "4886ab37",
   "metadata": {},
   "outputs": [
    {
     "data": {
      "text/plain": [
       "1"
      ]
     },
     "execution_count": 230,
     "metadata": {},
     "output_type": "execute_result"
    }
   ],
   "source": [
    "int(str)"
   ]
  },
  {
   "cell_type": "code",
   "execution_count": 233,
   "id": "45ab48b7",
   "metadata": {},
   "outputs": [
    {
     "data": {
      "text/plain": [
       "2"
      ]
     },
     "execution_count": 233,
     "metadata": {},
     "output_type": "execute_result"
    }
   ],
   "source": [
    "ID = int(str)+1\n",
    "ID"
   ]
  },
  {
   "cell_type": "code",
   "execution_count": null,
   "id": "1de83f8c",
   "metadata": {},
   "outputs": [],
   "source": [
    "str_ID ="
   ]
  },
  {
   "cell_type": "code",
   "execution_count": 234,
   "id": "30d7cd67",
   "metadata": {},
   "outputs": [
    {
     "data": {
      "text/plain": [
       "13"
      ]
     },
     "execution_count": 234,
     "metadata": {},
     "output_type": "execute_result"
    }
   ],
   "source": []
  },
  {
   "cell_type": "code",
   "execution_count": 191,
   "id": "f7f996d5",
   "metadata": {},
   "outputs": [
    {
     "data": {
      "text/plain": [
       "(53, 20, 2)"
      ]
     },
     "execution_count": 191,
     "metadata": {},
     "output_type": "execute_result"
    }
   ],
   "source": [
    "np_features.shape"
   ]
  },
  {
   "cell_type": "code",
   "execution_count": 192,
   "id": "4738c401",
   "metadata": {},
   "outputs": [
    {
     "data": {
      "text/plain": [
       "339"
      ]
     },
     "execution_count": 192,
     "metadata": {},
     "output_type": "execute_result"
    }
   ],
   "source": [
    "np.isnan(np_features).sum()"
   ]
  },
  {
   "cell_type": "code",
   "execution_count": 156,
   "id": "c9691ea1",
   "metadata": {},
   "outputs": [
    {
     "data": {
      "text/plain": [
       "34"
      ]
     },
     "execution_count": 156,
     "metadata": {},
     "output_type": "execute_result"
    }
   ],
   "source": [
    "(3000 - dfs[0].iloc[0,:].isna().sum() - deep)//offset"
   ]
  },
  {
   "cell_type": "code",
   "execution_count": 157,
   "id": "aff1b4a0",
   "metadata": {},
   "outputs": [
    {
     "data": {
      "text/plain": [
       "(34,)"
      ]
     },
     "execution_count": 157,
     "metadata": {},
     "output_type": "execute_result"
    }
   ],
   "source": [
    "target.shape"
   ]
  },
  {
   "cell_type": "code",
   "execution_count": null,
   "id": "5675b84c",
   "metadata": {},
   "outputs": [],
   "source": [
    "nb_nan = df.iloc[0,:].isna().sum()\n",
    "            target = 3000 - (offset*i + deep + nb_nan)\n",
    "            target"
   ]
  },
  {
   "cell_type": "code",
   "execution_count": 92,
   "id": "5fcc4ac5",
   "metadata": {},
   "outputs": [],
   "source": [
    "a = np.array(df.iloc[0,offset * i:offset*i + deep])"
   ]
  },
  {
   "cell_type": "code",
   "execution_count": 93,
   "id": "a8645add",
   "metadata": {},
   "outputs": [],
   "source": [
    "b = np.array(df.iloc[1,offset * i:offset*i + deep])"
   ]
  },
  {
   "cell_type": "code",
   "execution_count": 94,
   "id": "343fb122",
   "metadata": {},
   "outputs": [
    {
     "data": {
      "text/plain": [
       "(2, 20)"
      ]
     },
     "execution_count": 94,
     "metadata": {},
     "output_type": "execute_result"
    }
   ],
   "source": [
    "np.stack([a,b], axis = 0)"
   ]
  },
  {
   "cell_type": "code",
   "execution_count": 71,
   "id": "23103c4a",
   "metadata": {},
   "outputs": [
    {
     "data": {
      "text/plain": [
       "543"
      ]
     },
     "execution_count": 71,
     "metadata": {},
     "output_type": "execute_result"
    }
   ],
   "source": [
    "3000 - nb_nan"
   ]
  },
  {
   "cell_type": "code",
   "execution_count": 66,
   "id": "df3275e2",
   "metadata": {},
   "outputs": [
    {
     "data": {
      "text/plain": [
       "503"
      ]
     },
     "execution_count": 66,
     "metadata": {},
     "output_type": "execute_result"
    }
   ],
   "source": [
    "target"
   ]
  },
  {
   "cell_type": "code",
   "execution_count": null,
   "id": "15066f4e",
   "metadata": {},
   "outputs": [],
   "source": [
    "for i in range(df.shape[0]):\n",
    "    keep = True\n",
    "    while keep == True:\n",
    "        "
   ]
  }
 ],
 "metadata": {
  "kernelspec": {
   "display_name": "Python 3 (ipykernel)",
   "language": "python",
   "name": "python3"
  },
  "language_info": {
   "codemirror_mode": {
    "name": "ipython",
    "version": 3
   },
   "file_extension": ".py",
   "mimetype": "text/x-python",
   "name": "python",
   "nbconvert_exporter": "python",
   "pygments_lexer": "ipython3",
   "version": "3.8.12"
  },
  "toc": {
   "base_numbering": 1,
   "nav_menu": {},
   "number_sections": true,
   "sideBar": true,
   "skip_h1_title": false,
   "title_cell": "Table of Contents",
   "title_sidebar": "Contents",
   "toc_cell": false,
   "toc_position": {},
   "toc_section_display": true,
   "toc_window_display": false
  },
  "varInspector": {
   "cols": {
    "lenName": 16,
    "lenType": 16,
    "lenVar": 40
   },
   "kernels_config": {
    "python": {
     "delete_cmd_postfix": "",
     "delete_cmd_prefix": "del ",
     "library": "var_list.py",
     "varRefreshCmd": "print(var_dic_list())"
    },
    "r": {
     "delete_cmd_postfix": ") ",
     "delete_cmd_prefix": "rm(",
     "library": "var_list.r",
     "varRefreshCmd": "cat(var_dic_list()) "
    }
   },
   "position": {
    "height": "368.15px",
    "left": "775px",
    "right": "20px",
    "top": "56px",
    "width": "595.533px"
   },
   "types_to_exclude": [
    "module",
    "function",
    "builtin_function_or_method",
    "instance",
    "_Feature"
   ],
   "window_display": false
  }
 },
 "nbformat": 4,
 "nbformat_minor": 5
}
