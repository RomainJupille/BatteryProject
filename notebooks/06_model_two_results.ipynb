{
 "cells": [
  {
   "cell_type": "markdown",
   "id": "e0331f7c",
   "metadata": {},
   "source": [
    "**This notebook presents the results of the model one**\n",
    " - Model performances\n",
    " - Best model and its hyper parameters\n",
    " - Testing the model performances"
   ]
  },
  {
   "cell_type": "code",
   "execution_count": 1,
   "id": "9a0a416f",
   "metadata": {},
   "outputs": [],
   "source": [
    "import pandas as pd\n",
    "import numpy as np\n",
    "import seaborn as sns\n",
    "import matplotlib.pyplot as plt\n",
    "import os\n",
    "import joblib\n",
    "\n",
    "from sklearn.metrics import "
   ]
  },
  {
   "cell_type": "code",
   "execution_count": 2,
   "id": "a2d8cb2d",
   "metadata": {},
   "outputs": [
    {
     "data": {
      "text/plain": [
       "'/home/romainj/code/RomainJupille/wagon/Projet_batteries/BatteryProject/BatteryProject/ModelTwo/best_model/models_record.csv'"
      ]
     },
     "execution_count": 2,
     "metadata": {},
     "output_type": "execute_result"
    }
   ],
   "source": [
    "base_url = !pwd\n",
    "base_url = base_url[0]\n",
    "result_path = os.path.normpath(os.path.join(base_url, '..', 'BatteryProject', 'ModelTwo', 'best_model', 'models_record.csv'))\n",
    "result_path"
   ]
  },
  {
   "cell_type": "markdown",
   "id": "805eeaf1",
   "metadata": {},
   "source": [
    "## Results summary"
   ]
  },
  {
   "cell_type": "markdown",
   "id": "2495e8e4",
   "metadata": {},
   "source": [
    "### Results table"
   ]
  },
  {
   "cell_type": "code",
   "execution_count": 3,
   "id": "7ad71cf3",
   "metadata": {},
   "outputs": [
    {
     "data": {
      "text/html": [
       "<div>\n",
       "<style scoped>\n",
       "    .dataframe tbody tr th:only-of-type {\n",
       "        vertical-align: middle;\n",
       "    }\n",
       "\n",
       "    .dataframe tbody tr th {\n",
       "        vertical-align: top;\n",
       "    }\n",
       "\n",
       "    .dataframe thead th {\n",
       "        text-align: right;\n",
       "    }\n",
       "</style>\n",
       "<table border=\"1\" class=\"dataframe\">\n",
       "  <thead>\n",
       "    <tr style=\"text-align: right;\">\n",
       "      <th></th>\n",
       "      <th>Try_ID</th>\n",
       "      <th>deep</th>\n",
       "      <th>offset</th>\n",
       "      <th>Features_disc_capa</th>\n",
       "      <th>Features_dis_ener</th>\n",
       "      <th>Features_char_capa</th>\n",
       "      <th>Features_eff_ener</th>\n",
       "      <th>Features_char_ener</th>\n",
       "      <th>Features_dc_res</th>\n",
       "      <th>Features_temp_avg</th>\n",
       "      <th>...</th>\n",
       "      <th>Metrics_train_eval</th>\n",
       "      <th>Metrics_validation_eval</th>\n",
       "      <th>Metrics_test_eval</th>\n",
       "      <th>Metrics_training_time</th>\n",
       "      <th>Metrics_epochs</th>\n",
       "      <th>HyperParams_unit_type</th>\n",
       "      <th>HyperParams_n_units</th>\n",
       "      <th>HyperParams_n_layer</th>\n",
       "      <th>HyperParams_dropout_rate</th>\n",
       "      <th>HyperParams_dropout_layer</th>\n",
       "    </tr>\n",
       "  </thead>\n",
       "  <tbody>\n",
       "    <tr>\n",
       "      <th>0</th>\n",
       "      <td>1</td>\n",
       "      <td>40</td>\n",
       "      <td>20</td>\n",
       "      <td>X</td>\n",
       "      <td>X</td>\n",
       "      <td>X</td>\n",
       "      <td>X</td>\n",
       "      <td>X</td>\n",
       "      <td>X</td>\n",
       "      <td>X</td>\n",
       "      <td>...</td>\n",
       "      <td>133.137466</td>\n",
       "      <td>124.175156</td>\n",
       "      <td>NaN</td>\n",
       "      <td>299.817230</td>\n",
       "      <td>74</td>\n",
       "      <td>LSTM</td>\n",
       "      <td>4</td>\n",
       "      <td>2</td>\n",
       "      <td>0.2</td>\n",
       "      <td>True</td>\n",
       "    </tr>\n",
       "    <tr>\n",
       "      <th>1</th>\n",
       "      <td>2</td>\n",
       "      <td>40</td>\n",
       "      <td>20</td>\n",
       "      <td>X</td>\n",
       "      <td>X</td>\n",
       "      <td>X</td>\n",
       "      <td>X</td>\n",
       "      <td>X</td>\n",
       "      <td>X</td>\n",
       "      <td>X</td>\n",
       "      <td>...</td>\n",
       "      <td>140.287521</td>\n",
       "      <td>114.931793</td>\n",
       "      <td>NaN</td>\n",
       "      <td>510.918679</td>\n",
       "      <td>122</td>\n",
       "      <td>LSTM</td>\n",
       "      <td>4</td>\n",
       "      <td>2</td>\n",
       "      <td>0.3</td>\n",
       "      <td>True</td>\n",
       "    </tr>\n",
       "    <tr>\n",
       "      <th>2</th>\n",
       "      <td>3</td>\n",
       "      <td>40</td>\n",
       "      <td>20</td>\n",
       "      <td>X</td>\n",
       "      <td>X</td>\n",
       "      <td>X</td>\n",
       "      <td>X</td>\n",
       "      <td>X</td>\n",
       "      <td>X</td>\n",
       "      <td>X</td>\n",
       "      <td>...</td>\n",
       "      <td>136.753708</td>\n",
       "      <td>107.963730</td>\n",
       "      <td>NaN</td>\n",
       "      <td>564.190003</td>\n",
       "      <td>90</td>\n",
       "      <td>LSTM</td>\n",
       "      <td>4</td>\n",
       "      <td>3</td>\n",
       "      <td>0.2</td>\n",
       "      <td>True</td>\n",
       "    </tr>\n",
       "    <tr>\n",
       "      <th>3</th>\n",
       "      <td>4</td>\n",
       "      <td>40</td>\n",
       "      <td>20</td>\n",
       "      <td>X</td>\n",
       "      <td>X</td>\n",
       "      <td>X</td>\n",
       "      <td>X</td>\n",
       "      <td>X</td>\n",
       "      <td>X</td>\n",
       "      <td>X</td>\n",
       "      <td>...</td>\n",
       "      <td>171.190292</td>\n",
       "      <td>163.182724</td>\n",
       "      <td>NaN</td>\n",
       "      <td>498.757485</td>\n",
       "      <td>78</td>\n",
       "      <td>LSTM</td>\n",
       "      <td>4</td>\n",
       "      <td>3</td>\n",
       "      <td>0.3</td>\n",
       "      <td>True</td>\n",
       "    </tr>\n",
       "    <tr>\n",
       "      <th>4</th>\n",
       "      <td>5</td>\n",
       "      <td>40</td>\n",
       "      <td>20</td>\n",
       "      <td>X</td>\n",
       "      <td>X</td>\n",
       "      <td>X</td>\n",
       "      <td>X</td>\n",
       "      <td>X</td>\n",
       "      <td>X</td>\n",
       "      <td>X</td>\n",
       "      <td>...</td>\n",
       "      <td>139.331650</td>\n",
       "      <td>88.480217</td>\n",
       "      <td>NaN</td>\n",
       "      <td>363.565272</td>\n",
       "      <td>86</td>\n",
       "      <td>LSTM</td>\n",
       "      <td>5</td>\n",
       "      <td>2</td>\n",
       "      <td>0.2</td>\n",
       "      <td>True</td>\n",
       "    </tr>\n",
       "    <tr>\n",
       "      <th>5</th>\n",
       "      <td>6</td>\n",
       "      <td>40</td>\n",
       "      <td>20</td>\n",
       "      <td>X</td>\n",
       "      <td>X</td>\n",
       "      <td>X</td>\n",
       "      <td>X</td>\n",
       "      <td>X</td>\n",
       "      <td>X</td>\n",
       "      <td>X</td>\n",
       "      <td>...</td>\n",
       "      <td>129.557938</td>\n",
       "      <td>114.490936</td>\n",
       "      <td>NaN</td>\n",
       "      <td>421.335916</td>\n",
       "      <td>95</td>\n",
       "      <td>LSTM</td>\n",
       "      <td>5</td>\n",
       "      <td>2</td>\n",
       "      <td>0.3</td>\n",
       "      <td>True</td>\n",
       "    </tr>\n",
       "    <tr>\n",
       "      <th>6</th>\n",
       "      <td>7</td>\n",
       "      <td>40</td>\n",
       "      <td>20</td>\n",
       "      <td>X</td>\n",
       "      <td>X</td>\n",
       "      <td>X</td>\n",
       "      <td>X</td>\n",
       "      <td>X</td>\n",
       "      <td>X</td>\n",
       "      <td>X</td>\n",
       "      <td>...</td>\n",
       "      <td>120.917702</td>\n",
       "      <td>122.313721</td>\n",
       "      <td>NaN</td>\n",
       "      <td>803.796381</td>\n",
       "      <td>124</td>\n",
       "      <td>LSTM</td>\n",
       "      <td>5</td>\n",
       "      <td>3</td>\n",
       "      <td>0.2</td>\n",
       "      <td>True</td>\n",
       "    </tr>\n",
       "    <tr>\n",
       "      <th>7</th>\n",
       "      <td>8</td>\n",
       "      <td>40</td>\n",
       "      <td>20</td>\n",
       "      <td>X</td>\n",
       "      <td>X</td>\n",
       "      <td>X</td>\n",
       "      <td>X</td>\n",
       "      <td>X</td>\n",
       "      <td>X</td>\n",
       "      <td>X</td>\n",
       "      <td>...</td>\n",
       "      <td>130.010544</td>\n",
       "      <td>126.530365</td>\n",
       "      <td>NaN</td>\n",
       "      <td>484.084331</td>\n",
       "      <td>74</td>\n",
       "      <td>LSTM</td>\n",
       "      <td>5</td>\n",
       "      <td>3</td>\n",
       "      <td>0.3</td>\n",
       "      <td>True</td>\n",
       "    </tr>\n",
       "    <tr>\n",
       "      <th>8</th>\n",
       "      <td>9</td>\n",
       "      <td>40</td>\n",
       "      <td>40</td>\n",
       "      <td>X</td>\n",
       "      <td>X</td>\n",
       "      <td>X</td>\n",
       "      <td>X</td>\n",
       "      <td>X</td>\n",
       "      <td>X</td>\n",
       "      <td>X</td>\n",
       "      <td>...</td>\n",
       "      <td>151.506409</td>\n",
       "      <td>145.183899</td>\n",
       "      <td>NaN</td>\n",
       "      <td>276.881849</td>\n",
       "      <td>127</td>\n",
       "      <td>LSTM</td>\n",
       "      <td>4</td>\n",
       "      <td>2</td>\n",
       "      <td>0.2</td>\n",
       "      <td>True</td>\n",
       "    </tr>\n",
       "    <tr>\n",
       "      <th>9</th>\n",
       "      <td>10</td>\n",
       "      <td>40</td>\n",
       "      <td>40</td>\n",
       "      <td>X</td>\n",
       "      <td>X</td>\n",
       "      <td>X</td>\n",
       "      <td>X</td>\n",
       "      <td>X</td>\n",
       "      <td>X</td>\n",
       "      <td>X</td>\n",
       "      <td>...</td>\n",
       "      <td>188.181641</td>\n",
       "      <td>160.810806</td>\n",
       "      <td>NaN</td>\n",
       "      <td>348.314061</td>\n",
       "      <td>161</td>\n",
       "      <td>LSTM</td>\n",
       "      <td>4</td>\n",
       "      <td>2</td>\n",
       "      <td>0.3</td>\n",
       "      <td>True</td>\n",
       "    </tr>\n",
       "    <tr>\n",
       "      <th>10</th>\n",
       "      <td>11</td>\n",
       "      <td>40</td>\n",
       "      <td>40</td>\n",
       "      <td>X</td>\n",
       "      <td>X</td>\n",
       "      <td>X</td>\n",
       "      <td>X</td>\n",
       "      <td>X</td>\n",
       "      <td>X</td>\n",
       "      <td>X</td>\n",
       "      <td>...</td>\n",
       "      <td>376.096649</td>\n",
       "      <td>302.597717</td>\n",
       "      <td>NaN</td>\n",
       "      <td>298.311654</td>\n",
       "      <td>92</td>\n",
       "      <td>LSTM</td>\n",
       "      <td>4</td>\n",
       "      <td>3</td>\n",
       "      <td>0.2</td>\n",
       "      <td>True</td>\n",
       "    </tr>\n",
       "    <tr>\n",
       "      <th>11</th>\n",
       "      <td>12</td>\n",
       "      <td>40</td>\n",
       "      <td>40</td>\n",
       "      <td>X</td>\n",
       "      <td>X</td>\n",
       "      <td>X</td>\n",
       "      <td>X</td>\n",
       "      <td>X</td>\n",
       "      <td>X</td>\n",
       "      <td>X</td>\n",
       "      <td>...</td>\n",
       "      <td>158.504578</td>\n",
       "      <td>137.068192</td>\n",
       "      <td>NaN</td>\n",
       "      <td>438.081068</td>\n",
       "      <td>129</td>\n",
       "      <td>LSTM</td>\n",
       "      <td>4</td>\n",
       "      <td>3</td>\n",
       "      <td>0.3</td>\n",
       "      <td>True</td>\n",
       "    </tr>\n",
       "    <tr>\n",
       "      <th>12</th>\n",
       "      <td>13</td>\n",
       "      <td>40</td>\n",
       "      <td>40</td>\n",
       "      <td>X</td>\n",
       "      <td>X</td>\n",
       "      <td>X</td>\n",
       "      <td>X</td>\n",
       "      <td>X</td>\n",
       "      <td>X</td>\n",
       "      <td>X</td>\n",
       "      <td>...</td>\n",
       "      <td>297.978516</td>\n",
       "      <td>247.449875</td>\n",
       "      <td>NaN</td>\n",
       "      <td>235.215080</td>\n",
       "      <td>111</td>\n",
       "      <td>LSTM</td>\n",
       "      <td>5</td>\n",
       "      <td>2</td>\n",
       "      <td>0.2</td>\n",
       "      <td>True</td>\n",
       "    </tr>\n",
       "    <tr>\n",
       "      <th>13</th>\n",
       "      <td>14</td>\n",
       "      <td>40</td>\n",
       "      <td>40</td>\n",
       "      <td>X</td>\n",
       "      <td>X</td>\n",
       "      <td>X</td>\n",
       "      <td>X</td>\n",
       "      <td>X</td>\n",
       "      <td>X</td>\n",
       "      <td>X</td>\n",
       "      <td>...</td>\n",
       "      <td>131.817841</td>\n",
       "      <td>115.274635</td>\n",
       "      <td>NaN</td>\n",
       "      <td>307.736550</td>\n",
       "      <td>146</td>\n",
       "      <td>LSTM</td>\n",
       "      <td>5</td>\n",
       "      <td>2</td>\n",
       "      <td>0.3</td>\n",
       "      <td>True</td>\n",
       "    </tr>\n",
       "    <tr>\n",
       "      <th>14</th>\n",
       "      <td>15</td>\n",
       "      <td>40</td>\n",
       "      <td>40</td>\n",
       "      <td>X</td>\n",
       "      <td>X</td>\n",
       "      <td>X</td>\n",
       "      <td>X</td>\n",
       "      <td>X</td>\n",
       "      <td>X</td>\n",
       "      <td>X</td>\n",
       "      <td>...</td>\n",
       "      <td>270.708893</td>\n",
       "      <td>217.176422</td>\n",
       "      <td>NaN</td>\n",
       "      <td>441.097689</td>\n",
       "      <td>141</td>\n",
       "      <td>LSTM</td>\n",
       "      <td>5</td>\n",
       "      <td>3</td>\n",
       "      <td>0.2</td>\n",
       "      <td>True</td>\n",
       "    </tr>\n",
       "    <tr>\n",
       "      <th>15</th>\n",
       "      <td>16</td>\n",
       "      <td>40</td>\n",
       "      <td>40</td>\n",
       "      <td>X</td>\n",
       "      <td>X</td>\n",
       "      <td>X</td>\n",
       "      <td>X</td>\n",
       "      <td>X</td>\n",
       "      <td>X</td>\n",
       "      <td>X</td>\n",
       "      <td>...</td>\n",
       "      <td>189.074097</td>\n",
       "      <td>153.615372</td>\n",
       "      <td>NaN</td>\n",
       "      <td>445.694659</td>\n",
       "      <td>142</td>\n",
       "      <td>LSTM</td>\n",
       "      <td>5</td>\n",
       "      <td>3</td>\n",
       "      <td>0.3</td>\n",
       "      <td>True</td>\n",
       "    </tr>\n",
       "  </tbody>\n",
       "</table>\n",
       "<p>16 rows × 23 columns</p>\n",
       "</div>"
      ],
      "text/plain": [
       "    Try_ID  deep  offset Features_disc_capa Features_dis_ener  \\\n",
       "0        1    40      20                  X                 X   \n",
       "1        2    40      20                  X                 X   \n",
       "2        3    40      20                  X                 X   \n",
       "3        4    40      20                  X                 X   \n",
       "4        5    40      20                  X                 X   \n",
       "5        6    40      20                  X                 X   \n",
       "6        7    40      20                  X                 X   \n",
       "7        8    40      20                  X                 X   \n",
       "8        9    40      40                  X                 X   \n",
       "9       10    40      40                  X                 X   \n",
       "10      11    40      40                  X                 X   \n",
       "11      12    40      40                  X                 X   \n",
       "12      13    40      40                  X                 X   \n",
       "13      14    40      40                  X                 X   \n",
       "14      15    40      40                  X                 X   \n",
       "15      16    40      40                  X                 X   \n",
       "\n",
       "   Features_char_capa Features_eff_ener Features_char_ener Features_dc_res  \\\n",
       "0                   X                 X                  X               X   \n",
       "1                   X                 X                  X               X   \n",
       "2                   X                 X                  X               X   \n",
       "3                   X                 X                  X               X   \n",
       "4                   X                 X                  X               X   \n",
       "5                   X                 X                  X               X   \n",
       "6                   X                 X                  X               X   \n",
       "7                   X                 X                  X               X   \n",
       "8                   X                 X                  X               X   \n",
       "9                   X                 X                  X               X   \n",
       "10                  X                 X                  X               X   \n",
       "11                  X                 X                  X               X   \n",
       "12                  X                 X                  X               X   \n",
       "13                  X                 X                  X               X   \n",
       "14                  X                 X                  X               X   \n",
       "15                  X                 X                  X               X   \n",
       "\n",
       "   Features_temp_avg  ... Metrics_train_eval Metrics_validation_eval  \\\n",
       "0                  X  ...         133.137466              124.175156   \n",
       "1                  X  ...         140.287521              114.931793   \n",
       "2                  X  ...         136.753708              107.963730   \n",
       "3                  X  ...         171.190292              163.182724   \n",
       "4                  X  ...         139.331650               88.480217   \n",
       "5                  X  ...         129.557938              114.490936   \n",
       "6                  X  ...         120.917702              122.313721   \n",
       "7                  X  ...         130.010544              126.530365   \n",
       "8                  X  ...         151.506409              145.183899   \n",
       "9                  X  ...         188.181641              160.810806   \n",
       "10                 X  ...         376.096649              302.597717   \n",
       "11                 X  ...         158.504578              137.068192   \n",
       "12                 X  ...         297.978516              247.449875   \n",
       "13                 X  ...         131.817841              115.274635   \n",
       "14                 X  ...         270.708893              217.176422   \n",
       "15                 X  ...         189.074097              153.615372   \n",
       "\n",
       "    Metrics_test_eval  Metrics_training_time  Metrics_epochs  \\\n",
       "0                 NaN             299.817230              74   \n",
       "1                 NaN             510.918679             122   \n",
       "2                 NaN             564.190003              90   \n",
       "3                 NaN             498.757485              78   \n",
       "4                 NaN             363.565272              86   \n",
       "5                 NaN             421.335916              95   \n",
       "6                 NaN             803.796381             124   \n",
       "7                 NaN             484.084331              74   \n",
       "8                 NaN             276.881849             127   \n",
       "9                 NaN             348.314061             161   \n",
       "10                NaN             298.311654              92   \n",
       "11                NaN             438.081068             129   \n",
       "12                NaN             235.215080             111   \n",
       "13                NaN             307.736550             146   \n",
       "14                NaN             441.097689             141   \n",
       "15                NaN             445.694659             142   \n",
       "\n",
       "    HyperParams_unit_type  HyperParams_n_units  HyperParams_n_layer  \\\n",
       "0                    LSTM                    4                    2   \n",
       "1                    LSTM                    4                    2   \n",
       "2                    LSTM                    4                    3   \n",
       "3                    LSTM                    4                    3   \n",
       "4                    LSTM                    5                    2   \n",
       "5                    LSTM                    5                    2   \n",
       "6                    LSTM                    5                    3   \n",
       "7                    LSTM                    5                    3   \n",
       "8                    LSTM                    4                    2   \n",
       "9                    LSTM                    4                    2   \n",
       "10                   LSTM                    4                    3   \n",
       "11                   LSTM                    4                    3   \n",
       "12                   LSTM                    5                    2   \n",
       "13                   LSTM                    5                    2   \n",
       "14                   LSTM                    5                    3   \n",
       "15                   LSTM                    5                    3   \n",
       "\n",
       "   HyperParams_dropout_rate  HyperParams_dropout_layer  \n",
       "0                       0.2                       True  \n",
       "1                       0.3                       True  \n",
       "2                       0.2                       True  \n",
       "3                       0.3                       True  \n",
       "4                       0.2                       True  \n",
       "5                       0.3                       True  \n",
       "6                       0.2                       True  \n",
       "7                       0.3                       True  \n",
       "8                       0.2                       True  \n",
       "9                       0.3                       True  \n",
       "10                      0.2                       True  \n",
       "11                      0.3                       True  \n",
       "12                      0.2                       True  \n",
       "13                      0.3                       True  \n",
       "14                      0.2                       True  \n",
       "15                      0.3                       True  \n",
       "\n",
       "[16 rows x 23 columns]"
      ]
     },
     "execution_count": 3,
     "metadata": {},
     "output_type": "execute_result"
    }
   ],
   "source": [
    "results_df = pd.read_csv(result_path).drop(columns = ['Unnamed: 0'])\n",
    "results_df"
   ]
  },
  {
   "cell_type": "markdown",
   "id": "f17a2496",
   "metadata": {},
   "source": [
    "### Results curve"
   ]
  },
  {
   "cell_type": "code",
   "execution_count": 4,
   "id": "20ee4295",
   "metadata": {},
   "outputs": [
    {
     "data": {
      "text/plain": [
       "[<matplotlib.lines.Line2D at 0x7f53fd54e160>]"
      ]
     },
     "execution_count": 4,
     "metadata": {},
     "output_type": "execute_result"
    },
    {
     "data": {
      "image/png": "[encoded data removed]",
      "text/plain": [
       "<Figure size 432x288 with 1 Axes>"
      ]
     },
     "metadata": {
      "needs_background": "light"
     },
     "output_type": "display_data"
    }
   ],
   "source": [
    "plt.plot(results_df['Metrics_validation_eval'].sort_values(ascending = False).values)"
   ]
  },
  {
   "cell_type": "markdown",
   "id": "9a30f5b1",
   "metadata": {},
   "source": [
    "## Impact of features on the model"
   ]
  },
  {
   "cell_type": "markdown",
   "id": "3dc4448d",
   "metadata": {},
   "source": [
    "### Impact of 'offset'"
   ]
  },
  {
   "cell_type": "code",
   "execution_count": 10,
   "id": "d06cb8e0",
   "metadata": {},
   "outputs": [
    {
     "data": {
      "text/html": [
       "<div>\n",
       "<style scoped>\n",
       "    .dataframe tbody tr th:only-of-type {\n",
       "        vertical-align: middle;\n",
       "    }\n",
       "\n",
       "    .dataframe tbody tr th {\n",
       "        vertical-align: top;\n",
       "    }\n",
       "\n",
       "    .dataframe thead th {\n",
       "        text-align: right;\n",
       "    }\n",
       "</style>\n",
       "<table border=\"1\" class=\"dataframe\">\n",
       "  <thead>\n",
       "    <tr style=\"text-align: right;\">\n",
       "      <th></th>\n",
       "      <th>Metrics_validation_eval</th>\n",
       "    </tr>\n",
       "    <tr>\n",
       "      <th>offset</th>\n",
       "      <th></th>\n",
       "    </tr>\n",
       "  </thead>\n",
       "  <tbody>\n",
       "    <tr>\n",
       "      <th>20</th>\n",
       "      <td>120.258580</td>\n",
       "    </tr>\n",
       "    <tr>\n",
       "      <th>40</th>\n",
       "      <td>184.897115</td>\n",
       "    </tr>\n",
       "  </tbody>\n",
       "</table>\n",
       "</div>"
      ],
      "text/plain": [
       "        Metrics_validation_eval\n",
       "offset                         \n",
       "20                   120.258580\n",
       "40                   184.897115"
      ]
     },
     "execution_count": 10,
     "metadata": {},
     "output_type": "execute_result"
    }
   ],
   "source": [
    "tested_feature ='offset'\n",
    "results_df[[tested_feature,'Metrics_validation_eval']].groupby(by = tested_feature).mean()"
   ]
  },
  {
   "cell_type": "markdown",
   "id": "60f96f60",
   "metadata": {},
   "source": [
    "In average a smaller offset helps to model a lot.\n",
    "This result makes sens since a smaller offset leads to a higher number  of samples (even if samples overlap)"
   ]
  },
  {
   "cell_type": "markdown",
   "id": "07c35ff8",
   "metadata": {},
   "source": [
    "### Impact of the number of units"
   ]
  },
  {
   "cell_type": "code",
   "execution_count": 12,
   "id": "1f4b9cef",
   "metadata": {},
   "outputs": [
    {
     "data": {
      "text/html": [
       "<div>\n",
       "<style scoped>\n",
       "    .dataframe tbody tr th:only-of-type {\n",
       "        vertical-align: middle;\n",
       "    }\n",
       "\n",
       "    .dataframe tbody tr th {\n",
       "        vertical-align: top;\n",
       "    }\n",
       "\n",
       "    .dataframe thead th {\n",
       "        text-align: right;\n",
       "    }\n",
       "</style>\n",
       "<table border=\"1\" class=\"dataframe\">\n",
       "  <thead>\n",
       "    <tr style=\"text-align: right;\">\n",
       "      <th></th>\n",
       "      <th>Metrics_validation_eval</th>\n",
       "    </tr>\n",
       "    <tr>\n",
       "      <th>HyperParams_n_units</th>\n",
       "      <th></th>\n",
       "    </tr>\n",
       "  </thead>\n",
       "  <tbody>\n",
       "    <tr>\n",
       "      <th>4</th>\n",
       "      <td>156.989252</td>\n",
       "    </tr>\n",
       "    <tr>\n",
       "      <th>5</th>\n",
       "      <td>148.166443</td>\n",
       "    </tr>\n",
       "  </tbody>\n",
       "</table>\n",
       "</div>"
      ],
      "text/plain": [
       "                     Metrics_validation_eval\n",
       "HyperParams_n_units                         \n",
       "4                                 156.989252\n",
       "5                                 148.166443"
      ]
     },
     "execution_count": 12,
     "metadata": {},
     "output_type": "execute_result"
    }
   ],
   "source": [
    "tested_feature ='HyperParams_n_units'\n",
    "results_df[[tested_feature,'Metrics_validation_eval']].groupby(by = tested_feature).mean()"
   ]
  },
  {
   "cell_type": "markdown",
   "id": "25afbc42",
   "metadata": {},
   "source": [
    "Increasing the number of units in the RNN seems to improve the model performance. \n",
    "However the impact is not significant."
   ]
  },
  {
   "cell_type": "markdown",
   "id": "e64bd386",
   "metadata": {},
   "source": [
    "### Impact of the number of layers"
   ]
  },
  {
   "cell_type": "code",
   "execution_count": 13,
   "id": "09096e48",
   "metadata": {},
   "outputs": [
    {
     "data": {
      "text/html": [
       "<div>\n",
       "<style scoped>\n",
       "    .dataframe tbody tr th:only-of-type {\n",
       "        vertical-align: middle;\n",
       "    }\n",
       "\n",
       "    .dataframe tbody tr th {\n",
       "        vertical-align: top;\n",
       "    }\n",
       "\n",
       "    .dataframe thead th {\n",
       "        text-align: right;\n",
       "    }\n",
       "</style>\n",
       "<table border=\"1\" class=\"dataframe\">\n",
       "  <thead>\n",
       "    <tr style=\"text-align: right;\">\n",
       "      <th></th>\n",
       "      <th>Metrics_validation_eval</th>\n",
       "    </tr>\n",
       "    <tr>\n",
       "      <th>HyperParams_n_layer</th>\n",
       "      <th></th>\n",
       "    </tr>\n",
       "  </thead>\n",
       "  <tbody>\n",
       "    <tr>\n",
       "      <th>2</th>\n",
       "      <td>138.849665</td>\n",
       "    </tr>\n",
       "    <tr>\n",
       "      <th>3</th>\n",
       "      <td>166.306030</td>\n",
       "    </tr>\n",
       "  </tbody>\n",
       "</table>\n",
       "</div>"
      ],
      "text/plain": [
       "                     Metrics_validation_eval\n",
       "HyperParams_n_layer                         \n",
       "2                                 138.849665\n",
       "3                                 166.306030"
      ]
     },
     "execution_count": 13,
     "metadata": {},
     "output_type": "execute_result"
    }
   ],
   "source": [
    "tested_feature ='HyperParams_n_layer'\n",
    "results_df[[tested_feature,'Metrics_validation_eval']].groupby(by = tested_feature).mean()"
   ]
  },
  {
   "cell_type": "markdown",
   "id": "6c94bc87",
   "metadata": {},
   "source": [
    "Increasing the number of layer has a negative impact on the model.\n",
    "The model probably becomes too complex, and struggle to learn"
   ]
  },
  {
   "cell_type": "markdown",
   "id": "b12a229c",
   "metadata": {},
   "source": [
    "### Impact of the number of dropout rate"
   ]
  },
  {
   "cell_type": "code",
   "execution_count": 15,
   "id": "d3835eb2",
   "metadata": {},
   "outputs": [
    {
     "data": {
      "text/html": [
       "<div>\n",
       "<style scoped>\n",
       "    .dataframe tbody tr th:only-of-type {\n",
       "        vertical-align: middle;\n",
       "    }\n",
       "\n",
       "    .dataframe tbody tr th {\n",
       "        vertical-align: top;\n",
       "    }\n",
       "\n",
       "    .dataframe thead th {\n",
       "        text-align: right;\n",
       "    }\n",
       "</style>\n",
       "<table border=\"1\" class=\"dataframe\">\n",
       "  <thead>\n",
       "    <tr style=\"text-align: right;\">\n",
       "      <th></th>\n",
       "      <th>Metrics_validation_eval</th>\n",
       "    </tr>\n",
       "    <tr>\n",
       "      <th>HyperParams_dropout_rate</th>\n",
       "      <th></th>\n",
       "    </tr>\n",
       "  </thead>\n",
       "  <tbody>\n",
       "    <tr>\n",
       "      <th>0.2</th>\n",
       "      <td>169.417592</td>\n",
       "    </tr>\n",
       "    <tr>\n",
       "      <th>0.3</th>\n",
       "      <td>135.738103</td>\n",
       "    </tr>\n",
       "  </tbody>\n",
       "</table>\n",
       "</div>"
      ],
      "text/plain": [
       "                          Metrics_validation_eval\n",
       "HyperParams_dropout_rate                         \n",
       "0.2                                    169.417592\n",
       "0.3                                    135.738103"
      ]
     },
     "execution_count": 15,
     "metadata": {},
     "output_type": "execute_result"
    }
   ],
   "source": [
    "tested_feature ='HyperParams_dropout_rate'\n",
    "results_df[[tested_feature,'Metrics_validation_eval']].groupby(by = tested_feature).mean()"
   ]
  },
  {
   "cell_type": "markdown",
   "id": "7bd0d1cf",
   "metadata": {},
   "source": [
    "A higher dropout rate seems to increase the model performance."
   ]
  },
  {
   "cell_type": "markdown",
   "id": "62f469a9",
   "metadata": {},
   "source": [
    "### Best model"
   ]
  },
  {
   "cell_type": "code",
   "execution_count": 28,
   "id": "90c6190f",
   "metadata": {},
   "outputs": [
    {
     "data": {
      "text/plain": [
       "Try_ID                                5\n",
       "deep                                 40\n",
       "offset                               20\n",
       "Features_disc_capa                    X\n",
       "Features_dis_ener                     X\n",
       "Features_char_capa                    X\n",
       "Features_eff_ener                     X\n",
       "Features_char_ener                    X\n",
       "Features_dc_res                       X\n",
       "Features_temp_avg                     X\n",
       "Features_temp_min                     X\n",
       "Features_temp_max                     X\n",
       "Metrics_baseline             323.675961\n",
       "Metrics_train_eval            139.33165\n",
       "Metrics_validation_eval       88.480217\n",
       "Metrics_test_eval                   NaN\n",
       "Metrics_training_time        363.565272\n",
       "Metrics_epochs                       86\n",
       "HyperParams_unit_type              LSTM\n",
       "HyperParams_n_units                   5\n",
       "HyperParams_n_layer                   2\n",
       "HyperParams_dropout_rate            0.2\n",
       "HyperParams_dropout_layer          True\n",
       "Name: 4, dtype: object"
      ]
     },
     "execution_count": 28,
     "metadata": {},
     "output_type": "execute_result"
    }
   ],
   "source": [
    "best_model = results_df.sort_values(by='Metrics_validation_eval', ascending = True).iloc[0,:]\n",
    "best_model"
   ]
  },
  {
   "cell_type": "code",
   "execution_count": 27,
   "id": "6f2e1527",
   "metadata": {},
   "outputs": [
    {
     "data": {
      "text/plain": [
       "'0005'"
      ]
     },
     "execution_count": 27,
     "metadata": {},
     "output_type": "execute_result"
    }
   ],
   "source": [
    "model_id = str(best_model['Try_ID'])\n",
    "for i in range(4-len(model_id)):\n",
    "    model_id = ''.join(['0',model_id])\n",
    "model_id"
   ]
  },
  {
   "cell_type": "markdown",
   "id": "a4f7348d",
   "metadata": {},
   "source": [
    "## Test of the best model"
   ]
  },
  {
   "cell_type": "markdown",
   "id": "6f0aa11a",
   "metadata": {},
   "source": [
    "### Test of random samples"
   ]
  },
  {
   "cell_type": "code",
   "execution_count": 29,
   "id": "ceb53f30",
   "metadata": {},
   "outputs": [],
   "source": [
    "base_url = !pwd\n",
    "base_url = base_url[0]\n",
    "\n",
    "raw_data_path = os.path.normpath(os.path.join(base_url, '..', '..', 'TransformedData', 'summary_discharge_capacity.csv'))\n",
    "\n",
    "bc_path = os.path.normpath(os.path.join(base_url, '..', 'BatteryProject', 'ModelTwo', 'best_model', f\"bc_{model_id}.csv\"))\n",
    "\n",
    "\n",
    "X_test_path = os.path.normpath(os.path.join(base_url, '..', 'BatteryProject', 'ModelTwo','best_model', f\"X_test_{model_id}.csv\"))\n",
    "X_test_scaled_path = os.path.normpath(os.path.join(base_url, '..', 'BatteryProject', 'ModelTwo', 'best_model', f\"X_test_scaled_{model_id}.csv\"))\n",
    "y_test_path = os.path.normpath(os.path.join(base_url, '..', 'BatteryProject', 'ModelTwo', 'best_model' , f\"y_test_{model_id}.csv\"))\n",
    "model_path = os.path.normpath(os.path.join(base_url, '..', 'BatteryProject', 'ModelTwo', 'best_model' , f\"model_{model_id}.joblib\"))"
   ]
  },
  {
   "cell_type": "code",
   "execution_count": 57,
   "id": "5395c582",
   "metadata": {},
   "outputs": [],
   "source": [
    "deep = best_model['deep']\n",
    "n_feature = np.count_nonzero(best_model.values == 'X') + 1\n",
    "\n",
    "df_raw_data = pd.read_csv(raw_data_path)\n",
    "df_barcode = pd.read_csv(bc_path, header = None)\n",
    "\n",
    "X_test_scaled = np.genfromtxt(X_test_scaled_path, delimiter = ',')\n",
    "X_test_scaled = X_test_scaled.reshape(X_test_scaled.shape[0],deep,n_feature)\n",
    "\n",
    "X_test = np.genfromtxt(X_test_path, delimiter = ',')\n",
    "X_test = X_test.reshape(X_test.shape[0],deep,n_feature)\n",
    "\n",
    "\n",
    "model = joblib.load(model_path)\n",
    "y_test =  pd.read_csv(y_test_path, header = None)\n",
    "\n",
    "predictions = model.predict(X_test_scaled)"
   ]
  },
  {
   "cell_type": "markdown",
   "id": "1b34e330",
   "metadata": {},
   "source": [
    "**RUN THE CELL BELLOW TO TEST THE MODEL WITH RANDOM SAMPLES**"
   ]
  },
  {
   "cell_type": "code",
   "execution_count": 74,
   "id": "55569d09",
   "metadata": {},
   "outputs": [
    {
     "name": "stdout",
     "output_type": "stream",
     "text": [
      "Random number of the tested sample: 172\n",
      "Barcode of the sample: el150800737334\n",
      "Prediction of life-cycles left: 646\n",
      "True number of life-cycles left: 1236\n",
      "Model error: 590\n"
     ]
    },
    {
     "data": {
      "image/png": "[encoded data removed]",
      "text/plain": [
       "<Figure size 576x144 with 1 Axes>"
      ]
     },
     "metadata": {
      "needs_background": "light"
     },
     "output_type": "display_data"
    }
   ],
   "source": [
    "n_features = 4\n",
    "deep = 40\n",
    "\n",
    "n = np.random.randint(0,X_test_scaled.shape[0])\n",
    "y_pred = int(predictions[n,:])\n",
    "y_true = int(y_test.iloc[n,0])\n",
    "barcode = df_barcode.iloc[n,0]\n",
    "last_cycle = int(X_test[n,-1,-1])\n",
    "\n",
    "print(f'Random number of the tested sample: {n}')\n",
    "print(f'Barcode of the sample: {barcode}')\n",
    "print(f'Prediction of life-cycles left: {y_pred}')\n",
    "print(f'True number of life-cycles left: {y_true}')\n",
    "print(f'Model error: {abs(y_true-y_pred)}')\n",
    "\n",
    "fig, axs = plt.subplots(figsize=(8,2))\n",
    "\n",
    "data = df_raw_data[df_raw_data['barcode'] == barcode]\n",
    "sns.scatterplot(y = data.iloc[0,1:last_cycle+1].fillna(0), x =np.arange(0,last_cycle,1), ax = axs, color = 'blue', alpha = 0.5)\n",
    "sns.scatterplot(y = data.iloc[0,1+last_cycle:].fillna(0), x =np.arange(last_cycle,3000,1), ax = axs, color = 'grey', alpha = 0.5)\n",
    "sns.lineplot(y = [0.8, 1.2], x = [last_cycle+y_pred,last_cycle+y_pred],color = 'red')\n",
    "axs.set_ylim(0.8,1.2)\n",
    "axs.set_yticks([0.8,0.9,1.0,1.1,1.2])\n",
    "axs.set_xlim(0,2500)\n",
    "axs.set_xticks(range(0,2501,250))\n",
    "axs.set_ylabel('Capacity (in Ah)')\n",
    "axs.set_xlabel('Number of cycle')\n",
    "axs.tick_params(axis='both', which='major', labelsize=10)"
   ]
  },
  {
   "cell_type": "markdown",
   "id": "8869b7ac",
   "metadata": {},
   "source": [
    "### Global performance of the model"
   ]
  },
  {
   "cell_type": "markdown",
   "id": "f3341644",
   "metadata": {},
   "source": [
    "#### global performance"
   ]
  },
  {
   "cell_type": "markdown",
   "id": "053bc458",
   "metadata": {},
   "source": [
    "**RMSE**"
   ]
  },
  {
   "cell_type": "code",
   "execution_count": 101,
   "id": "31f34ddf",
   "metadata": {},
   "outputs": [],
   "source": [
    "y_pred = predictions\n",
    "y_true = y_test.values\n",
    "rmse = round(np.sqrt(np.mean(np.square((y_true - y_pred)))),1)"
   ]
  },
  {
   "cell_type": "code",
   "execution_count": 102,
   "id": "203ab06e",
   "metadata": {},
   "outputs": [
    {
     "name": "stdout",
     "output_type": "stream",
     "text": [
      "The model rmse is 211.7\n"
     ]
    }
   ],
   "source": [
    "print(f'The model rmse is {rmse}')"
   ]
  },
  {
   "cell_type": "markdown",
   "id": "48e04adb",
   "metadata": {},
   "source": [
    "**Average % error**"
   ]
  },
  {
   "cell_type": "code",
   "execution_count": 135,
   "id": "b1e46079",
   "metadata": {},
   "outputs": [],
   "source": [
    "percent_error = round(np.mean(np.abs(y_pred - y_true)/y_true)*100,1)"
   ]
  },
  {
   "cell_type": "code",
   "execution_count": 136,
   "id": "314a6012",
   "metadata": {},
   "outputs": [
    {
     "name": "stdout",
     "output_type": "stream",
     "text": [
      "In average the model makes a 21.8% error on the number of life-cycles left\n"
     ]
    }
   ],
   "source": [
    "print(f'In average the model makes a {percent_error}% error on the number of life-cycles left')"
   ]
  },
  {
   "cell_type": "markdown",
   "id": "1ec8e303",
   "metadata": {},
   "source": [
    "#### Performance for small life-cycles values"
   ]
  },
  {
   "cell_type": "markdown",
   "id": "cc93d478",
   "metadata": {},
   "source": [
    "**RMSE**"
   ]
  },
  {
   "cell_type": "code",
   "execution_count": 115,
   "id": "e521a5bc",
   "metadata": {},
   "outputs": [],
   "source": [
    "y_pred_small = y_pred[y_true <600]\n",
    "y_true_small = y_true[y_true <600]\n",
    "rmse_small = round(np.sqrt(np.mean(np.square((y_pred_small - y_true_small)))),1)"
   ]
  },
  {
   "cell_type": "code",
   "execution_count": 116,
   "id": "58243fed",
   "metadata": {},
   "outputs": [
    {
     "name": "stdout",
     "output_type": "stream",
     "text": [
      "For batteries that have less than 600 cycles left, the model rmse is 75.3\n"
     ]
    }
   ],
   "source": [
    "print(f'For batteries that have less than 600 cycles left, the model rmse is {rmse_small}')"
   ]
  },
  {
   "cell_type": "markdown",
   "id": "3013d36f",
   "metadata": {},
   "source": [
    "**Average % error**"
   ]
  },
  {
   "cell_type": "code",
   "execution_count": 133,
   "id": "9e05bdfd",
   "metadata": {},
   "outputs": [],
   "source": [
    "percent_error_small = round(np.mean(np.abs(y_pred_small - y_true_small)/y_true_small)*100,1)"
   ]
  },
  {
   "cell_type": "code",
   "execution_count": 134,
   "id": "9bb0aca2",
   "metadata": {},
   "outputs": [
    {
     "name": "stdout",
     "output_type": "stream",
     "text": [
      "19.7% error in average when batteries have less than 600 cycles left\n"
     ]
    }
   ],
   "source": [
    "print(f'{percent_error_small}% error in average when batteries have less than 600 cycles left')"
   ]
  },
  {
   "cell_type": "markdown",
   "id": "2ed10d39",
   "metadata": {},
   "source": [
    "#### Performance for high life-cycles values"
   ]
  },
  {
   "cell_type": "markdown",
   "id": "b8439ffd",
   "metadata": {},
   "source": [
    "**RMSE**"
   ]
  },
  {
   "cell_type": "code",
   "execution_count": 128,
   "id": "07553141",
   "metadata": {},
   "outputs": [],
   "source": [
    "y_pred_high = y_pred[y_true >= 600]\n",
    "y_true_high = y_true[y_true >= 600]\n",
    "rmse_high = round(np.sqrt(np.mean(np.square((y_pred_high - y_true_high)))),1)"
   ]
  },
  {
   "cell_type": "code",
   "execution_count": 129,
   "id": "9858de3b",
   "metadata": {
    "scrolled": true
   },
   "outputs": [
    {
     "name": "stdout",
     "output_type": "stream",
     "text": [
      "For batteries that have less than 600 cycles left, the model rmse is 381.6\n"
     ]
    }
   ],
   "source": [
    "print(f'For samples where the battery has more than 600 cycles left, the model rmse is {rmse_high}')"
   ]
  },
  {
   "cell_type": "markdown",
   "id": "db14a408",
   "metadata": {},
   "source": [
    "**Average % error**"
   ]
  },
  {
   "cell_type": "code",
   "execution_count": 131,
   "id": "f8c257ad",
   "metadata": {},
   "outputs": [],
   "source": [
    "percent_error_high = round(np.mean(np.abs(y_pred_high - y_true_high)/y_true_high)*100,1)"
   ]
  },
  {
   "cell_type": "code",
   "execution_count": 132,
   "id": "57c65eaa",
   "metadata": {},
   "outputs": [
    {
     "name": "stdout",
     "output_type": "stream",
     "text": [
      "27.1% error in average when batteries have more than 600 cycles left\n"
     ]
    }
   ],
   "source": [
    "print(f'{percent_error_high}% error in average when batteries have more than 600 cycles left')"
   ]
  }
 ],
 "metadata": {
  "kernelspec": {
   "display_name": "Python 3 (ipykernel)",
   "language": "python",
   "name": "python3"
  },
  "language_info": {
   "codemirror_mode": {
    "name": "ipython",
    "version": 3
   },
   "file_extension": ".py",
   "mimetype": "text/x-python",
   "name": "python",
   "nbconvert_exporter": "python",
   "pygments_lexer": "ipython3",
   "version": "3.8.12"
  },
  "toc": {
   "base_numbering": 1,
   "nav_menu": {},
   "number_sections": true,
   "sideBar": true,
   "skip_h1_title": false,
   "title_cell": "Table of Contents",
   "title_sidebar": "Contents",
   "toc_cell": false,
   "toc_position": {},
   "toc_section_display": true,
   "toc_window_display": false
  }
 },
 "nbformat": 4,
 "nbformat_minor": 5
}
