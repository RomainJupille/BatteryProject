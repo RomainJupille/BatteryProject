{
 "cells": [
  {
   "cell_type": "markdown",
   "id": "88b37e6a",
   "metadata": {},
   "source": [
    "**This notebook helps to test the class trainer for the model 2**"
   ]
  },
  {
   "cell_type": "code",
   "execution_count": 1,
   "id": "db370db2",
   "metadata": {},
   "outputs": [],
   "source": [
    "import pandas as pd"
   ]
  },
  {
   "cell_type": "code",
   "execution_count": 2,
   "id": "82bae687",
   "metadata": {
    "ExecuteTime": {
     "end_time": "2022-06-22T04:07:24.588889Z",
     "start_time": "2022-06-22T04:07:24.520055Z"
    }
   },
   "outputs": [],
   "source": [
    "%load_ext autoreload\n",
    "%autoreload 2"
   ]
  },
  {
   "cell_type": "code",
   "execution_count": 3,
   "id": "fa3f0cb3",
   "metadata": {
    "ExecuteTime": {
     "end_time": "2022-06-22T04:07:26.869640Z",
     "start_time": "2022-06-22T04:07:26.806186Z"
    }
   },
   "outputs": [],
   "source": [
    "from sklearn.pipeline import Pipeline\n",
    "import numpy as np\n",
    "from sklearn import set_config\n",
    "set_config(display=\"diagram\")\n"
   ]
  },
  {
   "cell_type": "code",
   "execution_count": 4,
   "id": "7e539453",
   "metadata": {
    "ExecuteTime": {
     "end_time": "2022-06-22T04:07:29.337283Z",
     "start_time": "2022-06-22T04:07:29.264379Z"
    },
    "scrolled": false
   },
   "outputs": [
    {
     "name": "stderr",
     "output_type": "stream",
     "text": [
      "2022-11-03 12:19:56.760568: W tensorflow/stream_executor/platform/default/dso_loader.cc:64] Could not load dynamic library 'libcudart.so.11.0'; dlerror: libcudart.so.11.0: cannot open shared object file: No such file or directory\n",
      "2022-11-03 12:19:56.760649: I tensorflow/stream_executor/cuda/cudart_stub.cc:29] Ignore above cudart dlerror if you do not have a GPU set up on your machine.\n",
      "2022-11-03 12:19:58.868173: W tensorflow/stream_executor/platform/default/dso_loader.cc:64] Could not load dynamic library 'libcuda.so.1'; dlerror: libcuda.so.1: cannot open shared object file: No such file or directory\n",
      "2022-11-03 12:19:58.868422: W tensorflow/stream_executor/cuda/cuda_driver.cc:269] failed call to cuInit: UNKNOWN ERROR (303)\n",
      "2022-11-03 12:19:58.868496: I tensorflow/stream_executor/cuda/cuda_diagnostics.cc:156] kernel driver does not appear to be running on this host (LAPTOP-OT3CO2AQ): /proc/driver/nvidia/version does not exist\n",
      "2022-11-03 12:19:58.870360: I tensorflow/core/platform/cpu_feature_guard.cc:151] This TensorFlow binary is optimized with oneAPI Deep Neural Network Library (oneDNN) to use the following CPU instructions in performance-critical operations:  AVX2 FMA\n",
      "To enable them in other operations, rebuild TensorFlow with the appropriate compiler flags.\n"
     ]
    }
   ],
   "source": [
    "from BatteryProject.ModelTwo import trainer\n",
    "from BatteryProject.ModelTwo.loss import root_mean_squared_error \n",
    "\n",
    "features = {\n",
    "    'disc_capa' : 'summary_discharge_capacity.csv',\n",
    "    'dis_ener' : 'summary_discharge_energy.csv',\n",
    "    'temp_avg' : 'summary_temperature_average.csv',\n",
    "    'char_capa' : 'summary_charge_capacity.csv',\n",
    "}"
   ]
  },
  {
   "cell_type": "code",
   "execution_count": 5,
   "id": "4e996d30",
   "metadata": {
    "ExecuteTime": {
     "end_time": "2022-06-22T04:07:32.202203Z",
     "start_time": "2022-06-22T04:07:32.135395Z"
    },
    "scrolled": true
   },
   "outputs": [
    {
     "data": {
      "text/plain": [
       "<BatteryProject.ModelTwo.trainer.Trainer at 0x7fa76c61a640>"
      ]
     },
     "execution_count": 5,
     "metadata": {},
     "output_type": "execute_result"
    }
   ],
   "source": [
    "trainer = trainer.Trainer(features, deep = 40, offset = 20)\n",
    "trainer"
   ]
  },
  {
   "cell_type": "code",
   "execution_count": 6,
   "id": "348b0c68",
   "metadata": {
    "ExecuteTime": {
     "end_time": "2022-06-22T04:08:39.859217Z",
     "start_time": "2022-06-22T04:07:34.703543Z"
    }
   },
   "outputs": [
    {
     "data": {
      "text/plain": [
       "<BatteryProject.ModelTwo.trainer.Trainer at 0x7fa76c61a640>"
      ]
     },
     "execution_count": 6,
     "metadata": {},
     "output_type": "execute_result"
    }
   ],
   "source": [
    "trainer.get_data()"
   ]
  },
  {
   "cell_type": "code",
   "execution_count": 7,
   "id": "a2983838",
   "metadata": {
    "ExecuteTime": {
     "end_time": "2022-06-22T03:09:52.427895Z",
     "start_time": "2022-06-22T03:09:52.362293Z"
    }
   },
   "outputs": [
    {
     "name": "stdout",
     "output_type": "stream",
     "text": [
      "X_train.shape: (2960, 40, 5) y_train.shape: (2960,)\n"
     ]
    }
   ],
   "source": [
    "print(f\"X_train.shape: {trainer.X_train.shape} y_train.shape: {trainer.y_train.shape}\")"
   ]
  },
  {
   "cell_type": "code",
   "execution_count": 8,
   "id": "2ba0b377",
   "metadata": {
    "ExecuteTime": {
     "end_time": "2022-06-22T03:30:43.583334Z",
     "start_time": "2022-06-22T03:30:42.750827Z"
    }
   },
   "outputs": [
    {
     "name": "stdout",
     "output_type": "stream",
     "text": [
      "baseline: 323.6759605729077\n"
     ]
    }
   ],
   "source": [
    "trainer.scaling()\n",
    "trainer.get_baseline()\n",
    "print(\"baseline:\", trainer.baseline)"
   ]
  },
  {
   "cell_type": "code",
   "execution_count": 9,
   "id": "45eed053",
   "metadata": {
    "ExecuteTime": {
     "end_time": "2022-06-22T03:30:05.160408Z",
     "start_time": "2022-06-22T03:30:05.016727Z"
    }
   },
   "outputs": [
    {
     "data": {
      "text/plain": [
       "<BatteryProject.ModelTwo.trainer.Trainer at 0x7fa76c61a640>"
      ]
     },
     "execution_count": 9,
     "metadata": {},
     "output_type": "execute_result"
    }
   ],
   "source": [
    "trainer.set_pipeline()"
   ]
  },
  {
   "cell_type": "code",
   "execution_count": 10,
   "id": "73eda51c",
   "metadata": {
    "ExecuteTime": {
     "end_time": "2022-06-22T03:11:05.525208Z",
     "start_time": "2022-06-22T03:10:35.334564Z"
    }
   },
   "outputs": [
    {
     "name": "stdout",
     "output_type": "stream",
     "text": [
      "Epoch 1/20\n",
      "93/93 [==============================] - 4s 26ms/step - loss: 495914.7812 - root_mean_squared_error: 704.2122 - val_loss: 365050.9062 - val_root_mean_squared_error: 604.1945\n",
      "Epoch 2/20\n",
      "93/93 [==============================] - 2s 22ms/step - loss: 495027.5000 - root_mean_squared_error: 703.5819 - val_loss: 364134.5000 - val_root_mean_squared_error: 603.4356\n",
      "Epoch 3/20\n",
      "93/93 [==============================] - 2s 22ms/step - loss: 493755.7188 - root_mean_squared_error: 702.6776 - val_loss: 362906.7188 - val_root_mean_squared_error: 602.4174\n",
      "Epoch 4/20\n",
      "93/93 [==============================] - 2s 22ms/step - loss: 492172.5312 - root_mean_squared_error: 701.5501 - val_loss: 361469.1562 - val_root_mean_squared_error: 601.2230\n",
      "Epoch 5/20\n",
      "93/93 [==============================] - 2s 23ms/step - loss: 490344.6562 - root_mean_squared_error: 700.2462 - val_loss: 359774.5938 - val_root_mean_squared_error: 599.8121\n",
      "Epoch 6/20\n",
      "93/93 [==============================] - 2s 23ms/step - loss: 488156.5000 - root_mean_squared_error: 698.6819 - val_loss: 357801.7500 - val_root_mean_squared_error: 598.1653\n",
      "Epoch 7/20\n",
      "93/93 [==============================] - 2s 22ms/step - loss: 485533.4062 - root_mean_squared_error: 696.8022 - val_loss: 355452.9375 - val_root_mean_squared_error: 596.1987\n",
      "Epoch 8/20\n",
      "93/93 [==============================] - 2s 23ms/step - loss: 482683.9375 - root_mean_squared_error: 694.7546 - val_loss: 352808.3125 - val_root_mean_squared_error: 593.9767\n",
      "Epoch 9/20\n",
      "93/93 [==============================] - 2s 22ms/step - loss: 479238.6562 - root_mean_squared_error: 692.2706 - val_loss: 349824.3438 - val_root_mean_squared_error: 591.4595\n",
      "Epoch 10/20\n",
      "93/93 [==============================] - 2s 22ms/step - loss: 475593.8750 - root_mean_squared_error: 689.6331 - val_loss: 346474.5000 - val_root_mean_squared_error: 588.6208\n",
      "Epoch 11/20\n",
      "93/93 [==============================] - 2s 22ms/step - loss: 471508.4688 - root_mean_squared_error: 686.6647 - val_loss: 342906.3438 - val_root_mean_squared_error: 585.5820\n",
      "Epoch 12/20\n",
      "93/93 [==============================] - 2s 23ms/step - loss: 467152.2500 - root_mean_squared_error: 683.4854 - val_loss: 339069.5625 - val_root_mean_squared_error: 582.2968\n",
      "Epoch 13/20\n",
      "93/93 [==============================] - 2s 22ms/step - loss: 462015.1875 - root_mean_squared_error: 679.7170 - val_loss: 334890.1875 - val_root_mean_squared_error: 578.6970\n",
      "Epoch 14/20\n",
      "93/93 [==============================] - 2s 22ms/step - loss: 457219.1250 - root_mean_squared_error: 676.1798 - val_loss: 330411.5938 - val_root_mean_squared_error: 574.8144\n",
      "Epoch 15/20\n",
      "93/93 [==============================] - 2s 23ms/step - loss: 451729.8125 - root_mean_squared_error: 672.1085 - val_loss: 325567.5312 - val_root_mean_squared_error: 570.5853\n",
      "Epoch 16/20\n",
      "93/93 [==============================] - 2s 22ms/step - loss: 446184.6562 - root_mean_squared_error: 667.9705 - val_loss: 320595.2500 - val_root_mean_squared_error: 566.2113\n",
      "Epoch 17/20\n",
      "93/93 [==============================] - 2s 22ms/step - loss: 440165.1562 - root_mean_squared_error: 663.4495 - val_loss: 315238.9375 - val_root_mean_squared_error: 561.4614\n",
      "Epoch 18/20\n",
      "93/93 [==============================] - 2s 22ms/step - loss: 434109.0312 - root_mean_squared_error: 658.8695 - val_loss: 309703.4688 - val_root_mean_squared_error: 556.5101\n",
      "Epoch 19/20\n",
      "93/93 [==============================] - 2s 22ms/step - loss: 427889.0938 - root_mean_squared_error: 654.1323 - val_loss: 303821.0312 - val_root_mean_squared_error: 551.1996\n",
      "Epoch 20/20\n",
      "93/93 [==============================] - 2s 22ms/step - loss: 420704.2188 - root_mean_squared_error: 648.6172 - val_loss: 297918.9688 - val_root_mean_squared_error: 545.8195\n"
     ]
    },
    {
     "data": {
      "text/plain": [
       "<BatteryProject.ModelTwo.trainer.Trainer at 0x7fa76c61a640>"
      ]
     },
     "execution_count": 10,
     "metadata": {},
     "output_type": "execute_result"
    }
   ],
   "source": [
    "trainer.run(epochs = 20)"
   ]
  },
  {
   "cell_type": "code",
   "execution_count": 15,
   "id": "e0585afb",
   "metadata": {
    "ExecuteTime": {
     "end_time": "2022-06-22T03:32:38.090313Z",
     "start_time": "2022-06-22T03:32:37.223060Z"
    },
    "scrolled": true
   },
   "outputs": [
    {
     "name": "stdout",
     "output_type": "stream",
     "text": [
      "94/94 [==============================] - 0s 5ms/step - loss: 408045.3750 - root_mean_squared_error: 638.7843\n",
      "29/29 [==============================] - 0s 5ms/step - loss: 289529.7188 - root_mean_squared_error: 538.0797\n",
      "29/29 [==============================] - 0s 5ms/step - loss: 259269.7812 - root_mean_squared_error: 509.1854\n",
      "Mean absolute error: {'eval_train': 638.7843017578125, 'eval_val': 538.0796508789062, 'eval_test': 509.1853942871094}\n"
     ]
    },
    {
     "data": {
      "image/png": "[encoded data removed]",
      "text/plain": [
       "<Figure size 936x288 with 2 Axes>"
      ]
     },
     "metadata": {
      "needs_background": "light"
     },
     "output_type": "display_data"
    }
   ],
   "source": [
    "res = trainer.eval()\n",
    "res\n",
    "print(f'Mean absolute error: {res}')\n",
    "trainer.plot_mse();"
   ]
  },
  {
   "cell_type": "code",
   "execution_count": 17,
   "id": "1381c5e0",
   "metadata": {
    "ExecuteTime": {
     "end_time": "2022-06-22T03:20:37.751751Z",
     "start_time": "2022-06-22T03:20:34.743852Z"
    }
   },
   "outputs": [
    {
     "data": {
      "text/plain": [
       "dict_keys(['disc_capa', 'dis_ener', 'temp_avg', 'char_capa'])"
      ]
     },
     "execution_count": 17,
     "metadata": {},
     "output_type": "execute_result"
    }
   ],
   "source": [
    "trainer.raw_data.keys()"
   ]
  },
  {
   "cell_type": "code",
   "execution_count": 18,
   "id": "e06902e6",
   "metadata": {},
   "outputs": [
    {
     "data": {
      "text/plain": [
       "{'train': array([ 37, 100,  81,  70, 103,  86,  89,  41,  83, 115,  99,  15,   6,\n",
       "         60,  12,  19,  20,  26,  64,  65, 107,  24,  57,  85,  13,  93,\n",
       "         71,  44,  68,  77,  63,  43,  21,  30,  76,  40,  58,  27,  22,\n",
       "         69,  16,   0,  88,  61,   7,  42,  72, 111,  87,  25,  38,  34,\n",
       "         23,  53,  36,  39, 106,  55,  33,  14,  18,  95, 118, 114,  50,\n",
       "        117,  84,  66,  29,  32,  51]),\n",
       " 'val': array([ 52, 104,  49, 108, 101,   3,  79,  73,   5,   9,  92,  91,  11,\n",
       "          1,   4,   8, 109,  10,  35,  45,  47,  28, 110,  75]),\n",
       " 'test': array([ 94,  54,  59, 116,  74,  46,  31,  80,  48,  97,  96,  98,   2,\n",
       "         90, 112,  56, 105, 102,  67,  62,  78,  17,  82, 113])}"
      ]
     },
     "execution_count": 18,
     "metadata": {},
     "output_type": "execute_result"
    }
   ],
   "source": [
    "trainer.split_indexes"
   ]
  },
  {
   "cell_type": "code",
   "execution_count": 31,
   "id": "59ee2e86",
   "metadata": {},
   "outputs": [
    {
     "data": {
      "text/plain": [
       "{'train': [0,\n",
       "  6,\n",
       "  7,\n",
       "  12,\n",
       "  13,\n",
       "  14,\n",
       "  15,\n",
       "  16,\n",
       "  18,\n",
       "  19,\n",
       "  20,\n",
       "  21,\n",
       "  22,\n",
       "  23,\n",
       "  24,\n",
       "  25,\n",
       "  26,\n",
       "  27,\n",
       "  29,\n",
       "  30,\n",
       "  32,\n",
       "  33,\n",
       "  34,\n",
       "  36,\n",
       "  37,\n",
       "  38,\n",
       "  39,\n",
       "  40,\n",
       "  41,\n",
       "  42,\n",
       "  43,\n",
       "  44,\n",
       "  50,\n",
       "  51,\n",
       "  53,\n",
       "  55,\n",
       "  57,\n",
       "  58,\n",
       "  60,\n",
       "  61,\n",
       "  63,\n",
       "  64,\n",
       "  65,\n",
       "  66,\n",
       "  68,\n",
       "  69,\n",
       "  70,\n",
       "  71,\n",
       "  72,\n",
       "  76,\n",
       "  77,\n",
       "  81,\n",
       "  83,\n",
       "  84,\n",
       "  85,\n",
       "  86,\n",
       "  87,\n",
       "  88,\n",
       "  89,\n",
       "  93,\n",
       "  95,\n",
       "  99,\n",
       "  100,\n",
       "  103,\n",
       "  106,\n",
       "  107,\n",
       "  111,\n",
       "  114,\n",
       "  115,\n",
       "  117,\n",
       "  118],\n",
       " 'val': [1,\n",
       "  3,\n",
       "  4,\n",
       "  5,\n",
       "  8,\n",
       "  9,\n",
       "  10,\n",
       "  11,\n",
       "  28,\n",
       "  35,\n",
       "  45,\n",
       "  47,\n",
       "  49,\n",
       "  52,\n",
       "  73,\n",
       "  75,\n",
       "  79,\n",
       "  91,\n",
       "  92,\n",
       "  101,\n",
       "  104,\n",
       "  108,\n",
       "  109,\n",
       "  110],\n",
       " 'test': [2,\n",
       "  17,\n",
       "  31,\n",
       "  46,\n",
       "  48,\n",
       "  54,\n",
       "  56,\n",
       "  59,\n",
       "  62,\n",
       "  67,\n",
       "  74,\n",
       "  78,\n",
       "  80,\n",
       "  82,\n",
       "  90,\n",
       "  94,\n",
       "  96,\n",
       "  97,\n",
       "  98,\n",
       "  102,\n",
       "  105,\n",
       "  112,\n",
       "  113,\n",
       "  116]}"
      ]
     },
     "execution_count": 31,
     "metadata": {},
     "output_type": "execute_result"
    }
   ],
   "source": [
    "dict_indexes = trainer.split_indexes\n",
    "for key in dict_indexes.keys():\n",
    "    dict_indexes[key] = list(set(dict_indexes[key]))\n",
    "\n",
    "dict_indexes"
   ]
  },
  {
   "cell_type": "code",
   "execution_count": null,
   "id": "60de9462",
   "metadata": {},
   "outputs": [],
   "source": []
  }
 ],
 "metadata": {
  "kernelspec": {
   "display_name": "Python 3 (ipykernel)",
   "language": "python",
   "name": "python3"
  },
  "language_info": {
   "codemirror_mode": {
    "name": "ipython",
    "version": 3
   },
   "file_extension": ".py",
   "mimetype": "text/x-python",
   "name": "python",
   "nbconvert_exporter": "python",
   "pygments_lexer": "ipython3",
   "version": "3.8.12"
  },
  "toc": {
   "base_numbering": 1,
   "nav_menu": {},
   "number_sections": true,
   "sideBar": true,
   "skip_h1_title": false,
   "title_cell": "Table of Contents",
   "title_sidebar": "Contents",
   "toc_cell": false,
   "toc_position": {},
   "toc_section_display": true,
   "toc_window_display": false
  }
 },
 "nbformat": 4,
 "nbformat_minor": 5
}
