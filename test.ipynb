{
 "cells": [
  {
   "cell_type": "code",
   "execution_count": 1,
   "id": "82bae687",
   "metadata": {},
   "outputs": [],
   "source": [
    "from BatteryProject.ModelOne import trainer"
   ]
  },
  {
   "cell_type": "code",
   "execution_count": 2,
   "id": "fa3f0cb3",
   "metadata": {},
   "outputs": [],
   "source": [
    "from sklearn.preprocessing import RobustScaler\n",
    "from sklearn.linear_model import LogisticRegression\n",
    "from sklearn.model_selection import GridSearchCV\n",
    "from sklearn.pipeline import Pipeline"
   ]
  },
  {
   "cell_type": "code",
   "execution_count": 3,
   "id": "7e539453",
   "metadata": {},
   "outputs": [],
   "source": [
    "trainer = trainer.Trainer()"
   ]
  },
  {
   "cell_type": "code",
   "execution_count": 4,
   "id": "835c0bd3",
   "metadata": {},
   "outputs": [],
   "source": [
    "features = {\n",
    "        'disc_capa' : 'summary_discharge_capacity.csv',\n",
    "        'dis_ener' : 'summary_discharge_energy.csv',\n",
    "        'temp_avg' : 'summary_temperature_average.csv',\n",
    "        'char_capa' : 'summary_charge_capacity.csv'}"
   ]
  },
  {
   "cell_type": "code",
   "execution_count": 5,
   "id": "f9063423",
   "metadata": {},
   "outputs": [],
   "source": [
    "trainer.features = features"
   ]
  },
  {
   "cell_type": "code",
   "execution_count": 6,
   "id": "1084cbcf",
   "metadata": {},
   "outputs": [
    {
     "data": {
      "text/plain": [
       "[550]"
      ]
     },
     "execution_count": 6,
     "metadata": {},
     "output_type": "execute_result"
    }
   ],
   "source": [
    "trainer.classes"
   ]
  },
  {
   "cell_type": "code",
   "execution_count": 7,
   "id": "fd5d0848",
   "metadata": {},
   "outputs": [
    {
     "data": {
      "text/plain": [
       "5"
      ]
     },
     "execution_count": 7,
     "metadata": {},
     "output_type": "execute_result"
    }
   ],
   "source": [
    "trainer.deep"
   ]
  },
  {
   "cell_type": "code",
   "execution_count": 8,
   "id": "a7a56f2b",
   "metadata": {},
   "outputs": [
    {
     "data": {
      "text/plain": [
       "<BatteryProject.ModelOne.trainer.Trainer at 0x7f40dec4c430>"
      ]
     },
     "execution_count": 8,
     "metadata": {},
     "output_type": "execute_result"
    }
   ],
   "source": [
    "trainer.get_data(features)"
   ]
  },
  {
   "cell_type": "code",
   "execution_count": 9,
   "id": "2a3a3d3b",
   "metadata": {},
   "outputs": [
    {
     "data": {
      "text/plain": [
       "(134, 20)"
      ]
     },
     "execution_count": 9,
     "metadata": {},
     "output_type": "execute_result"
    }
   ],
   "source": [
    "trainer.features.shape"
   ]
  },
  {
   "cell_type": "code",
   "execution_count": 10,
   "id": "47faf742",
   "metadata": {},
   "outputs": [
    {
     "data": {
      "text/plain": [
       "(134,)"
      ]
     },
     "execution_count": 10,
     "metadata": {},
     "output_type": "execute_result"
    }
   ],
   "source": [
    "trainer.target.shape"
   ]
  },
  {
   "cell_type": "code",
   "execution_count": 11,
   "id": "b7893a68",
   "metadata": {},
   "outputs": [
    {
     "data": {
      "text/plain": [
       "<BatteryProject.ModelOne.trainer.Trainer at 0x7f40dec4c430>"
      ]
     },
     "execution_count": 11,
     "metadata": {},
     "output_type": "execute_result"
    }
   ],
   "source": [
    "trainer.set_pipeline()"
   ]
  },
  {
   "cell_type": "code",
   "execution_count": 10,
   "id": "73eda51c",
   "metadata": {},
   "outputs": [
    {
     "data": {
      "text/plain": [
       "{'memory': None,\n",
       " 'steps': [('scaler', RobustScaler()),\n",
       "  ('model', LogisticRegression(max_iter=1000))],\n",
       " 'verbose': False,\n",
       " 'scaler': RobustScaler(),\n",
       " 'model': LogisticRegression(max_iter=1000),\n",
       " 'scaler__copy': True,\n",
       " 'scaler__quantile_range': (25.0, 75.0),\n",
       " 'scaler__unit_variance': False,\n",
       " 'scaler__with_centering': True,\n",
       " 'scaler__with_scaling': True,\n",
       " 'model__C': 1.0,\n",
       " 'model__class_weight': None,\n",
       " 'model__dual': False,\n",
       " 'model__fit_intercept': True,\n",
       " 'model__intercept_scaling': 1,\n",
       " 'model__l1_ratio': None,\n",
       " 'model__max_iter': 1000,\n",
       " 'model__multi_class': 'auto',\n",
       " 'model__n_jobs': None,\n",
       " 'model__penalty': 'l2',\n",
       " 'model__random_state': None,\n",
       " 'model__solver': 'lbfgs',\n",
       " 'model__tol': 0.0001,\n",
       " 'model__verbose': 0,\n",
       " 'model__warm_start': False}"
      ]
     },
     "execution_count": 10,
     "metadata": {},
     "output_type": "execute_result"
    }
   ],
   "source": [
    "trainer.pipeline.get_params()"
   ]
  },
  {
   "cell_type": "code",
   "execution_count": 14,
   "id": "cb15b411",
   "metadata": {},
   "outputs": [],
   "source": [
    "grid = {'model__penalty' : ['l2', 'none'],\n",
    "        'model__solver' : ['lbfgs', 'sag'],\n",
    "        'model__C' : [0.1, 0.5, 1.0, 5.0, 10.0] }"
   ]
  },
  {
   "cell_type": "code",
   "execution_count": 15,
   "id": "79e8cd5f",
   "metadata": {},
   "outputs": [
    {
     "data": {
      "text/plain": [
       "<BatteryProject.ModelOne.trainer.Trainer at 0x7f40dec4c430>"
      ]
     },
     "execution_count": 15,
     "metadata": {},
     "output_type": "execute_result"
    }
   ],
   "source": [
    "trainer.run(grid)"
   ]
  },
  {
   "cell_type": "code",
   "execution_count": 26,
   "id": "8db9b3e1",
   "metadata": {},
   "outputs": [
    {
     "data": {
      "text/plain": [
       "10    True\n",
       "11    True\n",
       "12    True\n",
       "13    True\n",
       "15    True\n",
       "Name: 549, dtype: bool"
      ]
     },
     "execution_count": 26,
     "metadata": {},
     "output_type": "execute_result"
    }
   ],
   "source": [
    "trainer.grid_search.best_estimator_.predict(trainer.features.iloc[10:15,:]) == trainer.target.iloc[10:15]"
   ]
  },
  {
   "cell_type": "code",
   "execution_count": null,
   "id": "3586964c",
   "metadata": {},
   "outputs": [],
   "source": []
  }
 ],
 "metadata": {
  "kernelspec": {
   "display_name": "Python 3 (ipykernel)",
   "language": "python",
   "name": "python3"
  },
  "language_info": {
   "codemirror_mode": {
    "name": "ipython",
    "version": 3
   },
   "file_extension": ".py",
   "mimetype": "text/x-python",
   "name": "python",
   "nbconvert_exporter": "python",
   "pygments_lexer": "ipython3",
   "version": "3.8.12"
  },
  "toc": {
   "base_numbering": 1,
   "nav_menu": {},
   "number_sections": true,
   "sideBar": true,
   "skip_h1_title": false,
   "title_cell": "Table of Contents",
   "title_sidebar": "Contents",
   "toc_cell": false,
   "toc_position": {},
   "toc_section_display": true,
   "toc_window_display": false
  }
 },
 "nbformat": 4,
 "nbformat_minor": 5
}
